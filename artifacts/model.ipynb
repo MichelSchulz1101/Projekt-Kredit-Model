{
 "cells": [
  {
   "cell_type": "markdown",
   "id": "7e048799",
   "metadata": {},
   "source": [
    "# Projekt \"Credit Risk Modeling\""
   ]
  },
  {
   "cell_type": "markdown",
   "id": "e58f95cf",
   "metadata": {},
   "source": [
    "## 1. Daten erkunden"
   ]
  },
  {
   "cell_type": "code",
   "execution_count": 1,
   "id": "ce588f4d",
   "metadata": {},
   "outputs": [],
   "source": [
    "import pandas as pd\n",
    "import math\n",
    "import plotly.graph_objects as go\n",
    "from plotly.subplots import make_subplots\n",
    "import plotly.express as px\n",
    "from sklearn.preprocessing import LabelEncoder\n",
    "import joblib\n",
    "from sklearn.model_selection import train_test_split\n",
    "from sklearn.tree import DecisionTreeClassifier\n",
    "from sklearn.ensemble import RandomForestClassifier, ExtraTreesClassifier\n",
    "from xgboost import XGBClassifier\n",
    "from sklearn.metrics import accuracy_score\n",
    "from sklearn.model_selection import GridSearchCV"
   ]
  },
  {
   "cell_type": "code",
   "execution_count": 2,
   "id": "1943487d",
   "metadata": {},
   "outputs": [
    {
     "data": {
      "application/vnd.microsoft.datawrangler.viewer.v0+json": {
       "columns": [
        {
         "name": "index",
         "rawType": "int64",
         "type": "integer"
        },
        {
         "name": "Unnamed: 0",
         "rawType": "int64",
         "type": "integer"
        },
        {
         "name": "Age",
         "rawType": "int64",
         "type": "integer"
        },
        {
         "name": "Sex",
         "rawType": "object",
         "type": "string"
        },
        {
         "name": "Job",
         "rawType": "int64",
         "type": "integer"
        },
        {
         "name": "Housing",
         "rawType": "object",
         "type": "string"
        },
        {
         "name": "Saving accounts",
         "rawType": "object",
         "type": "unknown"
        },
        {
         "name": "Checking account",
         "rawType": "object",
         "type": "unknown"
        },
        {
         "name": "Credit amount",
         "rawType": "int64",
         "type": "integer"
        },
        {
         "name": "Duration",
         "rawType": "int64",
         "type": "integer"
        },
        {
         "name": "Purpose",
         "rawType": "object",
         "type": "string"
        },
        {
         "name": "Risk",
         "rawType": "object",
         "type": "string"
        }
       ],
       "ref": "cc809491-61a4-4a3f-a089-110384717a17",
       "rows": [
        [
         "0",
         "0",
         "67",
         "male",
         "2",
         "own",
         null,
         "little",
         "1169",
         "6",
         "radio/TV",
         "good"
        ],
        [
         "1",
         "1",
         "22",
         "female",
         "2",
         "own",
         "little",
         "moderate",
         "5951",
         "48",
         "radio/TV",
         "bad"
        ],
        [
         "2",
         "2",
         "49",
         "male",
         "1",
         "own",
         "little",
         null,
         "2096",
         "12",
         "education",
         "good"
        ],
        [
         "3",
         "3",
         "45",
         "male",
         "2",
         "free",
         "little",
         "little",
         "7882",
         "42",
         "furniture/equipment",
         "good"
        ],
        [
         "4",
         "4",
         "53",
         "male",
         "2",
         "free",
         "little",
         "little",
         "4870",
         "24",
         "car",
         "bad"
        ],
        [
         "5",
         "5",
         "35",
         "male",
         "1",
         "free",
         null,
         null,
         "9055",
         "36",
         "education",
         "good"
        ],
        [
         "6",
         "6",
         "53",
         "male",
         "2",
         "own",
         "quite rich",
         null,
         "2835",
         "24",
         "furniture/equipment",
         "good"
        ],
        [
         "7",
         "7",
         "35",
         "male",
         "3",
         "rent",
         "little",
         "moderate",
         "6948",
         "36",
         "car",
         "good"
        ],
        [
         "8",
         "8",
         "61",
         "male",
         "1",
         "own",
         "rich",
         null,
         "3059",
         "12",
         "radio/TV",
         "good"
        ],
        [
         "9",
         "9",
         "28",
         "male",
         "3",
         "own",
         "little",
         "moderate",
         "5234",
         "30",
         "car",
         "bad"
        ],
        [
         "10",
         "10",
         "25",
         "female",
         "2",
         "rent",
         "little",
         "moderate",
         "1295",
         "12",
         "car",
         "bad"
        ],
        [
         "11",
         "11",
         "24",
         "female",
         "2",
         "rent",
         "little",
         "little",
         "4308",
         "48",
         "business",
         "bad"
        ],
        [
         "12",
         "12",
         "22",
         "female",
         "2",
         "own",
         "little",
         "moderate",
         "1567",
         "12",
         "radio/TV",
         "good"
        ],
        [
         "13",
         "13",
         "60",
         "male",
         "1",
         "own",
         "little",
         "little",
         "1199",
         "24",
         "car",
         "bad"
        ],
        [
         "14",
         "14",
         "28",
         "female",
         "2",
         "rent",
         "little",
         "little",
         "1403",
         "15",
         "car",
         "good"
        ],
        [
         "15",
         "15",
         "32",
         "female",
         "1",
         "own",
         "moderate",
         "little",
         "1282",
         "24",
         "radio/TV",
         "bad"
        ],
        [
         "16",
         "16",
         "53",
         "male",
         "2",
         "own",
         null,
         null,
         "2424",
         "24",
         "radio/TV",
         "good"
        ],
        [
         "17",
         "17",
         "25",
         "male",
         "2",
         "own",
         null,
         "little",
         "8072",
         "30",
         "business",
         "good"
        ],
        [
         "18",
         "18",
         "44",
         "female",
         "3",
         "free",
         "little",
         "moderate",
         "12579",
         "24",
         "car",
         "bad"
        ],
        [
         "19",
         "19",
         "31",
         "male",
         "2",
         "own",
         "quite rich",
         null,
         "3430",
         "24",
         "radio/TV",
         "good"
        ],
        [
         "20",
         "20",
         "48",
         "male",
         "2",
         "own",
         "little",
         null,
         "2134",
         "9",
         "car",
         "good"
        ],
        [
         "21",
         "21",
         "44",
         "male",
         "2",
         "rent",
         "quite rich",
         "little",
         "2647",
         "6",
         "radio/TV",
         "good"
        ],
        [
         "22",
         "22",
         "48",
         "male",
         "1",
         "rent",
         "little",
         "little",
         "2241",
         "10",
         "car",
         "good"
        ],
        [
         "23",
         "23",
         "44",
         "male",
         "2",
         "own",
         "moderate",
         "moderate",
         "1804",
         "12",
         "car",
         "good"
        ],
        [
         "24",
         "24",
         "26",
         "male",
         "2",
         "own",
         null,
         null,
         "2069",
         "10",
         "furniture/equipment",
         "good"
        ],
        [
         "25",
         "25",
         "36",
         "male",
         "1",
         "own",
         "little",
         "little",
         "1374",
         "6",
         "furniture/equipment",
         "good"
        ],
        [
         "26",
         "26",
         "39",
         "male",
         "1",
         "own",
         "little",
         null,
         "426",
         "6",
         "radio/TV",
         "good"
        ],
        [
         "27",
         "27",
         "42",
         "female",
         "2",
         "rent",
         "rich",
         "rich",
         "409",
         "12",
         "radio/TV",
         "good"
        ],
        [
         "28",
         "28",
         "34",
         "male",
         "2",
         "own",
         "little",
         "moderate",
         "2415",
         "7",
         "radio/TV",
         "good"
        ],
        [
         "29",
         "29",
         "63",
         "male",
         "2",
         "own",
         "little",
         "little",
         "6836",
         "60",
         "business",
         "bad"
        ],
        [
         "30",
         "30",
         "36",
         "male",
         "2",
         "own",
         "rich",
         "moderate",
         "1913",
         "18",
         "business",
         "good"
        ],
        [
         "31",
         "31",
         "27",
         "male",
         "2",
         "own",
         "little",
         "little",
         "4020",
         "24",
         "furniture/equipment",
         "good"
        ],
        [
         "32",
         "32",
         "30",
         "male",
         "2",
         "own",
         "moderate",
         "moderate",
         "5866",
         "18",
         "car",
         "good"
        ],
        [
         "33",
         "33",
         "57",
         "male",
         "1",
         "rent",
         null,
         null,
         "1264",
         "12",
         "business",
         "good"
        ],
        [
         "34",
         "34",
         "33",
         "female",
         "3",
         "own",
         "little",
         "rich",
         "1474",
         "12",
         "furniture/equipment",
         "good"
        ],
        [
         "35",
         "35",
         "25",
         "male",
         "1",
         "own",
         "little",
         "moderate",
         "4746",
         "45",
         "radio/TV",
         "bad"
        ],
        [
         "36",
         "36",
         "31",
         "male",
         "2",
         "free",
         "little",
         null,
         "6110",
         "48",
         "education",
         "good"
        ],
        [
         "37",
         "37",
         "37",
         "male",
         "2",
         "own",
         "little",
         "rich",
         "2100",
         "18",
         "radio/TV",
         "bad"
        ],
        [
         "38",
         "38",
         "37",
         "male",
         "2",
         "own",
         "little",
         "rich",
         "1225",
         "10",
         "domestic appliances",
         "good"
        ],
        [
         "39",
         "39",
         "24",
         "male",
         "2",
         "own",
         "little",
         "moderate",
         "458",
         "9",
         "radio/TV",
         "good"
        ],
        [
         "40",
         "40",
         "30",
         "male",
         "3",
         "own",
         "quite rich",
         null,
         "2333",
         "30",
         "radio/TV",
         "good"
        ],
        [
         "41",
         "41",
         "26",
         "male",
         "2",
         "own",
         "quite rich",
         "moderate",
         "1158",
         "12",
         "radio/TV",
         "good"
        ],
        [
         "42",
         "42",
         "44",
         "male",
         "1",
         "own",
         "little",
         "moderate",
         "6204",
         "18",
         "repairs",
         "good"
        ],
        [
         "43",
         "43",
         "24",
         "male",
         "2",
         "rent",
         "moderate",
         "little",
         "6187",
         "30",
         "car",
         "good"
        ],
        [
         "44",
         "44",
         "58",
         "female",
         "1",
         "free",
         "little",
         "little",
         "6143",
         "48",
         "car",
         "bad"
        ],
        [
         "45",
         "45",
         "35",
         "female",
         "3",
         "own",
         "little",
         null,
         "1393",
         "11",
         "car",
         "good"
        ],
        [
         "46",
         "46",
         "39",
         "male",
         "2",
         "own",
         "quite rich",
         null,
         "2299",
         "36",
         "radio/TV",
         "good"
        ],
        [
         "47",
         "47",
         "23",
         "female",
         "0",
         "rent",
         "quite rich",
         "little",
         "1352",
         "6",
         "car",
         "good"
        ],
        [
         "48",
         "48",
         "39",
         "male",
         "1",
         "own",
         "little",
         null,
         "7228",
         "11",
         "car",
         "good"
        ],
        [
         "49",
         "49",
         "28",
         "female",
         "2",
         "own",
         "moderate",
         null,
         "2073",
         "12",
         "radio/TV",
         "good"
        ]
       ],
       "shape": {
        "columns": 11,
        "rows": 1000
       }
      },
      "text/html": [
       "<div>\n",
       "<style scoped>\n",
       "    .dataframe tbody tr th:only-of-type {\n",
       "        vertical-align: middle;\n",
       "    }\n",
       "\n",
       "    .dataframe tbody tr th {\n",
       "        vertical-align: top;\n",
       "    }\n",
       "\n",
       "    .dataframe thead th {\n",
       "        text-align: right;\n",
       "    }\n",
       "</style>\n",
       "<table border=\"1\" class=\"dataframe\">\n",
       "  <thead>\n",
       "    <tr style=\"text-align: right;\">\n",
       "      <th></th>\n",
       "      <th>Unnamed: 0</th>\n",
       "      <th>Age</th>\n",
       "      <th>Sex</th>\n",
       "      <th>Job</th>\n",
       "      <th>Housing</th>\n",
       "      <th>Saving accounts</th>\n",
       "      <th>Checking account</th>\n",
       "      <th>Credit amount</th>\n",
       "      <th>Duration</th>\n",
       "      <th>Purpose</th>\n",
       "      <th>Risk</th>\n",
       "    </tr>\n",
       "  </thead>\n",
       "  <tbody>\n",
       "    <tr>\n",
       "      <th>0</th>\n",
       "      <td>0</td>\n",
       "      <td>67</td>\n",
       "      <td>male</td>\n",
       "      <td>2</td>\n",
       "      <td>own</td>\n",
       "      <td>NaN</td>\n",
       "      <td>little</td>\n",
       "      <td>1169</td>\n",
       "      <td>6</td>\n",
       "      <td>radio/TV</td>\n",
       "      <td>good</td>\n",
       "    </tr>\n",
       "    <tr>\n",
       "      <th>1</th>\n",
       "      <td>1</td>\n",
       "      <td>22</td>\n",
       "      <td>female</td>\n",
       "      <td>2</td>\n",
       "      <td>own</td>\n",
       "      <td>little</td>\n",
       "      <td>moderate</td>\n",
       "      <td>5951</td>\n",
       "      <td>48</td>\n",
       "      <td>radio/TV</td>\n",
       "      <td>bad</td>\n",
       "    </tr>\n",
       "    <tr>\n",
       "      <th>2</th>\n",
       "      <td>2</td>\n",
       "      <td>49</td>\n",
       "      <td>male</td>\n",
       "      <td>1</td>\n",
       "      <td>own</td>\n",
       "      <td>little</td>\n",
       "      <td>NaN</td>\n",
       "      <td>2096</td>\n",
       "      <td>12</td>\n",
       "      <td>education</td>\n",
       "      <td>good</td>\n",
       "    </tr>\n",
       "    <tr>\n",
       "      <th>3</th>\n",
       "      <td>3</td>\n",
       "      <td>45</td>\n",
       "      <td>male</td>\n",
       "      <td>2</td>\n",
       "      <td>free</td>\n",
       "      <td>little</td>\n",
       "      <td>little</td>\n",
       "      <td>7882</td>\n",
       "      <td>42</td>\n",
       "      <td>furniture/equipment</td>\n",
       "      <td>good</td>\n",
       "    </tr>\n",
       "    <tr>\n",
       "      <th>4</th>\n",
       "      <td>4</td>\n",
       "      <td>53</td>\n",
       "      <td>male</td>\n",
       "      <td>2</td>\n",
       "      <td>free</td>\n",
       "      <td>little</td>\n",
       "      <td>little</td>\n",
       "      <td>4870</td>\n",
       "      <td>24</td>\n",
       "      <td>car</td>\n",
       "      <td>bad</td>\n",
       "    </tr>\n",
       "    <tr>\n",
       "      <th>...</th>\n",
       "      <td>...</td>\n",
       "      <td>...</td>\n",
       "      <td>...</td>\n",
       "      <td>...</td>\n",
       "      <td>...</td>\n",
       "      <td>...</td>\n",
       "      <td>...</td>\n",
       "      <td>...</td>\n",
       "      <td>...</td>\n",
       "      <td>...</td>\n",
       "      <td>...</td>\n",
       "    </tr>\n",
       "    <tr>\n",
       "      <th>995</th>\n",
       "      <td>995</td>\n",
       "      <td>31</td>\n",
       "      <td>female</td>\n",
       "      <td>1</td>\n",
       "      <td>own</td>\n",
       "      <td>little</td>\n",
       "      <td>NaN</td>\n",
       "      <td>1736</td>\n",
       "      <td>12</td>\n",
       "      <td>furniture/equipment</td>\n",
       "      <td>good</td>\n",
       "    </tr>\n",
       "    <tr>\n",
       "      <th>996</th>\n",
       "      <td>996</td>\n",
       "      <td>40</td>\n",
       "      <td>male</td>\n",
       "      <td>3</td>\n",
       "      <td>own</td>\n",
       "      <td>little</td>\n",
       "      <td>little</td>\n",
       "      <td>3857</td>\n",
       "      <td>30</td>\n",
       "      <td>car</td>\n",
       "      <td>good</td>\n",
       "    </tr>\n",
       "    <tr>\n",
       "      <th>997</th>\n",
       "      <td>997</td>\n",
       "      <td>38</td>\n",
       "      <td>male</td>\n",
       "      <td>2</td>\n",
       "      <td>own</td>\n",
       "      <td>little</td>\n",
       "      <td>NaN</td>\n",
       "      <td>804</td>\n",
       "      <td>12</td>\n",
       "      <td>radio/TV</td>\n",
       "      <td>good</td>\n",
       "    </tr>\n",
       "    <tr>\n",
       "      <th>998</th>\n",
       "      <td>998</td>\n",
       "      <td>23</td>\n",
       "      <td>male</td>\n",
       "      <td>2</td>\n",
       "      <td>free</td>\n",
       "      <td>little</td>\n",
       "      <td>little</td>\n",
       "      <td>1845</td>\n",
       "      <td>45</td>\n",
       "      <td>radio/TV</td>\n",
       "      <td>bad</td>\n",
       "    </tr>\n",
       "    <tr>\n",
       "      <th>999</th>\n",
       "      <td>999</td>\n",
       "      <td>27</td>\n",
       "      <td>male</td>\n",
       "      <td>2</td>\n",
       "      <td>own</td>\n",
       "      <td>moderate</td>\n",
       "      <td>moderate</td>\n",
       "      <td>4576</td>\n",
       "      <td>45</td>\n",
       "      <td>car</td>\n",
       "      <td>good</td>\n",
       "    </tr>\n",
       "  </tbody>\n",
       "</table>\n",
       "<p>1000 rows × 11 columns</p>\n",
       "</div>"
      ],
      "text/plain": [
       "     Unnamed: 0  Age     Sex  Job Housing Saving accounts Checking account  \\\n",
       "0             0   67    male    2     own             NaN           little   \n",
       "1             1   22  female    2     own          little         moderate   \n",
       "2             2   49    male    1     own          little              NaN   \n",
       "3             3   45    male    2    free          little           little   \n",
       "4             4   53    male    2    free          little           little   \n",
       "..          ...  ...     ...  ...     ...             ...              ...   \n",
       "995         995   31  female    1     own          little              NaN   \n",
       "996         996   40    male    3     own          little           little   \n",
       "997         997   38    male    2     own          little              NaN   \n",
       "998         998   23    male    2    free          little           little   \n",
       "999         999   27    male    2     own        moderate         moderate   \n",
       "\n",
       "     Credit amount  Duration              Purpose  Risk  \n",
       "0             1169         6             radio/TV  good  \n",
       "1             5951        48             radio/TV   bad  \n",
       "2             2096        12            education  good  \n",
       "3             7882        42  furniture/equipment  good  \n",
       "4             4870        24                  car   bad  \n",
       "..             ...       ...                  ...   ...  \n",
       "995           1736        12  furniture/equipment  good  \n",
       "996           3857        30                  car  good  \n",
       "997            804        12             radio/TV  good  \n",
       "998           1845        45             radio/TV   bad  \n",
       "999           4576        45                  car  good  \n",
       "\n",
       "[1000 rows x 11 columns]"
      ]
     },
     "execution_count": 2,
     "metadata": {},
     "output_type": "execute_result"
    }
   ],
   "source": [
    "df = pd.read_csv(\"german_credit_data.csv\")\n",
    "df"
   ]
  },
  {
   "cell_type": "code",
   "execution_count": 3,
   "id": "8f5b7368",
   "metadata": {},
   "outputs": [
    {
     "data": {
      "application/vnd.microsoft.datawrangler.viewer.v0+json": {
       "columns": [
        {
         "name": "index",
         "rawType": "object",
         "type": "string"
        },
        {
         "name": "Unnamed: 0",
         "rawType": "float64",
         "type": "float"
        },
        {
         "name": "Age",
         "rawType": "float64",
         "type": "float"
        },
        {
         "name": "Job",
         "rawType": "float64",
         "type": "float"
        },
        {
         "name": "Credit amount",
         "rawType": "float64",
         "type": "float"
        },
        {
         "name": "Duration",
         "rawType": "float64",
         "type": "float"
        }
       ],
       "ref": "8149fe08-b1bd-412d-902b-71c0be689804",
       "rows": [
        [
         "count",
         "1000.0",
         "1000.0",
         "1000.0",
         "1000.0",
         "1000.0"
        ],
        [
         "mean",
         "499.5",
         "35.546",
         "1.904",
         "3271.258",
         "20.903"
        ],
        [
         "std",
         "288.8194360957494",
         "11.375468574317512",
         "0.6536139619157559",
         "2822.7368759604406",
         "12.058814452756375"
        ],
        [
         "min",
         "0.0",
         "19.0",
         "0.0",
         "250.0",
         "4.0"
        ],
        [
         "25%",
         "249.75",
         "27.0",
         "2.0",
         "1365.5",
         "12.0"
        ],
        [
         "50%",
         "499.5",
         "33.0",
         "2.0",
         "2319.5",
         "18.0"
        ],
        [
         "75%",
         "749.25",
         "42.0",
         "2.0",
         "3972.25",
         "24.0"
        ],
        [
         "max",
         "999.0",
         "75.0",
         "3.0",
         "18424.0",
         "72.0"
        ]
       ],
       "shape": {
        "columns": 5,
        "rows": 8
       }
      },
      "text/html": [
       "<div>\n",
       "<style scoped>\n",
       "    .dataframe tbody tr th:only-of-type {\n",
       "        vertical-align: middle;\n",
       "    }\n",
       "\n",
       "    .dataframe tbody tr th {\n",
       "        vertical-align: top;\n",
       "    }\n",
       "\n",
       "    .dataframe thead th {\n",
       "        text-align: right;\n",
       "    }\n",
       "</style>\n",
       "<table border=\"1\" class=\"dataframe\">\n",
       "  <thead>\n",
       "    <tr style=\"text-align: right;\">\n",
       "      <th></th>\n",
       "      <th>Unnamed: 0</th>\n",
       "      <th>Age</th>\n",
       "      <th>Job</th>\n",
       "      <th>Credit amount</th>\n",
       "      <th>Duration</th>\n",
       "    </tr>\n",
       "  </thead>\n",
       "  <tbody>\n",
       "    <tr>\n",
       "      <th>count</th>\n",
       "      <td>1000.000000</td>\n",
       "      <td>1000.000000</td>\n",
       "      <td>1000.000000</td>\n",
       "      <td>1000.000000</td>\n",
       "      <td>1000.000000</td>\n",
       "    </tr>\n",
       "    <tr>\n",
       "      <th>mean</th>\n",
       "      <td>499.500000</td>\n",
       "      <td>35.546000</td>\n",
       "      <td>1.904000</td>\n",
       "      <td>3271.258000</td>\n",
       "      <td>20.903000</td>\n",
       "    </tr>\n",
       "    <tr>\n",
       "      <th>std</th>\n",
       "      <td>288.819436</td>\n",
       "      <td>11.375469</td>\n",
       "      <td>0.653614</td>\n",
       "      <td>2822.736876</td>\n",
       "      <td>12.058814</td>\n",
       "    </tr>\n",
       "    <tr>\n",
       "      <th>min</th>\n",
       "      <td>0.000000</td>\n",
       "      <td>19.000000</td>\n",
       "      <td>0.000000</td>\n",
       "      <td>250.000000</td>\n",
       "      <td>4.000000</td>\n",
       "    </tr>\n",
       "    <tr>\n",
       "      <th>25%</th>\n",
       "      <td>249.750000</td>\n",
       "      <td>27.000000</td>\n",
       "      <td>2.000000</td>\n",
       "      <td>1365.500000</td>\n",
       "      <td>12.000000</td>\n",
       "    </tr>\n",
       "    <tr>\n",
       "      <th>50%</th>\n",
       "      <td>499.500000</td>\n",
       "      <td>33.000000</td>\n",
       "      <td>2.000000</td>\n",
       "      <td>2319.500000</td>\n",
       "      <td>18.000000</td>\n",
       "    </tr>\n",
       "    <tr>\n",
       "      <th>75%</th>\n",
       "      <td>749.250000</td>\n",
       "      <td>42.000000</td>\n",
       "      <td>2.000000</td>\n",
       "      <td>3972.250000</td>\n",
       "      <td>24.000000</td>\n",
       "    </tr>\n",
       "    <tr>\n",
       "      <th>max</th>\n",
       "      <td>999.000000</td>\n",
       "      <td>75.000000</td>\n",
       "      <td>3.000000</td>\n",
       "      <td>18424.000000</td>\n",
       "      <td>72.000000</td>\n",
       "    </tr>\n",
       "  </tbody>\n",
       "</table>\n",
       "</div>"
      ],
      "text/plain": [
       "        Unnamed: 0          Age          Job  Credit amount     Duration\n",
       "count  1000.000000  1000.000000  1000.000000    1000.000000  1000.000000\n",
       "mean    499.500000    35.546000     1.904000    3271.258000    20.903000\n",
       "std     288.819436    11.375469     0.653614    2822.736876    12.058814\n",
       "min       0.000000    19.000000     0.000000     250.000000     4.000000\n",
       "25%     249.750000    27.000000     2.000000    1365.500000    12.000000\n",
       "50%     499.500000    33.000000     2.000000    2319.500000    18.000000\n",
       "75%     749.250000    42.000000     2.000000    3972.250000    24.000000\n",
       "max     999.000000    75.000000     3.000000   18424.000000    72.000000"
      ]
     },
     "execution_count": 3,
     "metadata": {},
     "output_type": "execute_result"
    }
   ],
   "source": [
    "df.describe()"
   ]
  },
  {
   "cell_type": "markdown",
   "id": "cc2190f3",
   "metadata": {},
   "source": [
    "(Unnamed 0), hat keinen inhaltlichen Mehrwert und wird später entfernt."
   ]
  },
  {
   "cell_type": "code",
   "execution_count": 4,
   "id": "1829e859",
   "metadata": {},
   "outputs": [
    {
     "name": "stdout",
     "output_type": "stream",
     "text": [
      "Risk\n",
      "good    700\n",
      "bad     300\n",
      "Name: count, dtype: int64\n"
     ]
    }
   ],
   "source": [
    "print(df[\"Risk\"].value_counts())"
   ]
  },
  {
   "cell_type": "markdown",
   "id": "f31646ac",
   "metadata": {},
   "source": [
    "Daten sind unausgeglichen muss zum Trainieren des Modells beachtet werden."
   ]
  },
  {
   "cell_type": "code",
   "execution_count": 5,
   "id": "915dff4a",
   "metadata": {},
   "outputs": [
    {
     "name": "stdout",
     "output_type": "stream",
     "text": [
      "<class 'pandas.core.frame.DataFrame'>\n",
      "RangeIndex: 1000 entries, 0 to 999\n",
      "Data columns (total 11 columns):\n",
      " #   Column            Non-Null Count  Dtype \n",
      "---  ------            --------------  ----- \n",
      " 0   Unnamed: 0        1000 non-null   int64 \n",
      " 1   Age               1000 non-null   int64 \n",
      " 2   Sex               1000 non-null   object\n",
      " 3   Job               1000 non-null   int64 \n",
      " 4   Housing           1000 non-null   object\n",
      " 5   Saving accounts   817 non-null    object\n",
      " 6   Checking account  606 non-null    object\n",
      " 7   Credit amount     1000 non-null   int64 \n",
      " 8   Duration          1000 non-null   int64 \n",
      " 9   Purpose           1000 non-null   object\n",
      " 10  Risk              1000 non-null   object\n",
      "dtypes: int64(5), object(6)\n",
      "memory usage: 86.1+ KB\n"
     ]
    }
   ],
   "source": [
    "df.info()"
   ]
  },
  {
   "cell_type": "markdown",
   "id": "aa5aeca8",
   "metadata": {},
   "source": [
    "Nachdem wir uns einen Überblick über den Datensatz verschafft haben, wollen wir nun genauer in eine einzelne Spalte schauen"
   ]
  },
  {
   "cell_type": "code",
   "execution_count": 6,
   "id": "a22d5c89",
   "metadata": {},
   "outputs": [
    {
     "data": {
      "text/plain": [
       "array([2, 1, 3, 0])"
      ]
     },
     "execution_count": 6,
     "metadata": {},
     "output_type": "execute_result"
    }
   ],
   "source": [
    "df[\"Job\"].unique()"
   ]
  },
  {
   "cell_type": "code",
   "execution_count": 7,
   "id": "0b4bf369",
   "metadata": {},
   "outputs": [
    {
     "data": {
      "application/vnd.microsoft.datawrangler.viewer.v0+json": {
       "columns": [
        {
         "name": "index",
         "rawType": "object",
         "type": "string"
        },
        {
         "name": "0",
         "rawType": "int64",
         "type": "integer"
        }
       ],
       "ref": "45896b7d-2de8-4397-945e-0b70eb7bcc74",
       "rows": [
        [
         "Unnamed: 0",
         "0"
        ],
        [
         "Age",
         "0"
        ],
        [
         "Sex",
         "0"
        ],
        [
         "Job",
         "0"
        ],
        [
         "Housing",
         "0"
        ],
        [
         "Saving accounts",
         "183"
        ],
        [
         "Checking account",
         "394"
        ],
        [
         "Credit amount",
         "0"
        ],
        [
         "Duration",
         "0"
        ],
        [
         "Purpose",
         "0"
        ],
        [
         "Risk",
         "0"
        ]
       ],
       "shape": {
        "columns": 1,
        "rows": 11
       }
      },
      "text/plain": [
       "Unnamed: 0            0\n",
       "Age                   0\n",
       "Sex                   0\n",
       "Job                   0\n",
       "Housing               0\n",
       "Saving accounts     183\n",
       "Checking account    394\n",
       "Credit amount         0\n",
       "Duration              0\n",
       "Purpose               0\n",
       "Risk                  0\n",
       "dtype: int64"
      ]
     },
     "execution_count": 7,
     "metadata": {},
     "output_type": "execute_result"
    }
   ],
   "source": [
    "df.isna().sum()"
   ]
  },
  {
   "cell_type": "code",
   "execution_count": 8,
   "id": "aba23d6b",
   "metadata": {},
   "outputs": [
    {
     "data": {
      "text/plain": [
       "np.int64(0)"
      ]
     },
     "execution_count": 8,
     "metadata": {},
     "output_type": "execute_result"
    }
   ],
   "source": [
    "df.duplicated().sum()"
   ]
  },
  {
   "cell_type": "markdown",
   "id": "f9c03420",
   "metadata": {},
   "source": [
    "Jetzt entfernen ich alle Zeilen, die mindestens einen fehlenden Wert enthalten. Dadurch bleiben nur noch vollständig ausgefüllte Datensätze übrig"
   ]
  },
  {
   "cell_type": "code",
   "execution_count": 9,
   "id": "955129b1",
   "metadata": {},
   "outputs": [],
   "source": [
    "df = df.dropna().reset_index(drop=True)"
   ]
  },
  {
   "cell_type": "code",
   "execution_count": 10,
   "id": "717b240f",
   "metadata": {},
   "outputs": [
    {
     "data": {
      "application/vnd.microsoft.datawrangler.viewer.v0+json": {
       "columns": [
        {
         "name": "index",
         "rawType": "object",
         "type": "string"
        },
        {
         "name": "0",
         "rawType": "int64",
         "type": "integer"
        }
       ],
       "ref": "ddca4a86-fe64-464a-b176-e9ef95f87d47",
       "rows": [
        [
         "Unnamed: 0",
         "0"
        ],
        [
         "Age",
         "0"
        ],
        [
         "Sex",
         "0"
        ],
        [
         "Job",
         "0"
        ],
        [
         "Housing",
         "0"
        ],
        [
         "Saving accounts",
         "0"
        ],
        [
         "Checking account",
         "0"
        ],
        [
         "Credit amount",
         "0"
        ],
        [
         "Duration",
         "0"
        ],
        [
         "Purpose",
         "0"
        ],
        [
         "Risk",
         "0"
        ]
       ],
       "shape": {
        "columns": 1,
        "rows": 11
       }
      },
      "text/plain": [
       "Unnamed: 0          0\n",
       "Age                 0\n",
       "Sex                 0\n",
       "Job                 0\n",
       "Housing             0\n",
       "Saving accounts     0\n",
       "Checking account    0\n",
       "Credit amount       0\n",
       "Duration            0\n",
       "Purpose             0\n",
       "Risk                0\n",
       "dtype: int64"
      ]
     },
     "execution_count": 10,
     "metadata": {},
     "output_type": "execute_result"
    }
   ],
   "source": [
    "df.isna().sum()"
   ]
  },
  {
   "cell_type": "code",
   "execution_count": 11,
   "id": "bd45dc91",
   "metadata": {},
   "outputs": [],
   "source": [
    "df.drop(columns=\"Unnamed: 0\", inplace=True)"
   ]
  },
  {
   "cell_type": "code",
   "execution_count": 12,
   "id": "a66528f5",
   "metadata": {},
   "outputs": [
    {
     "data": {
      "text/plain": [
       "Index(['Age', 'Sex', 'Job', 'Housing', 'Saving accounts', 'Checking account',\n",
       "       'Credit amount', 'Duration', 'Purpose', 'Risk'],\n",
       "      dtype='object')"
      ]
     },
     "execution_count": 12,
     "metadata": {},
     "output_type": "execute_result"
    }
   ],
   "source": [
    "df.columns"
   ]
  },
  {
   "cell_type": "markdown",
   "id": "e5e0d4a2",
   "metadata": {},
   "source": [
    "## Verteilung der numerischen Merkmale"
   ]
  },
  {
   "cell_type": "code",
   "execution_count": 13,
   "id": "07f8bcf6",
   "metadata": {},
   "outputs": [
    {
     "data": {
      "application/vnd.plotly.v1+json": {
       "config": {
        "plotlyServerURL": "https://plot.ly"
       },
       "data": [
        {
         "marker": {
          "line": {
           "color": "black",
           "width": 1
          }
         },
         "name": "Age",
         "type": "histogram",
         "x": {
          "bdata": "Fi01IxwZGBY8HCAsLDAsJCoiPyQbHiEZJSUYGiwYOhceORcXGz0ZFjMpQiIzFjo0Gy8eHDY2OiIkGCMnICMfFxwjFyQZPx4oHiIdHUIsGx4bFh4nHBgdJBQwLSZGIRQfISIhGio0QR4kSkQUISIkFSIbKBsVJhoVMkIfFxgaGzUWGhkePScYGicuGB0bNyQlLRwiJSMaHzEwHCw4GiAqMSEYFhoZHyYbHCAiHCcfHEsYFywXHB8YGhkhJRcXIB0cFxckGRYqKDwlOSYaKBsTJx8gNy4uFhscFCEvFTcdJBlBGh4dHiIjPR8kIxslJCI/HRYXHCEaGScsFxo5LyonHSAcGyoxJhgkIhoaFCUoKxg1Gh4fKSAcISUqLRciKxgiG0MWHBsfGB0XJB8XFhsbGx4xIRQkFS88OhQgFyQtHiIXFjIWMB0WJRUbFkEpHRwsGRobJiAgJigyJS0qFikcKRcjMiIrLxhAHx4fGRkdHSguLykgGBkZJSMZGx8iGBhCGTskIRUsFyMaIBcWHBclMRcXSiMYGCgfHBlCGUMZHxcjMhsnMzAYGBo3GhocGDYuNisaGCkvHiEXHRkwPx07OSEgHSMbGC4aHSgkGys1FysmIhwqKxQZHyBEIScWHjcuFScrGBYXHhweKi4eHigYHB05JS0eLxYXKBYdJDlAGTEcGhkhHTAeKBcb",
          "dtype": "i1"
         },
         "xaxis": "x",
         "xbins": {
          "end": 80,
          "size": 5,
          "start": 15
         },
         "yaxis": "y"
        },
        {
         "marker": {
          "line": {
           "color": "black",
           "width": 1
          }
         },
         "name": "Job",
         "type": "histogram",
         "x": {
          "bdata": "AgICAwMCAgIBAgEDAgECAQICAgICAgMBAgICAgECAQADAgMBAgMCAgMBAwICAgEBAgIDAgICAgICAgIDAgICAgECAgMCAgIBAgMCAgEBAAMDAgICAgICAwICAQIDAgICAgMCAgICAgMCAwACAgECAgMCAwECAwIBAgMCAgEBAgMCAgEDAQICAgEBAgICAgMCAwIBAgECAwICAwMCAgICAgECAQIBAgEBAwIDAgECAgMDAgMBAgECAQIDAQIAAgICAQICAAICAgMCAwMCAwIBAwICAwICAgICAgEBAgADAwIAAAICAwICAgICAgICAgMCAQICAQICAgECAQICAwMBAwECAgICAgICAwICAgIBAgICAQICAQICAgIDAQIBAgECAgMCAgIBAQICAgIBAQECAgIBAQICAQECAQEBAgECAgECAgICAQICAgICAgICAgICAQIAAQMCAgEDAQIDAgECAgIDAQICAgIBAQICAgECAgMCAgICAgICAQIBAwIDAgEBAgICAgEBAwEBAgECAQIBAgEBAAICAQEBAgMAAgICAQEBAgICAgECAgEDAAIBAgICAgMCAgIBAgICAgECAgICAQIBAgICAgICAQIDAwICAgMBAgMCAgMBAgMDAgMCAgICAgIBAQICAwEDAgICAgACAgIDAQECAgEBAQIAAgECAgIDAgICAwEDAwIC",
          "dtype": "i1"
         },
         "xaxis": "x2",
         "xbins": {
          "end": 3.5,
          "size": 1,
          "start": -0.5
         },
         "yaxis": "y2"
        },
        {
         "marker": {
          "line": {
           "color": "black",
           "width": 1
          }
         },
         "name": "Credit amount",
         "type": "histogram",
         "x": {
          "bdata": "PxfKHgYTJBtyFA8F1BAfBq8EewUCBSMxVwrBCAwHXgWZAW8JtBp5B7QP6hbCBYoSNAjJBMoBhgQ8GCsY/xdIBU0XsQipB1UYbwWhB1U47wOMBEIX9gV9D6MS+A7bBgsJDwVEMckIVASBBSYFST4+CiEJEwl/B6IuvheCBakFiAF0GJAGuRA+CSsHDQNJCL0CfwJEB6sN5xr+AlkHxQK7ElgNngnuDVwD+xTYFk4eNxsCBQgFUwG4DYwcawQpBo8HtgMQCIYFVg0RClIBOwJnEXQDCRSXBKICrAwED0sP1wvdBbcDyRCQBIYDfymQBagZrRR0ByAMSQ/NC3EC0Sq5Hk0MchBiAx8HzwraCf0RhQeaAssIZghlCHkGQwa2FCIDEiP0C94uJg/iKbQSnh1EBAAEtiQTGbwS6Ca5CtwODgTXAtUEFAGlDq0CugrEAjsOmRCSB14LYwpGDXkRLATXGfAcDhA4DTUISRDxBW8WDw6NDFcRbQ9yA64OcAS/AzcY3gRmCccIqQlCDnYNuQu+OQUe7jewMjIFzhwWCdcDsQylB/AtEgosCccE9wcdBKsDrwcTCr4D2wqmBEAsUAdYCEINYQJUBkUK6BMyBxAK6AXREkEPOg1XASQOuQbJC2wLewYUDMABjgLdBCoMIBQNBMYF9Q2xBCYOuQR+IEoISiMVBSsFMwx1FWYEwAS3BDgJwhr3An8KSQJhAlEFswR2DM8bWQQeH/4IlgLhCEcKDwkcDlMe6Qv+BTALNQVyAlcbywevBDMF5gjgDYgHCgarAhEGXAVmGqIMJgM6BHILBAsgBDQMUAn3B+8KCQXBBMYIgQGeCqMDogWREBkJlgMtB/sEDAtvCuUC2AQdDTAOXA5xDUQOQgcoCkQInQVMDhEGSwUSEe4CHAVYB+cRswOsAjQdggf/CJYfhQ94A30Q2RgRBRoEFwSoDesSyQvbFVAJgSYuC0MOzwNHClALTwRxB7sYYQXHCeAJoBmZC7YERgiuBHIEyzYEGDkFsQHMBBYDWgcQGfsEAxnDB/gCKC0cEbgQFQkYBLMJBQfPCfoErAHQA0kDEwWzAkwIpgiDBCQMIQ6BH8gFtQ0gD0UTggVEA5UHUBhuF6QETAsDB7AQNyROAkMk8gaLA+QBnSXrC1sPCB3xPUEFyAuYCtsCQgZ+D8AEKC4XCToEjQs7FFQFxQK7CKIFdw+HCVUJjAI/BWYFBg4qBZQHjgXZDxsDOD2KCXsIqBYuCjkQQQpTBIASWQz4RzA6NwkRDVYF0gfYGrkCGQQ5KEAF0waGBtoFfwfpAg8IkBg1B6YgFQ0GDmEIERBlB88EggSmD/0LMQnGAdgJYw/qBakEgRzqBPEC8ATCIGsLJSCZBZEYsxnPBncPEQ81B+AR",
          "dtype": "i2"
         },
         "xaxis": "x3",
         "xbins": {
          "end": 20000,
          "size": 1000,
          "start": 0
         },
         "yaxis": "y3"
        },
        {
         "marker": {
          "line": {
           "color": "black",
           "width": 1
          }
         },
         "name": "Duration",
         "type": "histogram",
         "x": {
          "bdata": "MCoYJB4MMAwYDxgYBgoMBgwHPBIYEgwtEgoJDBIeMAYbJBIkCSQwDAgqDCoLHhgKEiQSDAwMNhIkJAkYDA4GDxIMIQwVCgwMDAwMJAwMBiQbEjAGJCQYGAwJDBgKEgsYDxgIFQwGFSQSCRAMEjAbLQkMEgwMHgwYGx4SJBgMMAwYJBIYFR4wGAYMHgwMGBIPDjAeGC8wMAwYJBgqMBUkCgwICRgMJAwPHhgYEggkBhg8GAYNGAoYFRISCg0YCQkMGB4MEhIkEjwwJBIMEg8MJAYnDCQMGA8MGAwMEhIYBgkqDAwUMCQHDxgLDAYkDwwYGBgGCRISGAwPDBgeBhsMJBIGGCQJGBgPDwwPDAYGBhIwEhokBiQPFRIwEgwSGAwwDAkMEhgSGAYYDDAYDwkMJBIMJBIJDBIMDBgGGBgHCRgKGCQMChUYBh4VDBIGCRgSGCoSDxIeGAwwDBgkDgweEgwGBh4MHkgYJCQMDw8YDA8wGB4bMAwJCQYJPBQJBgwJEjAYGBgIGBIeGAoYDQ8MBhIMBgwSDAweDCQMEhInDAwSMCgVGBIUJAYqDwgGJDAwJCQSDCQIFRISLQ8MGCQJDBQSDxgSDAYYDAsSCRgMMBsMJBUSEAwYGDAGGBgJDBgMEjAMGAkMHgkGPA8wGBIkGAwYCRwYFQYbCw8YPBgGDx4VJA8qGBgkHi0t",
          "dtype": "i1"
         },
         "xaxis": "x4",
         "xbins": {
          "end": 80,
          "size": 6,
          "start": 0
         },
         "yaxis": "y4"
        }
       ],
       "layout": {
        "annotations": [
         {
          "font": {
           "size": 16
          },
          "showarrow": false,
          "text": "Age",
          "x": 0.23,
          "xanchor": "center",
          "xref": "paper",
          "y": 1,
          "yanchor": "bottom",
          "yref": "paper"
         },
         {
          "font": {
           "size": 16
          },
          "showarrow": false,
          "text": "Job",
          "x": 0.77,
          "xanchor": "center",
          "xref": "paper",
          "y": 1,
          "yanchor": "bottom",
          "yref": "paper"
         },
         {
          "font": {
           "size": 16
          },
          "showarrow": false,
          "text": "Credit amount",
          "x": 0.23,
          "xanchor": "center",
          "xref": "paper",
          "y": 0.425,
          "yanchor": "bottom",
          "yref": "paper"
         },
         {
          "font": {
           "size": 16
          },
          "showarrow": false,
          "text": "Duration",
          "x": 0.77,
          "xanchor": "center",
          "xref": "paper",
          "y": 0.425,
          "yanchor": "bottom",
          "yref": "paper"
         }
        ],
        "bargap": 0.05,
        "height": 700,
        "showlegend": false,
        "template": {
         "data": {
          "bar": [
           {
            "error_x": {
             "color": "#2a3f5f"
            },
            "error_y": {
             "color": "#2a3f5f"
            },
            "marker": {
             "line": {
              "color": "#E5ECF6",
              "width": 0.5
             },
             "pattern": {
              "fillmode": "overlay",
              "size": 10,
              "solidity": 0.2
             }
            },
            "type": "bar"
           }
          ],
          "barpolar": [
           {
            "marker": {
             "line": {
              "color": "#E5ECF6",
              "width": 0.5
             },
             "pattern": {
              "fillmode": "overlay",
              "size": 10,
              "solidity": 0.2
             }
            },
            "type": "barpolar"
           }
          ],
          "carpet": [
           {
            "aaxis": {
             "endlinecolor": "#2a3f5f",
             "gridcolor": "white",
             "linecolor": "white",
             "minorgridcolor": "white",
             "startlinecolor": "#2a3f5f"
            },
            "baxis": {
             "endlinecolor": "#2a3f5f",
             "gridcolor": "white",
             "linecolor": "white",
             "minorgridcolor": "white",
             "startlinecolor": "#2a3f5f"
            },
            "type": "carpet"
           }
          ],
          "choropleth": [
           {
            "colorbar": {
             "outlinewidth": 0,
             "ticks": ""
            },
            "type": "choropleth"
           }
          ],
          "contour": [
           {
            "colorbar": {
             "outlinewidth": 0,
             "ticks": ""
            },
            "colorscale": [
             [
              0,
              "#0d0887"
             ],
             [
              0.1111111111111111,
              "#46039f"
             ],
             [
              0.2222222222222222,
              "#7201a8"
             ],
             [
              0.3333333333333333,
              "#9c179e"
             ],
             [
              0.4444444444444444,
              "#bd3786"
             ],
             [
              0.5555555555555556,
              "#d8576b"
             ],
             [
              0.6666666666666666,
              "#ed7953"
             ],
             [
              0.7777777777777778,
              "#fb9f3a"
             ],
             [
              0.8888888888888888,
              "#fdca26"
             ],
             [
              1,
              "#f0f921"
             ]
            ],
            "type": "contour"
           }
          ],
          "contourcarpet": [
           {
            "colorbar": {
             "outlinewidth": 0,
             "ticks": ""
            },
            "type": "contourcarpet"
           }
          ],
          "heatmap": [
           {
            "colorbar": {
             "outlinewidth": 0,
             "ticks": ""
            },
            "colorscale": [
             [
              0,
              "#0d0887"
             ],
             [
              0.1111111111111111,
              "#46039f"
             ],
             [
              0.2222222222222222,
              "#7201a8"
             ],
             [
              0.3333333333333333,
              "#9c179e"
             ],
             [
              0.4444444444444444,
              "#bd3786"
             ],
             [
              0.5555555555555556,
              "#d8576b"
             ],
             [
              0.6666666666666666,
              "#ed7953"
             ],
             [
              0.7777777777777778,
              "#fb9f3a"
             ],
             [
              0.8888888888888888,
              "#fdca26"
             ],
             [
              1,
              "#f0f921"
             ]
            ],
            "type": "heatmap"
           }
          ],
          "histogram": [
           {
            "marker": {
             "pattern": {
              "fillmode": "overlay",
              "size": 10,
              "solidity": 0.2
             }
            },
            "type": "histogram"
           }
          ],
          "histogram2d": [
           {
            "colorbar": {
             "outlinewidth": 0,
             "ticks": ""
            },
            "colorscale": [
             [
              0,
              "#0d0887"
             ],
             [
              0.1111111111111111,
              "#46039f"
             ],
             [
              0.2222222222222222,
              "#7201a8"
             ],
             [
              0.3333333333333333,
              "#9c179e"
             ],
             [
              0.4444444444444444,
              "#bd3786"
             ],
             [
              0.5555555555555556,
              "#d8576b"
             ],
             [
              0.6666666666666666,
              "#ed7953"
             ],
             [
              0.7777777777777778,
              "#fb9f3a"
             ],
             [
              0.8888888888888888,
              "#fdca26"
             ],
             [
              1,
              "#f0f921"
             ]
            ],
            "type": "histogram2d"
           }
          ],
          "histogram2dcontour": [
           {
            "colorbar": {
             "outlinewidth": 0,
             "ticks": ""
            },
            "colorscale": [
             [
              0,
              "#0d0887"
             ],
             [
              0.1111111111111111,
              "#46039f"
             ],
             [
              0.2222222222222222,
              "#7201a8"
             ],
             [
              0.3333333333333333,
              "#9c179e"
             ],
             [
              0.4444444444444444,
              "#bd3786"
             ],
             [
              0.5555555555555556,
              "#d8576b"
             ],
             [
              0.6666666666666666,
              "#ed7953"
             ],
             [
              0.7777777777777778,
              "#fb9f3a"
             ],
             [
              0.8888888888888888,
              "#fdca26"
             ],
             [
              1,
              "#f0f921"
             ]
            ],
            "type": "histogram2dcontour"
           }
          ],
          "mesh3d": [
           {
            "colorbar": {
             "outlinewidth": 0,
             "ticks": ""
            },
            "type": "mesh3d"
           }
          ],
          "parcoords": [
           {
            "line": {
             "colorbar": {
              "outlinewidth": 0,
              "ticks": ""
             }
            },
            "type": "parcoords"
           }
          ],
          "pie": [
           {
            "automargin": true,
            "type": "pie"
           }
          ],
          "scatter": [
           {
            "fillpattern": {
             "fillmode": "overlay",
             "size": 10,
             "solidity": 0.2
            },
            "type": "scatter"
           }
          ],
          "scatter3d": [
           {
            "line": {
             "colorbar": {
              "outlinewidth": 0,
              "ticks": ""
             }
            },
            "marker": {
             "colorbar": {
              "outlinewidth": 0,
              "ticks": ""
             }
            },
            "type": "scatter3d"
           }
          ],
          "scattercarpet": [
           {
            "marker": {
             "colorbar": {
              "outlinewidth": 0,
              "ticks": ""
             }
            },
            "type": "scattercarpet"
           }
          ],
          "scattergeo": [
           {
            "marker": {
             "colorbar": {
              "outlinewidth": 0,
              "ticks": ""
             }
            },
            "type": "scattergeo"
           }
          ],
          "scattergl": [
           {
            "marker": {
             "colorbar": {
              "outlinewidth": 0,
              "ticks": ""
             }
            },
            "type": "scattergl"
           }
          ],
          "scattermap": [
           {
            "marker": {
             "colorbar": {
              "outlinewidth": 0,
              "ticks": ""
             }
            },
            "type": "scattermap"
           }
          ],
          "scattermapbox": [
           {
            "marker": {
             "colorbar": {
              "outlinewidth": 0,
              "ticks": ""
             }
            },
            "type": "scattermapbox"
           }
          ],
          "scatterpolar": [
           {
            "marker": {
             "colorbar": {
              "outlinewidth": 0,
              "ticks": ""
             }
            },
            "type": "scatterpolar"
           }
          ],
          "scatterpolargl": [
           {
            "marker": {
             "colorbar": {
              "outlinewidth": 0,
              "ticks": ""
             }
            },
            "type": "scatterpolargl"
           }
          ],
          "scatterternary": [
           {
            "marker": {
             "colorbar": {
              "outlinewidth": 0,
              "ticks": ""
             }
            },
            "type": "scatterternary"
           }
          ],
          "surface": [
           {
            "colorbar": {
             "outlinewidth": 0,
             "ticks": ""
            },
            "colorscale": [
             [
              0,
              "#0d0887"
             ],
             [
              0.1111111111111111,
              "#46039f"
             ],
             [
              0.2222222222222222,
              "#7201a8"
             ],
             [
              0.3333333333333333,
              "#9c179e"
             ],
             [
              0.4444444444444444,
              "#bd3786"
             ],
             [
              0.5555555555555556,
              "#d8576b"
             ],
             [
              0.6666666666666666,
              "#ed7953"
             ],
             [
              0.7777777777777778,
              "#fb9f3a"
             ],
             [
              0.8888888888888888,
              "#fdca26"
             ],
             [
              1,
              "#f0f921"
             ]
            ],
            "type": "surface"
           }
          ],
          "table": [
           {
            "cells": {
             "fill": {
              "color": "#EBF0F8"
             },
             "line": {
              "color": "white"
             }
            },
            "header": {
             "fill": {
              "color": "#C8D4E3"
             },
             "line": {
              "color": "white"
             }
            },
            "type": "table"
           }
          ]
         },
         "layout": {
          "annotationdefaults": {
           "arrowcolor": "#2a3f5f",
           "arrowhead": 0,
           "arrowwidth": 1
          },
          "autotypenumbers": "strict",
          "coloraxis": {
           "colorbar": {
            "outlinewidth": 0,
            "ticks": ""
           }
          },
          "colorscale": {
           "diverging": [
            [
             0,
             "#8e0152"
            ],
            [
             0.1,
             "#c51b7d"
            ],
            [
             0.2,
             "#de77ae"
            ],
            [
             0.3,
             "#f1b6da"
            ],
            [
             0.4,
             "#fde0ef"
            ],
            [
             0.5,
             "#f7f7f7"
            ],
            [
             0.6,
             "#e6f5d0"
            ],
            [
             0.7,
             "#b8e186"
            ],
            [
             0.8,
             "#7fbc41"
            ],
            [
             0.9,
             "#4d9221"
            ],
            [
             1,
             "#276419"
            ]
           ],
           "sequential": [
            [
             0,
             "#0d0887"
            ],
            [
             0.1111111111111111,
             "#46039f"
            ],
            [
             0.2222222222222222,
             "#7201a8"
            ],
            [
             0.3333333333333333,
             "#9c179e"
            ],
            [
             0.4444444444444444,
             "#bd3786"
            ],
            [
             0.5555555555555556,
             "#d8576b"
            ],
            [
             0.6666666666666666,
             "#ed7953"
            ],
            [
             0.7777777777777778,
             "#fb9f3a"
            ],
            [
             0.8888888888888888,
             "#fdca26"
            ],
            [
             1,
             "#f0f921"
            ]
           ],
           "sequentialminus": [
            [
             0,
             "#0d0887"
            ],
            [
             0.1111111111111111,
             "#46039f"
            ],
            [
             0.2222222222222222,
             "#7201a8"
            ],
            [
             0.3333333333333333,
             "#9c179e"
            ],
            [
             0.4444444444444444,
             "#bd3786"
            ],
            [
             0.5555555555555556,
             "#d8576b"
            ],
            [
             0.6666666666666666,
             "#ed7953"
            ],
            [
             0.7777777777777778,
             "#fb9f3a"
            ],
            [
             0.8888888888888888,
             "#fdca26"
            ],
            [
             1,
             "#f0f921"
            ]
           ]
          },
          "colorway": [
           "#636efa",
           "#EF553B",
           "#00cc96",
           "#ab63fa",
           "#FFA15A",
           "#19d3f3",
           "#FF6692",
           "#B6E880",
           "#FF97FF",
           "#FECB52"
          ],
          "font": {
           "color": "#2a3f5f"
          },
          "geo": {
           "bgcolor": "white",
           "lakecolor": "white",
           "landcolor": "#E5ECF6",
           "showlakes": true,
           "showland": true,
           "subunitcolor": "white"
          },
          "hoverlabel": {
           "align": "left"
          },
          "hovermode": "closest",
          "mapbox": {
           "style": "light"
          },
          "paper_bgcolor": "white",
          "plot_bgcolor": "#E5ECF6",
          "polar": {
           "angularaxis": {
            "gridcolor": "white",
            "linecolor": "white",
            "ticks": ""
           },
           "bgcolor": "#E5ECF6",
           "radialaxis": {
            "gridcolor": "white",
            "linecolor": "white",
            "ticks": ""
           }
          },
          "scene": {
           "xaxis": {
            "backgroundcolor": "#E5ECF6",
            "gridcolor": "white",
            "gridwidth": 2,
            "linecolor": "white",
            "showbackground": true,
            "ticks": "",
            "zerolinecolor": "white"
           },
           "yaxis": {
            "backgroundcolor": "#E5ECF6",
            "gridcolor": "white",
            "gridwidth": 2,
            "linecolor": "white",
            "showbackground": true,
            "ticks": "",
            "zerolinecolor": "white"
           },
           "zaxis": {
            "backgroundcolor": "#E5ECF6",
            "gridcolor": "white",
            "gridwidth": 2,
            "linecolor": "white",
            "showbackground": true,
            "ticks": "",
            "zerolinecolor": "white"
           }
          },
          "shapedefaults": {
           "line": {
            "color": "#2a3f5f"
           }
          },
          "ternary": {
           "aaxis": {
            "gridcolor": "white",
            "linecolor": "white",
            "ticks": ""
           },
           "baxis": {
            "gridcolor": "white",
            "linecolor": "white",
            "ticks": ""
           },
           "bgcolor": "#E5ECF6",
           "caxis": {
            "gridcolor": "white",
            "linecolor": "white",
            "ticks": ""
           }
          },
          "title": {
           "x": 0.05
          },
          "xaxis": {
           "automargin": true,
           "gridcolor": "white",
           "linecolor": "white",
           "ticks": "",
           "title": {
            "standoff": 15
           },
           "zerolinecolor": "white",
           "zerolinewidth": 2
          },
          "yaxis": {
           "automargin": true,
           "gridcolor": "white",
           "linecolor": "white",
           "ticks": "",
           "title": {
            "standoff": 15
           },
           "zerolinecolor": "white",
           "zerolinewidth": 2
          }
         }
        },
        "title": {
         "text": "Verteilung der numerischen Merkmale"
        },
        "xaxis": {
         "anchor": "y",
         "domain": [
          0,
          0.46
         ],
         "showgrid": false
        },
        "xaxis2": {
         "anchor": "y2",
         "domain": [
          0.54,
          1
         ],
         "showgrid": false
        },
        "xaxis3": {
         "anchor": "y3",
         "domain": [
          0,
          0.46
         ],
         "showgrid": false
        },
        "xaxis4": {
         "anchor": "y4",
         "domain": [
          0.54,
          1
         ],
         "showgrid": false
        },
        "yaxis": {
         "anchor": "x",
         "domain": [
          0.575,
          1
         ],
         "showgrid": false
        },
        "yaxis2": {
         "anchor": "x2",
         "domain": [
          0.575,
          1
         ],
         "showgrid": false
        },
        "yaxis3": {
         "anchor": "x3",
         "domain": [
          0,
          0.425
         ],
         "showgrid": false
        },
        "yaxis4": {
         "anchor": "x4",
         "domain": [
          0,
          0.425
         ],
         "showgrid": false
        }
       }
      }
     },
     "metadata": {},
     "output_type": "display_data"
    }
   ],
   "source": [
    "# 1) Numerische Spalten ermitteln:\n",
    "numeric_cols = df.select_dtypes(include=[\"number\"]).columns.tolist()\n",
    "\n",
    "# 2) Eigene Bins je Merkmal:\n",
    "bins_cfg = {\n",
    "    \"Age\":            dict(start=15, end=80,    size=5),  \n",
    "    \"Credit amount\":  dict(start=0,  end=20000, size=1000), \n",
    "    \"Duration\":       dict(start=0,  end=80,    size=6),\n",
    "    \"Job\":            dict(start=-0.5, end=3.5, size=1),\n",
    "}\n",
    "\n",
    "# 3) Subplot-Grid abhängig von der Anzahl der numerischen Spalten:\n",
    "cols_per_row = 2\n",
    "rows = math.ceil(len(numeric_cols) / cols_per_row)\n",
    "\n",
    "fig1 = make_subplots(\n",
    "    rows=rows,\n",
    "    cols=cols_per_row,\n",
    "    subplot_titles=numeric_cols,\n",
    "    horizontal_spacing=0.08,\n",
    "    vertical_spacing=0.15\n",
    ")\n",
    "\n",
    "# 4) Histogramme hinzufügen:\n",
    "for i, col in enumerate(numeric_cols):\n",
    "    r = i // cols_per_row + 1\n",
    "    c = i % cols_per_row + 1\n",
    "    fig1.add_trace(\n",
    "        go.Histogram(\n",
    "            x=df[col],\n",
    "            xbins=bins_cfg.get(col, None),\n",
    "            marker_line_color=\"black\",\n",
    "            marker_line_width=1,\n",
    "            name=col\n",
    "        ),\n",
    "        row=r, col=c\n",
    "    )\n",
    "\n",
    "# 5) Optik anpassen:\n",
    "fig1.update_xaxes(showgrid=False)\n",
    "fig1.update_yaxes(showgrid=False)\n",
    "fig1.update_layout(\n",
    "    title=\"Verteilung der numerischen Merkmale\",\n",
    "    showlegend=False,\n",
    "    bargap=0.05,\n",
    "    height=350 * rows \n",
    ")\n",
    "\n",
    "fig1"
   ]
  },
  {
   "cell_type": "markdown",
   "id": "b30cb0f8",
   "metadata": {},
   "source": [
    "- Age: Die Verteilung ist rechtsschief: Viele jüngere Menschen, immer weniger mit zunehmendem Alter.\n",
    "- Job: Nicht gleichmäßige Verteilung: Kategorie 2 dominiert stark, während 0 und 3 selten sind. Der Schwerpunkt liegt deutlich auf mittleren Jobs.\n",
    "- Credit amount: Sehr stark rechtsschief: Die meisten Kredite sind klein (unter 5.000 €), nur wenige sehr groß. Die Ausreißer nach oben ziehen den Wertebereich stark auseinander.\n",
    "- Duration: Ebenfalls rechtsschief: Kürzere Laufzeiten (bis 24 Monate) dominieren. Lange Laufzeiten sind selten und bilden Ausreißer."
   ]
  },
  {
   "cell_type": "code",
   "execution_count": 14,
   "id": "ed6e58bc",
   "metadata": {},
   "outputs": [
    {
     "data": {
      "application/vnd.plotly.v1+json": {
       "config": {
        "plotlyServerURL": "https://plot.ly"
       },
       "data": [
        {
         "boxpoints": "outliers",
         "marker": {
          "line": {
           "color": "black",
           "width": 1
          }
         },
         "name": "Age",
         "type": "box",
         "whiskerwidth": 0.8,
         "xaxis": "x",
         "y": {
          "bdata": "Fi01IxwZGBY8HCAsLDAsJCoiPyQbHiEZJSUYGiwYOhceORcXGz0ZFjMpQiIzFjo0Gy8eHDY2OiIkGCMnICMfFxwjFyQZPx4oHiIdHUIsGx4bFh4nHBgdJBQwLSZGIRQfISIhGio0QR4kSkQUISIkFSIbKBsVJhoVMkIfFxgaGzUWGhkePScYGicuGB0bNyQlLRwiJSMaHzEwHCw4GiAqMSEYFhoZHyYbHCAiHCcfHEsYFywXHB8YGhkhJRcXIB0cFxckGRYqKDwlOSYaKBsTJx8gNy4uFhscFCEvFTcdJBlBGh4dHiIjPR8kIxslJCI/HRYXHCEaGScsFxo5LyonHSAcGyoxJhgkIhoaFCUoKxg1Gh4fKSAcISUqLRciKxgiG0MWHBsfGB0XJB8XFhsbGx4xIRQkFS88OhQgFyQtHiIXFjIWMB0WJRUbFkEpHRwsGRobJiAgJigyJS0qFikcKRcjMiIrLxhAHx4fGRkdHSguLykgGBkZJSMZGx8iGBhCGTskIRUsFyMaIBcWHBclMRcXSiMYGCgfHBlCGUMZHxcjMhsnMzAYGBo3GhocGDYuNisaGCkvHiEXHRkwPx07OSEgHSMbGC4aHSgkGys1FysmIhwqKxQZHyBEIScWHjcuFScrGBYXHhweKi4eHigYHB05JS0eLxYXKBYdJDlAGTEcGhkhHTAeKBcb",
          "dtype": "i1"
         },
         "yaxis": "y"
        },
        {
         "boxpoints": "outliers",
         "marker": {
          "line": {
           "color": "black",
           "width": 1
          }
         },
         "name": "Job",
         "type": "box",
         "whiskerwidth": 0.8,
         "xaxis": "x2",
         "y": {
          "bdata": "AgICAwMCAgIBAgEDAgECAQICAgICAgMBAgICAgECAQADAgMBAgMCAgMBAwICAgEBAgIDAgICAgICAgIDAgICAgECAgMCAgIBAgMCAgEBAAMDAgICAgICAwICAQIDAgICAgMCAgICAgMCAwACAgECAgMCAwECAwIBAgMCAgEBAgMCAgEDAQICAgEBAgICAgMCAwIBAgECAwICAwMCAgICAgECAQIBAgEBAwIDAgECAgMDAgMBAgECAQIDAQIAAgICAQICAAICAgMCAwMCAwIBAwICAwICAgICAgEBAgADAwIAAAICAwICAgICAgICAgMCAQICAQICAgECAQICAwMBAwECAgICAgICAwICAgIBAgICAQICAQICAgIDAQIBAgECAgMCAgIBAQICAgIBAQECAgIBAQICAQECAQEBAgECAgECAgICAQICAgICAgICAgICAQIAAQMCAgEDAQIDAgECAgIDAQICAgIBAQICAgECAgMCAgICAgICAQIBAwIDAgEBAgICAgEBAwEBAgECAQIBAgEBAAICAQEBAgMAAgICAQEBAgICAgECAgEDAAIBAgICAgMCAgIBAgICAgECAgICAQIBAgICAgICAQIDAwICAgMBAgMCAgMBAgMDAgMCAgICAgIBAQICAwEDAgICAgACAgIDAQECAgEBAQIAAgECAgIDAgICAwEDAwIC",
          "dtype": "i1"
         },
         "yaxis": "y2"
        },
        {
         "boxpoints": "outliers",
         "marker": {
          "line": {
           "color": "black",
           "width": 1
          }
         },
         "name": "Credit amount",
         "type": "box",
         "whiskerwidth": 0.8,
         "xaxis": "x3",
         "y": {
          "bdata": "PxfKHgYTJBtyFA8F1BAfBq8EewUCBSMxVwrBCAwHXgWZAW8JtBp5B7QP6hbCBYoSNAjJBMoBhgQ8GCsY/xdIBU0XsQipB1UYbwWhB1U47wOMBEIX9gV9D6MS+A7bBgsJDwVEMckIVASBBSYFST4+CiEJEwl/B6IuvheCBakFiAF0GJAGuRA+CSsHDQNJCL0CfwJEB6sN5xr+AlkHxQK7ElgNngnuDVwD+xTYFk4eNxsCBQgFUwG4DYwcawQpBo8HtgMQCIYFVg0RClIBOwJnEXQDCRSXBKICrAwED0sP1wvdBbcDyRCQBIYDfymQBagZrRR0ByAMSQ/NC3EC0Sq5Hk0MchBiAx8HzwraCf0RhQeaAssIZghlCHkGQwa2FCIDEiP0C94uJg/iKbQSnh1EBAAEtiQTGbwS6Ca5CtwODgTXAtUEFAGlDq0CugrEAjsOmRCSB14LYwpGDXkRLATXGfAcDhA4DTUISRDxBW8WDw6NDFcRbQ9yA64OcAS/AzcY3gRmCccIqQlCDnYNuQu+OQUe7jewMjIFzhwWCdcDsQylB/AtEgosCccE9wcdBKsDrwcTCr4D2wqmBEAsUAdYCEINYQJUBkUK6BMyBxAK6AXREkEPOg1XASQOuQbJC2wLewYUDMABjgLdBCoMIBQNBMYF9Q2xBCYOuQR+IEoISiMVBSsFMwx1FWYEwAS3BDgJwhr3An8KSQJhAlEFswR2DM8bWQQeH/4IlgLhCEcKDwkcDlMe6Qv+BTALNQVyAlcbywevBDMF5gjgDYgHCgarAhEGXAVmGqIMJgM6BHILBAsgBDQMUAn3B+8KCQXBBMYIgQGeCqMDogWREBkJlgMtB/sEDAtvCuUC2AQdDTAOXA5xDUQOQgcoCkQInQVMDhEGSwUSEe4CHAVYB+cRswOsAjQdggf/CJYfhQ94A30Q2RgRBRoEFwSoDesSyQvbFVAJgSYuC0MOzwNHClALTwRxB7sYYQXHCeAJoBmZC7YERgiuBHIEyzYEGDkFsQHMBBYDWgcQGfsEAxnDB/gCKC0cEbgQFQkYBLMJBQfPCfoErAHQA0kDEwWzAkwIpgiDBCQMIQ6BH8gFtQ0gD0UTggVEA5UHUBhuF6QETAsDB7AQNyROAkMk8gaLA+QBnSXrC1sPCB3xPUEFyAuYCtsCQgZ+D8AEKC4XCToEjQs7FFQFxQK7CKIFdw+HCVUJjAI/BWYFBg4qBZQHjgXZDxsDOD2KCXsIqBYuCjkQQQpTBIASWQz4RzA6NwkRDVYF0gfYGrkCGQQ5KEAF0waGBtoFfwfpAg8IkBg1B6YgFQ0GDmEIERBlB88EggSmD/0LMQnGAdgJYw/qBakEgRzqBPEC8ATCIGsLJSCZBZEYsxnPBncPEQ81B+AR",
          "dtype": "i2"
         },
         "yaxis": "y3"
        },
        {
         "boxpoints": "outliers",
         "marker": {
          "line": {
           "color": "black",
           "width": 1
          }
         },
         "name": "Duration",
         "type": "box",
         "whiskerwidth": 0.8,
         "xaxis": "x4",
         "y": {
          "bdata": "MCoYJB4MMAwYDxgYBgoMBgwHPBIYEgwtEgoJDBIeMAYbJBIkCSQwDAgqDCoLHhgKEiQSDAwMNhIkJAkYDA4GDxIMIQwVCgwMDAwMJAwMBiQbEjAGJCQYGAwJDBgKEgsYDxgIFQwGFSQSCRAMEjAbLQkMEgwMHgwYGx4SJBgMMAwYJBIYFR4wGAYMHgwMGBIPDjAeGC8wMAwYJBgqMBUkCgwICRgMJAwPHhgYEggkBhg8GAYNGAoYFRISCg0YCQkMGB4MEhIkEjwwJBIMEg8MJAYnDCQMGA8MGAwMEhIYBgkqDAwUMCQHDxgLDAYkDwwYGBgGCRISGAwPDBgeBhsMJBIGGCQJGBgPDwwPDAYGBhIwEhokBiQPFRIwEgwSGAwwDAkMEhgSGAYYDDAYDwkMJBIMJBIJDBIMDBgGGBgHCRgKGCQMChUYBh4VDBIGCRgSGCoSDxIeGAwwDBgkDgweEgwGBh4MHkgYJCQMDw8YDA8wGB4bMAwJCQYJPBQJBgwJEjAYGBgIGBIeGAoYDQ8MBhIMBgwSDAweDCQMEhInDAwSMCgVGBIUJAYqDwgGJDAwJCQSDCQIFRISLQ8MGCQJDBQSDxgSDAYYDAsSCRgMMBsMJBUSEAwYGDAGGBgJDBgMEjAMGAkMHgkGPA8wGBIkGAwYCRwYFQYbCw8YPBgGDx4VJA8qGBgkHi0t",
          "dtype": "i1"
         },
         "yaxis": "y4"
        }
       ],
       "layout": {
        "annotations": [
         {
          "font": {
           "size": 16
          },
          "showarrow": false,
          "text": "Age",
          "x": 0.23,
          "xanchor": "center",
          "xref": "paper",
          "y": 1,
          "yanchor": "bottom",
          "yref": "paper"
         },
         {
          "font": {
           "size": 16
          },
          "showarrow": false,
          "text": "Job",
          "x": 0.77,
          "xanchor": "center",
          "xref": "paper",
          "y": 1,
          "yanchor": "bottom",
          "yref": "paper"
         },
         {
          "font": {
           "size": 16
          },
          "showarrow": false,
          "text": "Credit amount",
          "x": 0.23,
          "xanchor": "center",
          "xref": "paper",
          "y": 0.425,
          "yanchor": "bottom",
          "yref": "paper"
         },
         {
          "font": {
           "size": 16
          },
          "showarrow": false,
          "text": "Duration",
          "x": 0.77,
          "xanchor": "center",
          "xref": "paper",
          "y": 0.425,
          "yanchor": "bottom",
          "yref": "paper"
         }
        ],
        "height": 600,
        "showlegend": false,
        "template": {
         "data": {
          "bar": [
           {
            "error_x": {
             "color": "#2a3f5f"
            },
            "error_y": {
             "color": "#2a3f5f"
            },
            "marker": {
             "line": {
              "color": "#E5ECF6",
              "width": 0.5
             },
             "pattern": {
              "fillmode": "overlay",
              "size": 10,
              "solidity": 0.2
             }
            },
            "type": "bar"
           }
          ],
          "barpolar": [
           {
            "marker": {
             "line": {
              "color": "#E5ECF6",
              "width": 0.5
             },
             "pattern": {
              "fillmode": "overlay",
              "size": 10,
              "solidity": 0.2
             }
            },
            "type": "barpolar"
           }
          ],
          "carpet": [
           {
            "aaxis": {
             "endlinecolor": "#2a3f5f",
             "gridcolor": "white",
             "linecolor": "white",
             "minorgridcolor": "white",
             "startlinecolor": "#2a3f5f"
            },
            "baxis": {
             "endlinecolor": "#2a3f5f",
             "gridcolor": "white",
             "linecolor": "white",
             "minorgridcolor": "white",
             "startlinecolor": "#2a3f5f"
            },
            "type": "carpet"
           }
          ],
          "choropleth": [
           {
            "colorbar": {
             "outlinewidth": 0,
             "ticks": ""
            },
            "type": "choropleth"
           }
          ],
          "contour": [
           {
            "colorbar": {
             "outlinewidth": 0,
             "ticks": ""
            },
            "colorscale": [
             [
              0,
              "#0d0887"
             ],
             [
              0.1111111111111111,
              "#46039f"
             ],
             [
              0.2222222222222222,
              "#7201a8"
             ],
             [
              0.3333333333333333,
              "#9c179e"
             ],
             [
              0.4444444444444444,
              "#bd3786"
             ],
             [
              0.5555555555555556,
              "#d8576b"
             ],
             [
              0.6666666666666666,
              "#ed7953"
             ],
             [
              0.7777777777777778,
              "#fb9f3a"
             ],
             [
              0.8888888888888888,
              "#fdca26"
             ],
             [
              1,
              "#f0f921"
             ]
            ],
            "type": "contour"
           }
          ],
          "contourcarpet": [
           {
            "colorbar": {
             "outlinewidth": 0,
             "ticks": ""
            },
            "type": "contourcarpet"
           }
          ],
          "heatmap": [
           {
            "colorbar": {
             "outlinewidth": 0,
             "ticks": ""
            },
            "colorscale": [
             [
              0,
              "#0d0887"
             ],
             [
              0.1111111111111111,
              "#46039f"
             ],
             [
              0.2222222222222222,
              "#7201a8"
             ],
             [
              0.3333333333333333,
              "#9c179e"
             ],
             [
              0.4444444444444444,
              "#bd3786"
             ],
             [
              0.5555555555555556,
              "#d8576b"
             ],
             [
              0.6666666666666666,
              "#ed7953"
             ],
             [
              0.7777777777777778,
              "#fb9f3a"
             ],
             [
              0.8888888888888888,
              "#fdca26"
             ],
             [
              1,
              "#f0f921"
             ]
            ],
            "type": "heatmap"
           }
          ],
          "histogram": [
           {
            "marker": {
             "pattern": {
              "fillmode": "overlay",
              "size": 10,
              "solidity": 0.2
             }
            },
            "type": "histogram"
           }
          ],
          "histogram2d": [
           {
            "colorbar": {
             "outlinewidth": 0,
             "ticks": ""
            },
            "colorscale": [
             [
              0,
              "#0d0887"
             ],
             [
              0.1111111111111111,
              "#46039f"
             ],
             [
              0.2222222222222222,
              "#7201a8"
             ],
             [
              0.3333333333333333,
              "#9c179e"
             ],
             [
              0.4444444444444444,
              "#bd3786"
             ],
             [
              0.5555555555555556,
              "#d8576b"
             ],
             [
              0.6666666666666666,
              "#ed7953"
             ],
             [
              0.7777777777777778,
              "#fb9f3a"
             ],
             [
              0.8888888888888888,
              "#fdca26"
             ],
             [
              1,
              "#f0f921"
             ]
            ],
            "type": "histogram2d"
           }
          ],
          "histogram2dcontour": [
           {
            "colorbar": {
             "outlinewidth": 0,
             "ticks": ""
            },
            "colorscale": [
             [
              0,
              "#0d0887"
             ],
             [
              0.1111111111111111,
              "#46039f"
             ],
             [
              0.2222222222222222,
              "#7201a8"
             ],
             [
              0.3333333333333333,
              "#9c179e"
             ],
             [
              0.4444444444444444,
              "#bd3786"
             ],
             [
              0.5555555555555556,
              "#d8576b"
             ],
             [
              0.6666666666666666,
              "#ed7953"
             ],
             [
              0.7777777777777778,
              "#fb9f3a"
             ],
             [
              0.8888888888888888,
              "#fdca26"
             ],
             [
              1,
              "#f0f921"
             ]
            ],
            "type": "histogram2dcontour"
           }
          ],
          "mesh3d": [
           {
            "colorbar": {
             "outlinewidth": 0,
             "ticks": ""
            },
            "type": "mesh3d"
           }
          ],
          "parcoords": [
           {
            "line": {
             "colorbar": {
              "outlinewidth": 0,
              "ticks": ""
             }
            },
            "type": "parcoords"
           }
          ],
          "pie": [
           {
            "automargin": true,
            "type": "pie"
           }
          ],
          "scatter": [
           {
            "fillpattern": {
             "fillmode": "overlay",
             "size": 10,
             "solidity": 0.2
            },
            "type": "scatter"
           }
          ],
          "scatter3d": [
           {
            "line": {
             "colorbar": {
              "outlinewidth": 0,
              "ticks": ""
             }
            },
            "marker": {
             "colorbar": {
              "outlinewidth": 0,
              "ticks": ""
             }
            },
            "type": "scatter3d"
           }
          ],
          "scattercarpet": [
           {
            "marker": {
             "colorbar": {
              "outlinewidth": 0,
              "ticks": ""
             }
            },
            "type": "scattercarpet"
           }
          ],
          "scattergeo": [
           {
            "marker": {
             "colorbar": {
              "outlinewidth": 0,
              "ticks": ""
             }
            },
            "type": "scattergeo"
           }
          ],
          "scattergl": [
           {
            "marker": {
             "colorbar": {
              "outlinewidth": 0,
              "ticks": ""
             }
            },
            "type": "scattergl"
           }
          ],
          "scattermap": [
           {
            "marker": {
             "colorbar": {
              "outlinewidth": 0,
              "ticks": ""
             }
            },
            "type": "scattermap"
           }
          ],
          "scattermapbox": [
           {
            "marker": {
             "colorbar": {
              "outlinewidth": 0,
              "ticks": ""
             }
            },
            "type": "scattermapbox"
           }
          ],
          "scatterpolar": [
           {
            "marker": {
             "colorbar": {
              "outlinewidth": 0,
              "ticks": ""
             }
            },
            "type": "scatterpolar"
           }
          ],
          "scatterpolargl": [
           {
            "marker": {
             "colorbar": {
              "outlinewidth": 0,
              "ticks": ""
             }
            },
            "type": "scatterpolargl"
           }
          ],
          "scatterternary": [
           {
            "marker": {
             "colorbar": {
              "outlinewidth": 0,
              "ticks": ""
             }
            },
            "type": "scatterternary"
           }
          ],
          "surface": [
           {
            "colorbar": {
             "outlinewidth": 0,
             "ticks": ""
            },
            "colorscale": [
             [
              0,
              "#0d0887"
             ],
             [
              0.1111111111111111,
              "#46039f"
             ],
             [
              0.2222222222222222,
              "#7201a8"
             ],
             [
              0.3333333333333333,
              "#9c179e"
             ],
             [
              0.4444444444444444,
              "#bd3786"
             ],
             [
              0.5555555555555556,
              "#d8576b"
             ],
             [
              0.6666666666666666,
              "#ed7953"
             ],
             [
              0.7777777777777778,
              "#fb9f3a"
             ],
             [
              0.8888888888888888,
              "#fdca26"
             ],
             [
              1,
              "#f0f921"
             ]
            ],
            "type": "surface"
           }
          ],
          "table": [
           {
            "cells": {
             "fill": {
              "color": "#EBF0F8"
             },
             "line": {
              "color": "white"
             }
            },
            "header": {
             "fill": {
              "color": "#C8D4E3"
             },
             "line": {
              "color": "white"
             }
            },
            "type": "table"
           }
          ]
         },
         "layout": {
          "annotationdefaults": {
           "arrowcolor": "#2a3f5f",
           "arrowhead": 0,
           "arrowwidth": 1
          },
          "autotypenumbers": "strict",
          "coloraxis": {
           "colorbar": {
            "outlinewidth": 0,
            "ticks": ""
           }
          },
          "colorscale": {
           "diverging": [
            [
             0,
             "#8e0152"
            ],
            [
             0.1,
             "#c51b7d"
            ],
            [
             0.2,
             "#de77ae"
            ],
            [
             0.3,
             "#f1b6da"
            ],
            [
             0.4,
             "#fde0ef"
            ],
            [
             0.5,
             "#f7f7f7"
            ],
            [
             0.6,
             "#e6f5d0"
            ],
            [
             0.7,
             "#b8e186"
            ],
            [
             0.8,
             "#7fbc41"
            ],
            [
             0.9,
             "#4d9221"
            ],
            [
             1,
             "#276419"
            ]
           ],
           "sequential": [
            [
             0,
             "#0d0887"
            ],
            [
             0.1111111111111111,
             "#46039f"
            ],
            [
             0.2222222222222222,
             "#7201a8"
            ],
            [
             0.3333333333333333,
             "#9c179e"
            ],
            [
             0.4444444444444444,
             "#bd3786"
            ],
            [
             0.5555555555555556,
             "#d8576b"
            ],
            [
             0.6666666666666666,
             "#ed7953"
            ],
            [
             0.7777777777777778,
             "#fb9f3a"
            ],
            [
             0.8888888888888888,
             "#fdca26"
            ],
            [
             1,
             "#f0f921"
            ]
           ],
           "sequentialminus": [
            [
             0,
             "#0d0887"
            ],
            [
             0.1111111111111111,
             "#46039f"
            ],
            [
             0.2222222222222222,
             "#7201a8"
            ],
            [
             0.3333333333333333,
             "#9c179e"
            ],
            [
             0.4444444444444444,
             "#bd3786"
            ],
            [
             0.5555555555555556,
             "#d8576b"
            ],
            [
             0.6666666666666666,
             "#ed7953"
            ],
            [
             0.7777777777777778,
             "#fb9f3a"
            ],
            [
             0.8888888888888888,
             "#fdca26"
            ],
            [
             1,
             "#f0f921"
            ]
           ]
          },
          "colorway": [
           "#636efa",
           "#EF553B",
           "#00cc96",
           "#ab63fa",
           "#FFA15A",
           "#19d3f3",
           "#FF6692",
           "#B6E880",
           "#FF97FF",
           "#FECB52"
          ],
          "font": {
           "color": "#2a3f5f"
          },
          "geo": {
           "bgcolor": "white",
           "lakecolor": "white",
           "landcolor": "#E5ECF6",
           "showlakes": true,
           "showland": true,
           "subunitcolor": "white"
          },
          "hoverlabel": {
           "align": "left"
          },
          "hovermode": "closest",
          "mapbox": {
           "style": "light"
          },
          "paper_bgcolor": "white",
          "plot_bgcolor": "#E5ECF6",
          "polar": {
           "angularaxis": {
            "gridcolor": "white",
            "linecolor": "white",
            "ticks": ""
           },
           "bgcolor": "#E5ECF6",
           "radialaxis": {
            "gridcolor": "white",
            "linecolor": "white",
            "ticks": ""
           }
          },
          "scene": {
           "xaxis": {
            "backgroundcolor": "#E5ECF6",
            "gridcolor": "white",
            "gridwidth": 2,
            "linecolor": "white",
            "showbackground": true,
            "ticks": "",
            "zerolinecolor": "white"
           },
           "yaxis": {
            "backgroundcolor": "#E5ECF6",
            "gridcolor": "white",
            "gridwidth": 2,
            "linecolor": "white",
            "showbackground": true,
            "ticks": "",
            "zerolinecolor": "white"
           },
           "zaxis": {
            "backgroundcolor": "#E5ECF6",
            "gridcolor": "white",
            "gridwidth": 2,
            "linecolor": "white",
            "showbackground": true,
            "ticks": "",
            "zerolinecolor": "white"
           }
          },
          "shapedefaults": {
           "line": {
            "color": "#2a3f5f"
           }
          },
          "ternary": {
           "aaxis": {
            "gridcolor": "white",
            "linecolor": "white",
            "ticks": ""
           },
           "baxis": {
            "gridcolor": "white",
            "linecolor": "white",
            "ticks": ""
           },
           "bgcolor": "#E5ECF6",
           "caxis": {
            "gridcolor": "white",
            "linecolor": "white",
            "ticks": ""
           }
          },
          "title": {
           "x": 0.05
          },
          "xaxis": {
           "automargin": true,
           "gridcolor": "white",
           "linecolor": "white",
           "ticks": "",
           "title": {
            "standoff": 15
           },
           "zerolinecolor": "white",
           "zerolinewidth": 2
          },
          "yaxis": {
           "automargin": true,
           "gridcolor": "white",
           "linecolor": "white",
           "ticks": "",
           "title": {
            "standoff": 15
           },
           "zerolinecolor": "white",
           "zerolinewidth": 2
          }
         }
        },
        "title": {
         "text": "Boxplots der numerischen Merkmale"
        },
        "xaxis": {
         "anchor": "y",
         "domain": [
          0,
          0.46
         ],
         "showgrid": false
        },
        "xaxis2": {
         "anchor": "y2",
         "domain": [
          0.54,
          1
         ],
         "showgrid": false
        },
        "xaxis3": {
         "anchor": "y3",
         "domain": [
          0,
          0.46
         ],
         "showgrid": false
        },
        "xaxis4": {
         "anchor": "y4",
         "domain": [
          0.54,
          1
         ],
         "showgrid": false
        },
        "yaxis": {
         "anchor": "x",
         "domain": [
          0.575,
          1
         ],
         "showgrid": true
        },
        "yaxis2": {
         "anchor": "x2",
         "domain": [
          0.575,
          1
         ],
         "showgrid": true
        },
        "yaxis3": {
         "anchor": "x3",
         "domain": [
          0,
          0.425
         ],
         "showgrid": true
        },
        "yaxis4": {
         "anchor": "x4",
         "domain": [
          0,
          0.425
         ],
         "showgrid": true
        }
       }
      }
     },
     "metadata": {},
     "output_type": "display_data"
    }
   ],
   "source": [
    "# 1) Subplot-Raster festlegen:\n",
    "cols_per_row = 2\n",
    "rows = math.ceil(len(numeric_cols) / cols_per_row)\n",
    "\n",
    "fig2 = make_subplots(\n",
    "    rows=rows,\n",
    "    cols=cols_per_row,\n",
    "    subplot_titles=numeric_cols,\n",
    "    horizontal_spacing=0.08,\n",
    "    vertical_spacing=0.15\n",
    ")\n",
    "\n",
    "# 2) Boxplots je numerischer Spalte hinzufügen:\n",
    "for i, col in enumerate(numeric_cols):\n",
    "    r = i // cols_per_row + 1\n",
    "    c = i % cols_per_row + 1\n",
    "    fig2.add_trace(\n",
    "        go.Box(\n",
    "            y=df[col],\n",
    "            name=col,\n",
    "            boxpoints=\"outliers\",   \n",
    "            marker_line_color=\"black\",\n",
    "            marker_line_width=1,\n",
    "            whiskerwidth=0.8\n",
    "        ),\n",
    "        row=r, col=c\n",
    "    )\n",
    "\n",
    "# 3) Layout anpassen:\n",
    "fig2.update_xaxes(showgrid=False)\n",
    "fig2.update_yaxes(showgrid=True)\n",
    "fig2.update_layout(\n",
    "    title=\"Boxplots der numerischen Merkmale\",\n",
    "    showlegend=False,\n",
    "    height=300 * rows\n",
    ")\n",
    "\n",
    "fig2"
   ]
  },
  {
   "cell_type": "markdown",
   "id": "21edeaf6",
   "metadata": {},
   "source": [
    "Die Boxplots zeigen, dass es einige Ausreißer bei der Kreditlaufzeit (Duration) gibt, die über 70 Monate liegen."
   ]
  },
  {
   "cell_type": "code",
   "execution_count": 15,
   "id": "dddeac1c",
   "metadata": {},
   "outputs": [
    {
     "data": {
      "application/vnd.microsoft.datawrangler.viewer.v0+json": {
       "columns": [
        {
         "name": "index",
         "rawType": "int64",
         "type": "integer"
        },
        {
         "name": "Age",
         "rawType": "int64",
         "type": "integer"
        },
        {
         "name": "Sex",
         "rawType": "object",
         "type": "string"
        },
        {
         "name": "Job",
         "rawType": "int64",
         "type": "integer"
        },
        {
         "name": "Housing",
         "rawType": "object",
         "type": "string"
        },
        {
         "name": "Saving accounts",
         "rawType": "object",
         "type": "string"
        },
        {
         "name": "Checking account",
         "rawType": "object",
         "type": "string"
        },
        {
         "name": "Credit amount",
         "rawType": "int64",
         "type": "integer"
        },
        {
         "name": "Duration",
         "rawType": "int64",
         "type": "integer"
        },
        {
         "name": "Purpose",
         "rawType": "object",
         "type": "string"
        },
        {
         "name": "Risk",
         "rawType": "object",
         "type": "string"
        }
       ],
       "ref": "4accfd1b-90f7-436f-902a-1e9dfca52943",
       "rows": [
        [
         "358",
         "24",
         "male",
         "2",
         "own",
         "moderate",
         "moderate",
         "5595",
         "72",
         "radio/TV",
         "bad"
        ]
       ],
       "shape": {
        "columns": 10,
        "rows": 1
       }
      },
      "text/html": [
       "<div>\n",
       "<style scoped>\n",
       "    .dataframe tbody tr th:only-of-type {\n",
       "        vertical-align: middle;\n",
       "    }\n",
       "\n",
       "    .dataframe tbody tr th {\n",
       "        vertical-align: top;\n",
       "    }\n",
       "\n",
       "    .dataframe thead th {\n",
       "        text-align: right;\n",
       "    }\n",
       "</style>\n",
       "<table border=\"1\" class=\"dataframe\">\n",
       "  <thead>\n",
       "    <tr style=\"text-align: right;\">\n",
       "      <th></th>\n",
       "      <th>Age</th>\n",
       "      <th>Sex</th>\n",
       "      <th>Job</th>\n",
       "      <th>Housing</th>\n",
       "      <th>Saving accounts</th>\n",
       "      <th>Checking account</th>\n",
       "      <th>Credit amount</th>\n",
       "      <th>Duration</th>\n",
       "      <th>Purpose</th>\n",
       "      <th>Risk</th>\n",
       "    </tr>\n",
       "  </thead>\n",
       "  <tbody>\n",
       "    <tr>\n",
       "      <th>358</th>\n",
       "      <td>24</td>\n",
       "      <td>male</td>\n",
       "      <td>2</td>\n",
       "      <td>own</td>\n",
       "      <td>moderate</td>\n",
       "      <td>moderate</td>\n",
       "      <td>5595</td>\n",
       "      <td>72</td>\n",
       "      <td>radio/TV</td>\n",
       "      <td>bad</td>\n",
       "    </tr>\n",
       "  </tbody>\n",
       "</table>\n",
       "</div>"
      ],
      "text/plain": [
       "     Age   Sex  Job Housing Saving accounts Checking account  Credit amount  \\\n",
       "358   24  male    2     own        moderate         moderate           5595   \n",
       "\n",
       "     Duration   Purpose Risk  \n",
       "358        72  radio/TV  bad  "
      ]
     },
     "execution_count": 15,
     "metadata": {},
     "output_type": "execute_result"
    }
   ],
   "source": [
    "df.query(\"Duration > 70\")"
   ]
  },
  {
   "cell_type": "code",
   "execution_count": 16,
   "id": "e85c2166",
   "metadata": {},
   "outputs": [
    {
     "data": {
      "application/vnd.microsoft.datawrangler.viewer.v0+json": {
       "columns": [
        {
         "name": "index",
         "rawType": "int64",
         "type": "integer"
        },
        {
         "name": "Age",
         "rawType": "int64",
         "type": "integer"
        },
        {
         "name": "Sex",
         "rawType": "object",
         "type": "string"
        },
        {
         "name": "Job",
         "rawType": "int64",
         "type": "integer"
        },
        {
         "name": "Housing",
         "rawType": "object",
         "type": "string"
        },
        {
         "name": "Saving accounts",
         "rawType": "object",
         "type": "string"
        },
        {
         "name": "Checking account",
         "rawType": "object",
         "type": "string"
        },
        {
         "name": "Credit amount",
         "rawType": "int64",
         "type": "integer"
        },
        {
         "name": "Duration",
         "rawType": "int64",
         "type": "integer"
        },
        {
         "name": "Purpose",
         "rawType": "object",
         "type": "string"
        },
        {
         "name": "Risk",
         "rawType": "object",
         "type": "string"
        }
       ],
       "ref": "525c2173-2c0d-498b-b36a-312988750236",
       "rows": [
        [
         "18",
         "63",
         "male",
         "2",
         "own",
         "little",
         "little",
         "6836",
         "60",
         "business",
         "bad"
        ],
        [
         "176",
         "24",
         "female",
         "3",
         "own",
         "moderate",
         "moderate",
         "7408",
         "60",
         "car",
         "bad"
        ],
        [
         "199",
         "60",
         "female",
         "3",
         "free",
         "moderate",
         "moderate",
         "14782",
         "60",
         "vacation/others",
         "bad"
        ],
        [
         "358",
         "24",
         "male",
         "2",
         "own",
         "moderate",
         "moderate",
         "5595",
         "72",
         "radio/TV",
         "bad"
        ],
        [
         "378",
         "27",
         "male",
         "3",
         "own",
         "little",
         "moderate",
         "14027",
         "60",
         "car",
         "bad"
        ],
        [
         "489",
         "42",
         "male",
         "2",
         "free",
         "little",
         "moderate",
         "6288",
         "60",
         "education",
         "bad"
        ],
        [
         "507",
         "36",
         "male",
         "2",
         "rent",
         "little",
         "little",
         "7297",
         "60",
         "business",
         "bad"
        ]
       ],
       "shape": {
        "columns": 10,
        "rows": 7
       }
      },
      "text/html": [
       "<div>\n",
       "<style scoped>\n",
       "    .dataframe tbody tr th:only-of-type {\n",
       "        vertical-align: middle;\n",
       "    }\n",
       "\n",
       "    .dataframe tbody tr th {\n",
       "        vertical-align: top;\n",
       "    }\n",
       "\n",
       "    .dataframe thead th {\n",
       "        text-align: right;\n",
       "    }\n",
       "</style>\n",
       "<table border=\"1\" class=\"dataframe\">\n",
       "  <thead>\n",
       "    <tr style=\"text-align: right;\">\n",
       "      <th></th>\n",
       "      <th>Age</th>\n",
       "      <th>Sex</th>\n",
       "      <th>Job</th>\n",
       "      <th>Housing</th>\n",
       "      <th>Saving accounts</th>\n",
       "      <th>Checking account</th>\n",
       "      <th>Credit amount</th>\n",
       "      <th>Duration</th>\n",
       "      <th>Purpose</th>\n",
       "      <th>Risk</th>\n",
       "    </tr>\n",
       "  </thead>\n",
       "  <tbody>\n",
       "    <tr>\n",
       "      <th>18</th>\n",
       "      <td>63</td>\n",
       "      <td>male</td>\n",
       "      <td>2</td>\n",
       "      <td>own</td>\n",
       "      <td>little</td>\n",
       "      <td>little</td>\n",
       "      <td>6836</td>\n",
       "      <td>60</td>\n",
       "      <td>business</td>\n",
       "      <td>bad</td>\n",
       "    </tr>\n",
       "    <tr>\n",
       "      <th>176</th>\n",
       "      <td>24</td>\n",
       "      <td>female</td>\n",
       "      <td>3</td>\n",
       "      <td>own</td>\n",
       "      <td>moderate</td>\n",
       "      <td>moderate</td>\n",
       "      <td>7408</td>\n",
       "      <td>60</td>\n",
       "      <td>car</td>\n",
       "      <td>bad</td>\n",
       "    </tr>\n",
       "    <tr>\n",
       "      <th>199</th>\n",
       "      <td>60</td>\n",
       "      <td>female</td>\n",
       "      <td>3</td>\n",
       "      <td>free</td>\n",
       "      <td>moderate</td>\n",
       "      <td>moderate</td>\n",
       "      <td>14782</td>\n",
       "      <td>60</td>\n",
       "      <td>vacation/others</td>\n",
       "      <td>bad</td>\n",
       "    </tr>\n",
       "    <tr>\n",
       "      <th>358</th>\n",
       "      <td>24</td>\n",
       "      <td>male</td>\n",
       "      <td>2</td>\n",
       "      <td>own</td>\n",
       "      <td>moderate</td>\n",
       "      <td>moderate</td>\n",
       "      <td>5595</td>\n",
       "      <td>72</td>\n",
       "      <td>radio/TV</td>\n",
       "      <td>bad</td>\n",
       "    </tr>\n",
       "    <tr>\n",
       "      <th>378</th>\n",
       "      <td>27</td>\n",
       "      <td>male</td>\n",
       "      <td>3</td>\n",
       "      <td>own</td>\n",
       "      <td>little</td>\n",
       "      <td>moderate</td>\n",
       "      <td>14027</td>\n",
       "      <td>60</td>\n",
       "      <td>car</td>\n",
       "      <td>bad</td>\n",
       "    </tr>\n",
       "    <tr>\n",
       "      <th>489</th>\n",
       "      <td>42</td>\n",
       "      <td>male</td>\n",
       "      <td>2</td>\n",
       "      <td>free</td>\n",
       "      <td>little</td>\n",
       "      <td>moderate</td>\n",
       "      <td>6288</td>\n",
       "      <td>60</td>\n",
       "      <td>education</td>\n",
       "      <td>bad</td>\n",
       "    </tr>\n",
       "    <tr>\n",
       "      <th>507</th>\n",
       "      <td>36</td>\n",
       "      <td>male</td>\n",
       "      <td>2</td>\n",
       "      <td>rent</td>\n",
       "      <td>little</td>\n",
       "      <td>little</td>\n",
       "      <td>7297</td>\n",
       "      <td>60</td>\n",
       "      <td>business</td>\n",
       "      <td>bad</td>\n",
       "    </tr>\n",
       "  </tbody>\n",
       "</table>\n",
       "</div>"
      ],
      "text/plain": [
       "     Age     Sex  Job Housing Saving accounts Checking account  Credit amount  \\\n",
       "18    63    male    2     own          little           little           6836   \n",
       "176   24  female    3     own        moderate         moderate           7408   \n",
       "199   60  female    3    free        moderate         moderate          14782   \n",
       "358   24    male    2     own        moderate         moderate           5595   \n",
       "378   27    male    3     own          little         moderate          14027   \n",
       "489   42    male    2    free          little         moderate           6288   \n",
       "507   36    male    2    rent          little           little           7297   \n",
       "\n",
       "     Duration          Purpose Risk  \n",
       "18         60         business  bad  \n",
       "176        60              car  bad  \n",
       "199        60  vacation/others  bad  \n",
       "358        72         radio/TV  bad  \n",
       "378        60              car  bad  \n",
       "489        60        education  bad  \n",
       "507        60         business  bad  "
      ]
     },
     "execution_count": 16,
     "metadata": {},
     "output_type": "execute_result"
    }
   ],
   "source": [
    "df.query(\"Duration >= 60\")"
   ]
  },
  {
   "cell_type": "markdown",
   "id": "6e26722d",
   "metadata": {},
   "source": [
    "## Kategorialen Merkmale untersuchen"
   ]
  },
  {
   "cell_type": "code",
   "execution_count": 17,
   "id": "8147b6ae",
   "metadata": {},
   "outputs": [
    {
     "data": {
      "application/vnd.plotly.v1+json": {
       "config": {
        "plotlyServerURL": "https://plot.ly"
       },
       "data": [
        {
         "marker": {
          "line": {
           "color": "black",
           "width": 1
          }
         },
         "name": "Sex",
         "type": "bar",
         "x": [
          "male",
          "female"
         ],
         "xaxis": "x",
         "y": {
          "bdata": "YgGoAA==",
          "dtype": "i2"
         },
         "yaxis": "y"
        },
        {
         "marker": {
          "line": {
           "color": "black",
           "width": 1
          }
         },
         "name": "Housing",
         "type": "bar",
         "x": [
          "own",
          "rent",
          "free"
         ],
         "xaxis": "x2",
         "y": {
          "bdata": "XQFsAEEA",
          "dtype": "i2"
         },
         "yaxis": "y2"
        },
        {
         "marker": {
          "line": {
           "color": "black",
           "width": 1
          }
         },
         "name": "Saving accounts",
         "type": "bar",
         "x": [
          "little",
          "moderate",
          "quite rich",
          "rich"
         ],
         "xaxis": "x3",
         "y": {
          "bdata": "nAFAABcAFwA=",
          "dtype": "i2"
         },
         "yaxis": "y3"
        },
        {
         "marker": {
          "line": {
           "color": "black",
           "width": 1
          }
         },
         "name": "Checking account",
         "type": "bar",
         "x": [
          "little",
          "moderate",
          "rich"
         ],
         "xaxis": "x4",
         "y": {
          "bdata": "9QDgADUA",
          "dtype": "i2"
         },
         "yaxis": "y4"
        },
        {
         "marker": {
          "line": {
           "color": "black",
           "width": 1
          }
         },
         "name": "Purpose",
         "type": "bar",
         "x": [
          "car",
          "radio/TV",
          "furniture/equipment",
          "business",
          "education",
          "repairs",
          "vacation/others",
          "domestic appliances"
         ],
         "xaxis": "x5",
         "y": {
          "bdata": "rQCEAGsANQAcAA4ACQAGAA==",
          "dtype": "i2"
         },
         "yaxis": "y5"
        },
        {
         "marker": {
          "line": {
           "color": "black",
           "width": 1
          }
         },
         "name": "Risk",
         "type": "bar",
         "x": [
          "good",
          "bad"
         ],
         "xaxis": "x6",
         "y": {
          "bdata": "IwHnAA==",
          "dtype": "i2"
         },
         "yaxis": "y6"
        }
       ],
       "layout": {
        "annotations": [
         {
          "font": {
           "size": 16
          },
          "showarrow": false,
          "text": "Sex",
          "x": 0.13999999999999999,
          "xanchor": "center",
          "xref": "paper",
          "y": 1,
          "yanchor": "bottom",
          "yref": "paper"
         },
         {
          "font": {
           "size": 16
          },
          "showarrow": false,
          "text": "Housing",
          "x": 0.49999999999999994,
          "xanchor": "center",
          "xref": "paper",
          "y": 1,
          "yanchor": "bottom",
          "yref": "paper"
         },
         {
          "font": {
           "size": 16
          },
          "showarrow": false,
          "text": "Saving accounts",
          "x": 0.86,
          "xanchor": "center",
          "xref": "paper",
          "y": 1,
          "yanchor": "bottom",
          "yref": "paper"
         },
         {
          "font": {
           "size": 16
          },
          "showarrow": false,
          "text": "Checking account",
          "x": 0.13999999999999999,
          "xanchor": "center",
          "xref": "paper",
          "y": 0.425,
          "yanchor": "bottom",
          "yref": "paper"
         },
         {
          "font": {
           "size": 16
          },
          "showarrow": false,
          "text": "Purpose",
          "x": 0.49999999999999994,
          "xanchor": "center",
          "xref": "paper",
          "y": 0.425,
          "yanchor": "bottom",
          "yref": "paper"
         },
         {
          "font": {
           "size": 16
          },
          "showarrow": false,
          "text": "Risk",
          "x": 0.86,
          "xanchor": "center",
          "xref": "paper",
          "y": 0.425,
          "yanchor": "bottom",
          "yref": "paper"
         }
        ],
        "height": 700,
        "showlegend": false,
        "template": {
         "data": {
          "bar": [
           {
            "error_x": {
             "color": "#2a3f5f"
            },
            "error_y": {
             "color": "#2a3f5f"
            },
            "marker": {
             "line": {
              "color": "#E5ECF6",
              "width": 0.5
             },
             "pattern": {
              "fillmode": "overlay",
              "size": 10,
              "solidity": 0.2
             }
            },
            "type": "bar"
           }
          ],
          "barpolar": [
           {
            "marker": {
             "line": {
              "color": "#E5ECF6",
              "width": 0.5
             },
             "pattern": {
              "fillmode": "overlay",
              "size": 10,
              "solidity": 0.2
             }
            },
            "type": "barpolar"
           }
          ],
          "carpet": [
           {
            "aaxis": {
             "endlinecolor": "#2a3f5f",
             "gridcolor": "white",
             "linecolor": "white",
             "minorgridcolor": "white",
             "startlinecolor": "#2a3f5f"
            },
            "baxis": {
             "endlinecolor": "#2a3f5f",
             "gridcolor": "white",
             "linecolor": "white",
             "minorgridcolor": "white",
             "startlinecolor": "#2a3f5f"
            },
            "type": "carpet"
           }
          ],
          "choropleth": [
           {
            "colorbar": {
             "outlinewidth": 0,
             "ticks": ""
            },
            "type": "choropleth"
           }
          ],
          "contour": [
           {
            "colorbar": {
             "outlinewidth": 0,
             "ticks": ""
            },
            "colorscale": [
             [
              0,
              "#0d0887"
             ],
             [
              0.1111111111111111,
              "#46039f"
             ],
             [
              0.2222222222222222,
              "#7201a8"
             ],
             [
              0.3333333333333333,
              "#9c179e"
             ],
             [
              0.4444444444444444,
              "#bd3786"
             ],
             [
              0.5555555555555556,
              "#d8576b"
             ],
             [
              0.6666666666666666,
              "#ed7953"
             ],
             [
              0.7777777777777778,
              "#fb9f3a"
             ],
             [
              0.8888888888888888,
              "#fdca26"
             ],
             [
              1,
              "#f0f921"
             ]
            ],
            "type": "contour"
           }
          ],
          "contourcarpet": [
           {
            "colorbar": {
             "outlinewidth": 0,
             "ticks": ""
            },
            "type": "contourcarpet"
           }
          ],
          "heatmap": [
           {
            "colorbar": {
             "outlinewidth": 0,
             "ticks": ""
            },
            "colorscale": [
             [
              0,
              "#0d0887"
             ],
             [
              0.1111111111111111,
              "#46039f"
             ],
             [
              0.2222222222222222,
              "#7201a8"
             ],
             [
              0.3333333333333333,
              "#9c179e"
             ],
             [
              0.4444444444444444,
              "#bd3786"
             ],
             [
              0.5555555555555556,
              "#d8576b"
             ],
             [
              0.6666666666666666,
              "#ed7953"
             ],
             [
              0.7777777777777778,
              "#fb9f3a"
             ],
             [
              0.8888888888888888,
              "#fdca26"
             ],
             [
              1,
              "#f0f921"
             ]
            ],
            "type": "heatmap"
           }
          ],
          "histogram": [
           {
            "marker": {
             "pattern": {
              "fillmode": "overlay",
              "size": 10,
              "solidity": 0.2
             }
            },
            "type": "histogram"
           }
          ],
          "histogram2d": [
           {
            "colorbar": {
             "outlinewidth": 0,
             "ticks": ""
            },
            "colorscale": [
             [
              0,
              "#0d0887"
             ],
             [
              0.1111111111111111,
              "#46039f"
             ],
             [
              0.2222222222222222,
              "#7201a8"
             ],
             [
              0.3333333333333333,
              "#9c179e"
             ],
             [
              0.4444444444444444,
              "#bd3786"
             ],
             [
              0.5555555555555556,
              "#d8576b"
             ],
             [
              0.6666666666666666,
              "#ed7953"
             ],
             [
              0.7777777777777778,
              "#fb9f3a"
             ],
             [
              0.8888888888888888,
              "#fdca26"
             ],
             [
              1,
              "#f0f921"
             ]
            ],
            "type": "histogram2d"
           }
          ],
          "histogram2dcontour": [
           {
            "colorbar": {
             "outlinewidth": 0,
             "ticks": ""
            },
            "colorscale": [
             [
              0,
              "#0d0887"
             ],
             [
              0.1111111111111111,
              "#46039f"
             ],
             [
              0.2222222222222222,
              "#7201a8"
             ],
             [
              0.3333333333333333,
              "#9c179e"
             ],
             [
              0.4444444444444444,
              "#bd3786"
             ],
             [
              0.5555555555555556,
              "#d8576b"
             ],
             [
              0.6666666666666666,
              "#ed7953"
             ],
             [
              0.7777777777777778,
              "#fb9f3a"
             ],
             [
              0.8888888888888888,
              "#fdca26"
             ],
             [
              1,
              "#f0f921"
             ]
            ],
            "type": "histogram2dcontour"
           }
          ],
          "mesh3d": [
           {
            "colorbar": {
             "outlinewidth": 0,
             "ticks": ""
            },
            "type": "mesh3d"
           }
          ],
          "parcoords": [
           {
            "line": {
             "colorbar": {
              "outlinewidth": 0,
              "ticks": ""
             }
            },
            "type": "parcoords"
           }
          ],
          "pie": [
           {
            "automargin": true,
            "type": "pie"
           }
          ],
          "scatter": [
           {
            "fillpattern": {
             "fillmode": "overlay",
             "size": 10,
             "solidity": 0.2
            },
            "type": "scatter"
           }
          ],
          "scatter3d": [
           {
            "line": {
             "colorbar": {
              "outlinewidth": 0,
              "ticks": ""
             }
            },
            "marker": {
             "colorbar": {
              "outlinewidth": 0,
              "ticks": ""
             }
            },
            "type": "scatter3d"
           }
          ],
          "scattercarpet": [
           {
            "marker": {
             "colorbar": {
              "outlinewidth": 0,
              "ticks": ""
             }
            },
            "type": "scattercarpet"
           }
          ],
          "scattergeo": [
           {
            "marker": {
             "colorbar": {
              "outlinewidth": 0,
              "ticks": ""
             }
            },
            "type": "scattergeo"
           }
          ],
          "scattergl": [
           {
            "marker": {
             "colorbar": {
              "outlinewidth": 0,
              "ticks": ""
             }
            },
            "type": "scattergl"
           }
          ],
          "scattermap": [
           {
            "marker": {
             "colorbar": {
              "outlinewidth": 0,
              "ticks": ""
             }
            },
            "type": "scattermap"
           }
          ],
          "scattermapbox": [
           {
            "marker": {
             "colorbar": {
              "outlinewidth": 0,
              "ticks": ""
             }
            },
            "type": "scattermapbox"
           }
          ],
          "scatterpolar": [
           {
            "marker": {
             "colorbar": {
              "outlinewidth": 0,
              "ticks": ""
             }
            },
            "type": "scatterpolar"
           }
          ],
          "scatterpolargl": [
           {
            "marker": {
             "colorbar": {
              "outlinewidth": 0,
              "ticks": ""
             }
            },
            "type": "scatterpolargl"
           }
          ],
          "scatterternary": [
           {
            "marker": {
             "colorbar": {
              "outlinewidth": 0,
              "ticks": ""
             }
            },
            "type": "scatterternary"
           }
          ],
          "surface": [
           {
            "colorbar": {
             "outlinewidth": 0,
             "ticks": ""
            },
            "colorscale": [
             [
              0,
              "#0d0887"
             ],
             [
              0.1111111111111111,
              "#46039f"
             ],
             [
              0.2222222222222222,
              "#7201a8"
             ],
             [
              0.3333333333333333,
              "#9c179e"
             ],
             [
              0.4444444444444444,
              "#bd3786"
             ],
             [
              0.5555555555555556,
              "#d8576b"
             ],
             [
              0.6666666666666666,
              "#ed7953"
             ],
             [
              0.7777777777777778,
              "#fb9f3a"
             ],
             [
              0.8888888888888888,
              "#fdca26"
             ],
             [
              1,
              "#f0f921"
             ]
            ],
            "type": "surface"
           }
          ],
          "table": [
           {
            "cells": {
             "fill": {
              "color": "#EBF0F8"
             },
             "line": {
              "color": "white"
             }
            },
            "header": {
             "fill": {
              "color": "#C8D4E3"
             },
             "line": {
              "color": "white"
             }
            },
            "type": "table"
           }
          ]
         },
         "layout": {
          "annotationdefaults": {
           "arrowcolor": "#2a3f5f",
           "arrowhead": 0,
           "arrowwidth": 1
          },
          "autotypenumbers": "strict",
          "coloraxis": {
           "colorbar": {
            "outlinewidth": 0,
            "ticks": ""
           }
          },
          "colorscale": {
           "diverging": [
            [
             0,
             "#8e0152"
            ],
            [
             0.1,
             "#c51b7d"
            ],
            [
             0.2,
             "#de77ae"
            ],
            [
             0.3,
             "#f1b6da"
            ],
            [
             0.4,
             "#fde0ef"
            ],
            [
             0.5,
             "#f7f7f7"
            ],
            [
             0.6,
             "#e6f5d0"
            ],
            [
             0.7,
             "#b8e186"
            ],
            [
             0.8,
             "#7fbc41"
            ],
            [
             0.9,
             "#4d9221"
            ],
            [
             1,
             "#276419"
            ]
           ],
           "sequential": [
            [
             0,
             "#0d0887"
            ],
            [
             0.1111111111111111,
             "#46039f"
            ],
            [
             0.2222222222222222,
             "#7201a8"
            ],
            [
             0.3333333333333333,
             "#9c179e"
            ],
            [
             0.4444444444444444,
             "#bd3786"
            ],
            [
             0.5555555555555556,
             "#d8576b"
            ],
            [
             0.6666666666666666,
             "#ed7953"
            ],
            [
             0.7777777777777778,
             "#fb9f3a"
            ],
            [
             0.8888888888888888,
             "#fdca26"
            ],
            [
             1,
             "#f0f921"
            ]
           ],
           "sequentialminus": [
            [
             0,
             "#0d0887"
            ],
            [
             0.1111111111111111,
             "#46039f"
            ],
            [
             0.2222222222222222,
             "#7201a8"
            ],
            [
             0.3333333333333333,
             "#9c179e"
            ],
            [
             0.4444444444444444,
             "#bd3786"
            ],
            [
             0.5555555555555556,
             "#d8576b"
            ],
            [
             0.6666666666666666,
             "#ed7953"
            ],
            [
             0.7777777777777778,
             "#fb9f3a"
            ],
            [
             0.8888888888888888,
             "#fdca26"
            ],
            [
             1,
             "#f0f921"
            ]
           ]
          },
          "colorway": [
           "#636efa",
           "#EF553B",
           "#00cc96",
           "#ab63fa",
           "#FFA15A",
           "#19d3f3",
           "#FF6692",
           "#B6E880",
           "#FF97FF",
           "#FECB52"
          ],
          "font": {
           "color": "#2a3f5f"
          },
          "geo": {
           "bgcolor": "white",
           "lakecolor": "white",
           "landcolor": "#E5ECF6",
           "showlakes": true,
           "showland": true,
           "subunitcolor": "white"
          },
          "hoverlabel": {
           "align": "left"
          },
          "hovermode": "closest",
          "mapbox": {
           "style": "light"
          },
          "paper_bgcolor": "white",
          "plot_bgcolor": "#E5ECF6",
          "polar": {
           "angularaxis": {
            "gridcolor": "white",
            "linecolor": "white",
            "ticks": ""
           },
           "bgcolor": "#E5ECF6",
           "radialaxis": {
            "gridcolor": "white",
            "linecolor": "white",
            "ticks": ""
           }
          },
          "scene": {
           "xaxis": {
            "backgroundcolor": "#E5ECF6",
            "gridcolor": "white",
            "gridwidth": 2,
            "linecolor": "white",
            "showbackground": true,
            "ticks": "",
            "zerolinecolor": "white"
           },
           "yaxis": {
            "backgroundcolor": "#E5ECF6",
            "gridcolor": "white",
            "gridwidth": 2,
            "linecolor": "white",
            "showbackground": true,
            "ticks": "",
            "zerolinecolor": "white"
           },
           "zaxis": {
            "backgroundcolor": "#E5ECF6",
            "gridcolor": "white",
            "gridwidth": 2,
            "linecolor": "white",
            "showbackground": true,
            "ticks": "",
            "zerolinecolor": "white"
           }
          },
          "shapedefaults": {
           "line": {
            "color": "#2a3f5f"
           }
          },
          "ternary": {
           "aaxis": {
            "gridcolor": "white",
            "linecolor": "white",
            "ticks": ""
           },
           "baxis": {
            "gridcolor": "white",
            "linecolor": "white",
            "ticks": ""
           },
           "bgcolor": "#E5ECF6",
           "caxis": {
            "gridcolor": "white",
            "linecolor": "white",
            "ticks": ""
           }
          },
          "title": {
           "x": 0.05
          },
          "xaxis": {
           "automargin": true,
           "gridcolor": "white",
           "linecolor": "white",
           "ticks": "",
           "title": {
            "standoff": 15
           },
           "zerolinecolor": "white",
           "zerolinewidth": 2
          },
          "yaxis": {
           "automargin": true,
           "gridcolor": "white",
           "linecolor": "white",
           "ticks": "",
           "title": {
            "standoff": 15
           },
           "zerolinecolor": "white",
           "zerolinewidth": 2
          }
         }
        },
        "title": {
         "text": "Verteilung der kategorialen Merkmale"
        },
        "xaxis": {
         "anchor": "y",
         "domain": [
          0,
          0.27999999999999997
         ],
         "showgrid": false,
         "tickangle": 45
        },
        "xaxis2": {
         "anchor": "y2",
         "domain": [
          0.36,
          0.6399999999999999
         ],
         "showgrid": false,
         "tickangle": 45
        },
        "xaxis3": {
         "anchor": "y3",
         "domain": [
          0.72,
          1
         ],
         "showgrid": false,
         "tickangle": 45
        },
        "xaxis4": {
         "anchor": "y4",
         "domain": [
          0,
          0.27999999999999997
         ],
         "showgrid": false,
         "tickangle": 45
        },
        "xaxis5": {
         "anchor": "y5",
         "domain": [
          0.36,
          0.6399999999999999
         ],
         "showgrid": false,
         "tickangle": 45
        },
        "xaxis6": {
         "anchor": "y6",
         "domain": [
          0.72,
          1
         ],
         "showgrid": false,
         "tickangle": 45
        },
        "yaxis": {
         "anchor": "x",
         "domain": [
          0.575,
          1
         ],
         "showgrid": false
        },
        "yaxis2": {
         "anchor": "x2",
         "domain": [
          0.575,
          1
         ],
         "showgrid": false
        },
        "yaxis3": {
         "anchor": "x3",
         "domain": [
          0.575,
          1
         ],
         "showgrid": false
        },
        "yaxis4": {
         "anchor": "x4",
         "domain": [
          0,
          0.425
         ],
         "showgrid": false
        },
        "yaxis5": {
         "anchor": "x5",
         "domain": [
          0,
          0.425
         ],
         "showgrid": false
        },
        "yaxis6": {
         "anchor": "x6",
         "domain": [
          0,
          0.425
         ],
         "showgrid": false
        }
       }
      }
     },
     "metadata": {},
     "output_type": "display_data"
    }
   ],
   "source": [
    "# 1) Kategorische Spalten ermitteln:\n",
    "categorical_cols = df.select_dtypes(include=[\"object\"]).columns.tolist()\n",
    "\n",
    "# 2) Subplot-Raster anlegen:\n",
    "cols_per_row = 3\n",
    "rows = math.ceil(len(categorical_cols) / cols_per_row)\n",
    "\n",
    "fig3 = make_subplots(\n",
    "    rows=rows,\n",
    "    cols=cols_per_row,\n",
    "    subplot_titles=categorical_cols,\n",
    "    horizontal_spacing=0.08,\n",
    "    vertical_spacing=0.15\n",
    ")\n",
    "\n",
    "# 3) Für jede kategoriale Spalte ein Balkendiagramm hinzufügen:\n",
    "for i, col in enumerate(categorical_cols):\n",
    "    r = i // cols_per_row + 1\n",
    "    c = i % cols_per_row + 1\n",
    "    \n",
    "    value_counts = df[col].value_counts().sort_values(ascending=False)\n",
    "    \n",
    "    fig3.add_trace(\n",
    "        go.Bar(\n",
    "            x=value_counts.index.astype(str), \n",
    "            y=value_counts.values,             \n",
    "            marker_line_color=\"black\",\n",
    "            marker_line_width=1,\n",
    "            name=col\n",
    "        ),\n",
    "        row=r, col=c\n",
    "    )\n",
    "\n",
    "# 4) Layout anpassen:\n",
    "fig3.update_xaxes(showgrid=False, tickangle=45)\n",
    "fig3.update_yaxes(showgrid=False)\n",
    "fig3.update_layout(\n",
    "    title=\"Verteilung der kategorialen Merkmale\",\n",
    "    showlegend=False,\n",
    "    height=350 * rows\n",
    ")\n",
    "\n",
    "fig3"
   ]
  },
  {
   "cell_type": "markdown",
   "id": "74b31076",
   "metadata": {},
   "source": [
    "Korrelationsmatrix"
   ]
  },
  {
   "cell_type": "code",
   "execution_count": 18,
   "id": "acfaafe0",
   "metadata": {},
   "outputs": [
    {
     "data": {
      "application/vnd.microsoft.datawrangler.viewer.v0+json": {
       "columns": [
        {
         "name": "index",
         "rawType": "object",
         "type": "string"
        },
        {
         "name": "Age",
         "rawType": "float64",
         "type": "float"
        },
        {
         "name": "Job",
         "rawType": "float64",
         "type": "float"
        },
        {
         "name": "Credit amount",
         "rawType": "float64",
         "type": "float"
        },
        {
         "name": "Duration",
         "rawType": "float64",
         "type": "float"
        }
       ],
       "ref": "e1f0dce3-2e36-4548-9ec8-da02fed34901",
       "rows": [
        [
         "Age",
         "1.0",
         "0.039770677795296784",
         "0.08201393437429419",
         "0.001548978639527198"
        ],
        [
         "Job",
         "0.039770677795296784",
         "1.0",
         "0.33472091261588316",
         "0.2007939915792599"
        ],
        [
         "Credit amount",
         "0.08201393437429419",
         "0.33472091261588316",
         "1.0",
         "0.6132978631068117"
        ],
        [
         "Duration",
         "0.001548978639527198",
         "0.2007939915792599",
         "0.6132978631068117",
         "1.0"
        ]
       ],
       "shape": {
        "columns": 4,
        "rows": 4
       }
      },
      "text/html": [
       "<div>\n",
       "<style scoped>\n",
       "    .dataframe tbody tr th:only-of-type {\n",
       "        vertical-align: middle;\n",
       "    }\n",
       "\n",
       "    .dataframe tbody tr th {\n",
       "        vertical-align: top;\n",
       "    }\n",
       "\n",
       "    .dataframe thead th {\n",
       "        text-align: right;\n",
       "    }\n",
       "</style>\n",
       "<table border=\"1\" class=\"dataframe\">\n",
       "  <thead>\n",
       "    <tr style=\"text-align: right;\">\n",
       "      <th></th>\n",
       "      <th>Age</th>\n",
       "      <th>Job</th>\n",
       "      <th>Credit amount</th>\n",
       "      <th>Duration</th>\n",
       "    </tr>\n",
       "  </thead>\n",
       "  <tbody>\n",
       "    <tr>\n",
       "      <th>Age</th>\n",
       "      <td>1.000000</td>\n",
       "      <td>0.039771</td>\n",
       "      <td>0.082014</td>\n",
       "      <td>0.001549</td>\n",
       "    </tr>\n",
       "    <tr>\n",
       "      <th>Job</th>\n",
       "      <td>0.039771</td>\n",
       "      <td>1.000000</td>\n",
       "      <td>0.334721</td>\n",
       "      <td>0.200794</td>\n",
       "    </tr>\n",
       "    <tr>\n",
       "      <th>Credit amount</th>\n",
       "      <td>0.082014</td>\n",
       "      <td>0.334721</td>\n",
       "      <td>1.000000</td>\n",
       "      <td>0.613298</td>\n",
       "    </tr>\n",
       "    <tr>\n",
       "      <th>Duration</th>\n",
       "      <td>0.001549</td>\n",
       "      <td>0.200794</td>\n",
       "      <td>0.613298</td>\n",
       "      <td>1.000000</td>\n",
       "    </tr>\n",
       "  </tbody>\n",
       "</table>\n",
       "</div>"
      ],
      "text/plain": [
       "                    Age       Job  Credit amount  Duration\n",
       "Age            1.000000  0.039771       0.082014  0.001549\n",
       "Job            0.039771  1.000000       0.334721  0.200794\n",
       "Credit amount  0.082014  0.334721       1.000000  0.613298\n",
       "Duration       0.001549  0.200794       0.613298  1.000000"
      ]
     },
     "execution_count": 18,
     "metadata": {},
     "output_type": "execute_result"
    }
   ],
   "source": [
    "corr = df[numeric_cols].corr()\n",
    "corr"
   ]
  },
  {
   "cell_type": "code",
   "execution_count": 19,
   "id": "b0d5ceed",
   "metadata": {},
   "outputs": [
    {
     "data": {
      "application/vnd.plotly.v1+json": {
       "config": {
        "plotlyServerURL": "https://plot.ly"
       },
       "data": [
        {
         "coloraxis": "coloraxis",
         "hovertemplate": "x: %{x}<br>y: %{y}<br>color: %{z}<extra></extra>",
         "name": "0",
         "texttemplate": "%{z}",
         "type": "heatmap",
         "x": [
          "Age",
          "Job",
          "Credit amount",
          "Duration"
         ],
         "xaxis": "x",
         "y": [
          "Age",
          "Job",
          "Credit amount",
          "Duration"
         ],
         "yaxis": "y",
         "z": {
          "bdata": "AAAAAAAA8D97FK5H4XqkP3sUrkfherQ/AAAAAAAAAAB7FK5H4XqkPwAAAAAAAPA/H4XrUbge1T+amZmZmZnJP3sUrkfherQ/H4XrUbge1T8AAAAAAADwP4XrUbgeheM/AAAAAAAAAACamZmZmZnJP4XrUbgeheM/AAAAAAAA8D8=",
          "dtype": "f8",
          "shape": "4, 4"
         }
        }
       ],
       "layout": {
        "coloraxis": {
         "cmax": 1,
         "cmin": -1,
         "colorscale": [
          [
           0,
           "rgb(5,48,97)"
          ],
          [
           0.1,
           "rgb(33,102,172)"
          ],
          [
           0.2,
           "rgb(67,147,195)"
          ],
          [
           0.3,
           "rgb(146,197,222)"
          ],
          [
           0.4,
           "rgb(209,229,240)"
          ],
          [
           0.5,
           "rgb(247,247,247)"
          ],
          [
           0.6,
           "rgb(253,219,199)"
          ],
          [
           0.7,
           "rgb(244,165,130)"
          ],
          [
           0.8,
           "rgb(214,96,77)"
          ],
          [
           0.9,
           "rgb(178,24,43)"
          ],
          [
           1,
           "rgb(103,0,31)"
          ]
         ]
        },
        "margin": {
         "b": 40,
         "l": 60,
         "r": 20,
         "t": 60
        },
        "template": {
         "data": {
          "bar": [
           {
            "error_x": {
             "color": "#2a3f5f"
            },
            "error_y": {
             "color": "#2a3f5f"
            },
            "marker": {
             "line": {
              "color": "#E5ECF6",
              "width": 0.5
             },
             "pattern": {
              "fillmode": "overlay",
              "size": 10,
              "solidity": 0.2
             }
            },
            "type": "bar"
           }
          ],
          "barpolar": [
           {
            "marker": {
             "line": {
              "color": "#E5ECF6",
              "width": 0.5
             },
             "pattern": {
              "fillmode": "overlay",
              "size": 10,
              "solidity": 0.2
             }
            },
            "type": "barpolar"
           }
          ],
          "carpet": [
           {
            "aaxis": {
             "endlinecolor": "#2a3f5f",
             "gridcolor": "white",
             "linecolor": "white",
             "minorgridcolor": "white",
             "startlinecolor": "#2a3f5f"
            },
            "baxis": {
             "endlinecolor": "#2a3f5f",
             "gridcolor": "white",
             "linecolor": "white",
             "minorgridcolor": "white",
             "startlinecolor": "#2a3f5f"
            },
            "type": "carpet"
           }
          ],
          "choropleth": [
           {
            "colorbar": {
             "outlinewidth": 0,
             "ticks": ""
            },
            "type": "choropleth"
           }
          ],
          "contour": [
           {
            "colorbar": {
             "outlinewidth": 0,
             "ticks": ""
            },
            "colorscale": [
             [
              0,
              "#0d0887"
             ],
             [
              0.1111111111111111,
              "#46039f"
             ],
             [
              0.2222222222222222,
              "#7201a8"
             ],
             [
              0.3333333333333333,
              "#9c179e"
             ],
             [
              0.4444444444444444,
              "#bd3786"
             ],
             [
              0.5555555555555556,
              "#d8576b"
             ],
             [
              0.6666666666666666,
              "#ed7953"
             ],
             [
              0.7777777777777778,
              "#fb9f3a"
             ],
             [
              0.8888888888888888,
              "#fdca26"
             ],
             [
              1,
              "#f0f921"
             ]
            ],
            "type": "contour"
           }
          ],
          "contourcarpet": [
           {
            "colorbar": {
             "outlinewidth": 0,
             "ticks": ""
            },
            "type": "contourcarpet"
           }
          ],
          "heatmap": [
           {
            "colorbar": {
             "outlinewidth": 0,
             "ticks": ""
            },
            "colorscale": [
             [
              0,
              "#0d0887"
             ],
             [
              0.1111111111111111,
              "#46039f"
             ],
             [
              0.2222222222222222,
              "#7201a8"
             ],
             [
              0.3333333333333333,
              "#9c179e"
             ],
             [
              0.4444444444444444,
              "#bd3786"
             ],
             [
              0.5555555555555556,
              "#d8576b"
             ],
             [
              0.6666666666666666,
              "#ed7953"
             ],
             [
              0.7777777777777778,
              "#fb9f3a"
             ],
             [
              0.8888888888888888,
              "#fdca26"
             ],
             [
              1,
              "#f0f921"
             ]
            ],
            "type": "heatmap"
           }
          ],
          "histogram": [
           {
            "marker": {
             "pattern": {
              "fillmode": "overlay",
              "size": 10,
              "solidity": 0.2
             }
            },
            "type": "histogram"
           }
          ],
          "histogram2d": [
           {
            "colorbar": {
             "outlinewidth": 0,
             "ticks": ""
            },
            "colorscale": [
             [
              0,
              "#0d0887"
             ],
             [
              0.1111111111111111,
              "#46039f"
             ],
             [
              0.2222222222222222,
              "#7201a8"
             ],
             [
              0.3333333333333333,
              "#9c179e"
             ],
             [
              0.4444444444444444,
              "#bd3786"
             ],
             [
              0.5555555555555556,
              "#d8576b"
             ],
             [
              0.6666666666666666,
              "#ed7953"
             ],
             [
              0.7777777777777778,
              "#fb9f3a"
             ],
             [
              0.8888888888888888,
              "#fdca26"
             ],
             [
              1,
              "#f0f921"
             ]
            ],
            "type": "histogram2d"
           }
          ],
          "histogram2dcontour": [
           {
            "colorbar": {
             "outlinewidth": 0,
             "ticks": ""
            },
            "colorscale": [
             [
              0,
              "#0d0887"
             ],
             [
              0.1111111111111111,
              "#46039f"
             ],
             [
              0.2222222222222222,
              "#7201a8"
             ],
             [
              0.3333333333333333,
              "#9c179e"
             ],
             [
              0.4444444444444444,
              "#bd3786"
             ],
             [
              0.5555555555555556,
              "#d8576b"
             ],
             [
              0.6666666666666666,
              "#ed7953"
             ],
             [
              0.7777777777777778,
              "#fb9f3a"
             ],
             [
              0.8888888888888888,
              "#fdca26"
             ],
             [
              1,
              "#f0f921"
             ]
            ],
            "type": "histogram2dcontour"
           }
          ],
          "mesh3d": [
           {
            "colorbar": {
             "outlinewidth": 0,
             "ticks": ""
            },
            "type": "mesh3d"
           }
          ],
          "parcoords": [
           {
            "line": {
             "colorbar": {
              "outlinewidth": 0,
              "ticks": ""
             }
            },
            "type": "parcoords"
           }
          ],
          "pie": [
           {
            "automargin": true,
            "type": "pie"
           }
          ],
          "scatter": [
           {
            "fillpattern": {
             "fillmode": "overlay",
             "size": 10,
             "solidity": 0.2
            },
            "type": "scatter"
           }
          ],
          "scatter3d": [
           {
            "line": {
             "colorbar": {
              "outlinewidth": 0,
              "ticks": ""
             }
            },
            "marker": {
             "colorbar": {
              "outlinewidth": 0,
              "ticks": ""
             }
            },
            "type": "scatter3d"
           }
          ],
          "scattercarpet": [
           {
            "marker": {
             "colorbar": {
              "outlinewidth": 0,
              "ticks": ""
             }
            },
            "type": "scattercarpet"
           }
          ],
          "scattergeo": [
           {
            "marker": {
             "colorbar": {
              "outlinewidth": 0,
              "ticks": ""
             }
            },
            "type": "scattergeo"
           }
          ],
          "scattergl": [
           {
            "marker": {
             "colorbar": {
              "outlinewidth": 0,
              "ticks": ""
             }
            },
            "type": "scattergl"
           }
          ],
          "scattermap": [
           {
            "marker": {
             "colorbar": {
              "outlinewidth": 0,
              "ticks": ""
             }
            },
            "type": "scattermap"
           }
          ],
          "scattermapbox": [
           {
            "marker": {
             "colorbar": {
              "outlinewidth": 0,
              "ticks": ""
             }
            },
            "type": "scattermapbox"
           }
          ],
          "scatterpolar": [
           {
            "marker": {
             "colorbar": {
              "outlinewidth": 0,
              "ticks": ""
             }
            },
            "type": "scatterpolar"
           }
          ],
          "scatterpolargl": [
           {
            "marker": {
             "colorbar": {
              "outlinewidth": 0,
              "ticks": ""
             }
            },
            "type": "scatterpolargl"
           }
          ],
          "scatterternary": [
           {
            "marker": {
             "colorbar": {
              "outlinewidth": 0,
              "ticks": ""
             }
            },
            "type": "scatterternary"
           }
          ],
          "surface": [
           {
            "colorbar": {
             "outlinewidth": 0,
             "ticks": ""
            },
            "colorscale": [
             [
              0,
              "#0d0887"
             ],
             [
              0.1111111111111111,
              "#46039f"
             ],
             [
              0.2222222222222222,
              "#7201a8"
             ],
             [
              0.3333333333333333,
              "#9c179e"
             ],
             [
              0.4444444444444444,
              "#bd3786"
             ],
             [
              0.5555555555555556,
              "#d8576b"
             ],
             [
              0.6666666666666666,
              "#ed7953"
             ],
             [
              0.7777777777777778,
              "#fb9f3a"
             ],
             [
              0.8888888888888888,
              "#fdca26"
             ],
             [
              1,
              "#f0f921"
             ]
            ],
            "type": "surface"
           }
          ],
          "table": [
           {
            "cells": {
             "fill": {
              "color": "#EBF0F8"
             },
             "line": {
              "color": "white"
             }
            },
            "header": {
             "fill": {
              "color": "#C8D4E3"
             },
             "line": {
              "color": "white"
             }
            },
            "type": "table"
           }
          ]
         },
         "layout": {
          "annotationdefaults": {
           "arrowcolor": "#2a3f5f",
           "arrowhead": 0,
           "arrowwidth": 1
          },
          "autotypenumbers": "strict",
          "coloraxis": {
           "colorbar": {
            "outlinewidth": 0,
            "ticks": ""
           }
          },
          "colorscale": {
           "diverging": [
            [
             0,
             "#8e0152"
            ],
            [
             0.1,
             "#c51b7d"
            ],
            [
             0.2,
             "#de77ae"
            ],
            [
             0.3,
             "#f1b6da"
            ],
            [
             0.4,
             "#fde0ef"
            ],
            [
             0.5,
             "#f7f7f7"
            ],
            [
             0.6,
             "#e6f5d0"
            ],
            [
             0.7,
             "#b8e186"
            ],
            [
             0.8,
             "#7fbc41"
            ],
            [
             0.9,
             "#4d9221"
            ],
            [
             1,
             "#276419"
            ]
           ],
           "sequential": [
            [
             0,
             "#0d0887"
            ],
            [
             0.1111111111111111,
             "#46039f"
            ],
            [
             0.2222222222222222,
             "#7201a8"
            ],
            [
             0.3333333333333333,
             "#9c179e"
            ],
            [
             0.4444444444444444,
             "#bd3786"
            ],
            [
             0.5555555555555556,
             "#d8576b"
            ],
            [
             0.6666666666666666,
             "#ed7953"
            ],
            [
             0.7777777777777778,
             "#fb9f3a"
            ],
            [
             0.8888888888888888,
             "#fdca26"
            ],
            [
             1,
             "#f0f921"
            ]
           ],
           "sequentialminus": [
            [
             0,
             "#0d0887"
            ],
            [
             0.1111111111111111,
             "#46039f"
            ],
            [
             0.2222222222222222,
             "#7201a8"
            ],
            [
             0.3333333333333333,
             "#9c179e"
            ],
            [
             0.4444444444444444,
             "#bd3786"
            ],
            [
             0.5555555555555556,
             "#d8576b"
            ],
            [
             0.6666666666666666,
             "#ed7953"
            ],
            [
             0.7777777777777778,
             "#fb9f3a"
            ],
            [
             0.8888888888888888,
             "#fdca26"
            ],
            [
             1,
             "#f0f921"
            ]
           ]
          },
          "colorway": [
           "#636efa",
           "#EF553B",
           "#00cc96",
           "#ab63fa",
           "#FFA15A",
           "#19d3f3",
           "#FF6692",
           "#B6E880",
           "#FF97FF",
           "#FECB52"
          ],
          "font": {
           "color": "#2a3f5f"
          },
          "geo": {
           "bgcolor": "white",
           "lakecolor": "white",
           "landcolor": "#E5ECF6",
           "showlakes": true,
           "showland": true,
           "subunitcolor": "white"
          },
          "hoverlabel": {
           "align": "left"
          },
          "hovermode": "closest",
          "mapbox": {
           "style": "light"
          },
          "paper_bgcolor": "white",
          "plot_bgcolor": "#E5ECF6",
          "polar": {
           "angularaxis": {
            "gridcolor": "white",
            "linecolor": "white",
            "ticks": ""
           },
           "bgcolor": "#E5ECF6",
           "radialaxis": {
            "gridcolor": "white",
            "linecolor": "white",
            "ticks": ""
           }
          },
          "scene": {
           "xaxis": {
            "backgroundcolor": "#E5ECF6",
            "gridcolor": "white",
            "gridwidth": 2,
            "linecolor": "white",
            "showbackground": true,
            "ticks": "",
            "zerolinecolor": "white"
           },
           "yaxis": {
            "backgroundcolor": "#E5ECF6",
            "gridcolor": "white",
            "gridwidth": 2,
            "linecolor": "white",
            "showbackground": true,
            "ticks": "",
            "zerolinecolor": "white"
           },
           "zaxis": {
            "backgroundcolor": "#E5ECF6",
            "gridcolor": "white",
            "gridwidth": 2,
            "linecolor": "white",
            "showbackground": true,
            "ticks": "",
            "zerolinecolor": "white"
           }
          },
          "shapedefaults": {
           "line": {
            "color": "#2a3f5f"
           }
          },
          "ternary": {
           "aaxis": {
            "gridcolor": "white",
            "linecolor": "white",
            "ticks": ""
           },
           "baxis": {
            "gridcolor": "white",
            "linecolor": "white",
            "ticks": ""
           },
           "bgcolor": "#E5ECF6",
           "caxis": {
            "gridcolor": "white",
            "linecolor": "white",
            "ticks": ""
           }
          },
          "title": {
           "x": 0.05
          },
          "xaxis": {
           "automargin": true,
           "gridcolor": "white",
           "linecolor": "white",
           "ticks": "",
           "title": {
            "standoff": 15
           },
           "zerolinecolor": "white",
           "zerolinewidth": 2
          },
          "yaxis": {
           "automargin": true,
           "gridcolor": "white",
           "linecolor": "white",
           "ticks": "",
           "title": {
            "standoff": 15
           },
           "zerolinecolor": "white",
           "zerolinewidth": 2
          }
         }
        },
        "title": {
         "text": "Korrelationsmatrix der numerischen Merkmale"
        },
        "xaxis": {
         "anchor": "y",
         "domain": [
          0,
          1
         ]
        },
        "yaxis": {
         "anchor": "x",
         "autorange": "reversed",
         "domain": [
          0,
          1
         ]
        }
       }
      }
     },
     "metadata": {},
     "output_type": "display_data"
    }
   ],
   "source": [
    "corr = df[numeric_cols].corr().round(2)\n",
    "\n",
    "fig4 = px.imshow(\n",
    "    corr,\n",
    "    text_auto=True,       \n",
    "    color_continuous_scale=\"RdBu_r\",\n",
    "    zmin=-1, zmax=1,   \n",
    "    aspect=\"auto\",\n",
    "    title=\"Korrelationsmatrix der numerischen Merkmale\"\n",
    ")\n",
    "\n",
    "fig4.update_layout(margin=dict(l=60, r=20, t=60, b=40))\n",
    "fig4"
   ]
  },
  {
   "cell_type": "markdown",
   "id": "e1799d14",
   "metadata": {},
   "source": [
    "Gibt es einen Zusammenhang zwischen der Job-Kategorie und der Höhe des aufgenommenen Kredits"
   ]
  },
  {
   "cell_type": "code",
   "execution_count": 20,
   "id": "c1d8e9ad",
   "metadata": {},
   "outputs": [
    {
     "data": {
      "application/vnd.microsoft.datawrangler.viewer.v0+json": {
       "columns": [
        {
         "name": "Job",
         "rawType": "int64",
         "type": "integer"
        },
        {
         "name": "Credit amount",
         "rawType": "float64",
         "type": "float"
        }
       ],
       "ref": "d770f7e8-2fde-4c19-88c9-84db976f80be",
       "rows": [
        [
         "0",
         "1767.857142857143"
        ],
        [
         "1",
         "2250.7155172413795"
        ],
        [
         "2",
         "3129.1309904153354"
        ],
        [
         "3",
         "5648.784810126583"
        ]
       ],
       "shape": {
        "columns": 1,
        "rows": 4
       }
      },
      "text/plain": [
       "Job\n",
       "0    1767.857143\n",
       "1    2250.715517\n",
       "2    3129.130990\n",
       "3    5648.784810\n",
       "Name: Credit amount, dtype: float64"
      ]
     },
     "execution_count": 20,
     "metadata": {},
     "output_type": "execute_result"
    }
   ],
   "source": [
    "df.groupby(\"Job\")[\"Credit amount\"].mean()"
   ]
  },
  {
   "cell_type": "markdown",
   "id": "874e4b49",
   "metadata": {},
   "source": [
    "Die Analyse zeigt einen klaren Zusammenhang zwischen Job-Kategorie und Kredithöhe. Menschen in höheren Job-Kategorien nehmen im Durchschnitt deutlich größere Kredite auf als Personen in niedrigeren Kategorien.\n",
    "\n"
   ]
  },
  {
   "cell_type": "code",
   "execution_count": 21,
   "id": "d083c907",
   "metadata": {},
   "outputs": [
    {
     "data": {
      "application/vnd.microsoft.datawrangler.viewer.v0+json": {
       "columns": [
        {
         "name": "Sex",
         "rawType": "object",
         "type": "string"
        },
        {
         "name": "Credit amount",
         "rawType": "float64",
         "type": "float"
        }
       ],
       "ref": "9e316fda-b069-405b-bfa7-292f75f2c5bd",
       "rows": [
        [
         "female",
         "2937.2023809523807"
        ],
        [
         "male",
         "3440.8333333333335"
        ]
       ],
       "shape": {
        "columns": 1,
        "rows": 2
       }
      },
      "text/plain": [
       "Sex\n",
       "female    2937.202381\n",
       "male      3440.833333\n",
       "Name: Credit amount, dtype: float64"
      ]
     },
     "execution_count": 21,
     "metadata": {},
     "output_type": "execute_result"
    }
   ],
   "source": [
    "df.groupby(\"Sex\")[\"Credit amount\"].mean()"
   ]
  },
  {
   "cell_type": "markdown",
   "id": "f7684ce8",
   "metadata": {},
   "source": [
    "Männer nehmen in diesem Datensatz im Durchschnitt höhere Kredite auf als Frauen. Der Unterschied ist zwar sichtbar, aber nicht so groß, dass er allein entscheidend wäre."
   ]
  },
  {
   "cell_type": "code",
   "execution_count": 22,
   "id": "01aabb6b",
   "metadata": {},
   "outputs": [
    {
     "data": {
      "application/vnd.microsoft.datawrangler.viewer.v0+json": {
       "columns": [
        {
         "name": "Housing",
         "rawType": "object",
         "type": "string"
        },
        {
         "name": "business",
         "rawType": "float64",
         "type": "float"
        },
        {
         "name": "car",
         "rawType": "float64",
         "type": "float"
        },
        {
         "name": "domestic appliances",
         "rawType": "float64",
         "type": "float"
        },
        {
         "name": "education",
         "rawType": "float64",
         "type": "float"
        },
        {
         "name": "furniture/equipment",
         "rawType": "float64",
         "type": "float"
        },
        {
         "name": "radio/TV",
         "rawType": "float64",
         "type": "float"
        },
        {
         "name": "repairs",
         "rawType": "float64",
         "type": "float"
        },
        {
         "name": "vacation/others",
         "rawType": "float64",
         "type": "float"
        }
       ],
       "ref": "d4563056-92da-4ea2-95a9-64ea9d97a524",
       "rows": [
        [
         "free",
         "4705.0",
         "5180.314285714286",
         null,
         "5314.25",
         "4419.444444444444",
         "2097.0",
         "1190.0",
         "7842.666666666667"
        ],
        [
         "own",
         "3725.9736842105262",
         "3120.4854368932038",
         "1333.5",
         "2625.076923076923",
         "3031.1",
         "2307.6138613861385",
         "2993.5",
         "10321.833333333334"
        ],
        [
         "rent",
         "6180.833333333333",
         "3398.285714285714",
         null,
         "2627.8571428571427",
         "2890.285714285714",
         "2138.0",
         "2384.0",
         null
        ]
       ],
       "shape": {
        "columns": 8,
        "rows": 3
       }
      },
      "text/html": [
       "<div>\n",
       "<style scoped>\n",
       "    .dataframe tbody tr th:only-of-type {\n",
       "        vertical-align: middle;\n",
       "    }\n",
       "\n",
       "    .dataframe tbody tr th {\n",
       "        vertical-align: top;\n",
       "    }\n",
       "\n",
       "    .dataframe thead th {\n",
       "        text-align: right;\n",
       "    }\n",
       "</style>\n",
       "<table border=\"1\" class=\"dataframe\">\n",
       "  <thead>\n",
       "    <tr style=\"text-align: right;\">\n",
       "      <th>Purpose</th>\n",
       "      <th>business</th>\n",
       "      <th>car</th>\n",
       "      <th>domestic appliances</th>\n",
       "      <th>education</th>\n",
       "      <th>furniture/equipment</th>\n",
       "      <th>radio/TV</th>\n",
       "      <th>repairs</th>\n",
       "      <th>vacation/others</th>\n",
       "    </tr>\n",
       "    <tr>\n",
       "      <th>Housing</th>\n",
       "      <th></th>\n",
       "      <th></th>\n",
       "      <th></th>\n",
       "      <th></th>\n",
       "      <th></th>\n",
       "      <th></th>\n",
       "      <th></th>\n",
       "      <th></th>\n",
       "    </tr>\n",
       "  </thead>\n",
       "  <tbody>\n",
       "    <tr>\n",
       "      <th>free</th>\n",
       "      <td>4705.000000</td>\n",
       "      <td>5180.314286</td>\n",
       "      <td>NaN</td>\n",
       "      <td>5314.250000</td>\n",
       "      <td>4419.444444</td>\n",
       "      <td>2097.000000</td>\n",
       "      <td>1190.0</td>\n",
       "      <td>7842.666667</td>\n",
       "    </tr>\n",
       "    <tr>\n",
       "      <th>own</th>\n",
       "      <td>3725.973684</td>\n",
       "      <td>3120.485437</td>\n",
       "      <td>1333.5</td>\n",
       "      <td>2625.076923</td>\n",
       "      <td>3031.100000</td>\n",
       "      <td>2307.613861</td>\n",
       "      <td>2993.5</td>\n",
       "      <td>10321.833333</td>\n",
       "    </tr>\n",
       "    <tr>\n",
       "      <th>rent</th>\n",
       "      <td>6180.833333</td>\n",
       "      <td>3398.285714</td>\n",
       "      <td>NaN</td>\n",
       "      <td>2627.857143</td>\n",
       "      <td>2890.285714</td>\n",
       "      <td>2138.000000</td>\n",
       "      <td>2384.0</td>\n",
       "      <td>NaN</td>\n",
       "    </tr>\n",
       "  </tbody>\n",
       "</table>\n",
       "</div>"
      ],
      "text/plain": [
       "Purpose     business          car  domestic appliances    education  \\\n",
       "Housing                                                               \n",
       "free     4705.000000  5180.314286                  NaN  5314.250000   \n",
       "own      3725.973684  3120.485437               1333.5  2625.076923   \n",
       "rent     6180.833333  3398.285714                  NaN  2627.857143   \n",
       "\n",
       "Purpose  furniture/equipment     radio/TV  repairs  vacation/others  \n",
       "Housing                                                              \n",
       "free             4419.444444  2097.000000   1190.0      7842.666667  \n",
       "own              3031.100000  2307.613861   2993.5     10321.833333  \n",
       "rent             2890.285714  2138.000000   2384.0              NaN  "
      ]
     },
     "execution_count": 22,
     "metadata": {},
     "output_type": "execute_result"
    }
   ],
   "source": [
    "pd.pivot_table(df, values=\"Credit amount\", index=\"Housing\", columns=\"Purpose\")"
   ]
  },
  {
   "cell_type": "code",
   "execution_count": 23,
   "id": "726a982f",
   "metadata": {},
   "outputs": [
    {
     "data": {
      "application/vnd.plotly.v1+json": {
       "config": {
        "plotlyServerURL": "https://plot.ly"
       },
       "data": [
        {
         "hovertemplate": "Sex=female<br>Alter=%{x}<br>Kreditbetrag=%{y}<br>Duration=%{marker.size}<extra></extra>",
         "legendgroup": "female",
         "marker": {
          "color": "#636efa",
          "opacity": 0.7,
          "size": {
           "bdata": "MAwwDA8YGAwMMAYSJCoYEg8hFQwMJAYYDBILGAkSCQwGDB4YLwwYMCQIGA88DRgVGAkeDBISPDASDAYMGBIMDDAkBgwYBhIMHhsYGAYSEg8SEgwJEgYYMBgPDBIMGAYYBwkYCiQMChUYHgwYGBIeBg8YGwwJBgYMCRIwCBgeDwwGEgwSJBISDBUSFA8kEhIPDxgSDAsMFRgwCRIJDAkPMBgMGBgYBhUP",
           "dtype": "i1"
          },
          "sizemode": "area",
          "sizeref": 0.18,
          "symbol": "circle"
         },
         "mode": "markers",
         "name": "female",
         "orientation": "v",
         "showlegend": true,
         "type": "scatter",
         "x": {
          "bdata": "FhkYFhwgLCohOhcXFyk6GxcXGR0sHicdFCEUIkohIhsnLhg3IzEsGioYGhsYFxgaFx0XJBYoPCUmEx83FDcaHh4iGyIdFxoXOSobGCUYGhwlLRhDHB0XHxcWGxQ6FCAXLR4iFzIWMB0WFRYcGRscMhkvIBkZIxgYQhk7LBcaFyUxFxcYGRlDFycwGBo2IRcZHSMbGCg1HBkgFhUWFxwuHhwdOR05QBwZ",
          "dtype": "i1"
         },
         "xaxis": "x",
         "y": {
          "bdata": "PxcPBdQQHwZ7BQIFIzGZAcIF/xdIBakHVRhCF9sGDwWIAbkQKwerDVkHuxJcA04eAgVrBCkGEAgJFKwM3QW3A5oCywhmCEMG4ilEBBMZ6CbcDtUEpQ47DvAcNQhvFg8Org6/A2YJxwhCDrkLvjkFHrAy1wOlBxIKrwemBGECVAboEzIHVwHJC3sGwAEqDPUNJg5+IDMMtwRhAnYMWQRHChwO6QtyAq8E5girAhEGZhqiDCYDcgv3B4EBngqjA6IFGQmWAy0H+wRvCuUC2AQdDTAOcQ1CB0wOSwXuAn0QFwRHCmEF4AmZC7YErgSxAcwEFgNaBxAZ+AIoLbgQzwn6BKwB0ANJA0wIgR+1DSAPRAOkBAMHsBDyBggdfg/ABBcJdw+HCVUJjAIqBRsDLgqAEvhHVgUZBIYG2gXpAjUHpiAREGUHzwSpBOoE8QJrC5kF",
          "dtype": "i2"
         },
         "yaxis": "y"
        },
        {
         "hovertemplate": "Sex=male<br>Alter=%{x}<br>Kreditbetrag=%{y}<br>Duration=%{marker.size}<extra></extra>",
         "legendgroup": "male",
         "marker": {
          "color": "#EF553B",
          "opacity": 0.7,
          "size": {
           "bdata": "KhgkHhgGCgwGBzwSGBItEgoJDBIeGyQJJDAMCAwqCx4KJBIMDAw2EiQkCRgMDgYSDAwKDAwMDCQMBhsSMCQkGAkMGAoYDwgVDAYVJBIQDDAbLRIMDB4MGBseEiQYDDAMGCQSGBUeMBgMDBIPDjAeGDAwGCQqFQoMCQwkDB4YGBIIJAYYGAYYChISCg0JDBgSJCQMEg8kJyQMGA8MDAwSGAYJKhQHDxgLDCQPGBgJEhgMDxgGDCQSBiQJGA8PDA8MBgYwGiQGJBUwDBIYMAwMGBIYDAkkEgwkCQwSDBgYBhUSBgkSKg8SHhgMMAwYJA4MEgwGHgweSBgkJAwPGAwPMB4wCQk8FAkYGBgSGAoYDQYMDAweDAwnDBIwKBgkBioIBiQwMCQSDCQIFS0MGCQJDBQSBhgMEgkYMBsMJBIQDBgGGBgMGAwwDBgeBjwYEiQJHBgVBhsLDzwPHiQqGBgkHi0t",
           "dtype": "i1"
          },
          "sizemode": "area",
          "sizeref": 0.18,
          "symbol": "circle"
         },
         "mode": "markers",
         "name": "male",
         "orientation": "v",
         "showlegend": true,
         "type": "scatter",
         "x": {
          "bdata": "LTUjHDwsMCwkIj8kGx4ZJSUYGiwYHjkbPRkWM0IiMxY0Lx4cNjY6IiQYIycgIx8cIyQ/HigeIh1CGxsWHhwYJDAtJkYfISEaKjRBHiREFCIkFSgbFSYaFTJCHxcYGhs1FhoZHj0nGBodGyQlLRwiJRofMBw4IDEhFhkfJhwgIhwnHxxLFywcHxkhJRcgHBcZKjkaKBsnIC4uFhscIS8VHSQZQR0jPR8kIyUkPxYcIRknLBovJx0gHCoxJiQiGhoUKCs1Hh8pICEqFyIrIhsWGx8YJBsbHjEhJBUvPCQWJRtBKR0sGiYgICYoMiUtKhYpKRcjIisvGEAfHh8ZHR0oLikYJRkbHyIkIRUjIBcWHEojGCgfHEIZHyMyGzMYGjcaHBg2LisaGCkvHh0wPx07OSEgLhodJBsrFysmIiorFB9EISceNy4nKxgeHioeKBglLR4vFhcoFiQZMRohHTAeKBcb",
          "dtype": "i1"
         },
         "xaxis": "x",
         "y": {
          "bdata": "yh4GEyQbchSvBFcKwQgMB14Fbwm0GnkHtA/qFooSNAjJBMoBhgQ8GCsYTRexCG8FoQdVOO8DjAT2BX0PoxL4DgsJRDHJCFQEgQUmBUk+PgohCRMJfweiLr4XggWpBXQYkAY+CQ0DSQi9An8CRAfnGv4CxQJYDZ4J7g37FNgWNxsIBVMBuA2MHI8HtgOGBVYNEQpSATsCZxF0A5cEogIED0sP1wvJEJAEhgN/KZAFqBmtFHQHIAxJD80LcQLRKrkeTQxyEGIDHwfPCtoJ/RGFB2UIeQa2FCIDEiP0C94uJg+0Ep4dAAS2JLwSuQoOBNcCFAGtAroKxAKZEJIHXgtjCkYNeREsBNcZDhA4DUkQ8QWNDFcRbQ9yA3AENxjeBKkJdg3uNzIFzhwWCbEM8C0sCccE9wcdBKsDEwq+A9sKQCxQB1gIQg1FChAK6AXREkEPOg0kDrkGbAsUDI4C3QQgFA0ExgWxBLkESghKIxUFKwV1FWYEwAQ4CcIa9wJ/CkkCUQWzBM8bHh/+CJYC4QgPCVMe/gUwCzUFVxvLBzMF4A2IBwoGXAU6BAQLIAQ0DFAJ7woJBcEExgiREAwLXA5EDigKRAidBREGEhEcBVgH5xGzA6wCNB2CB/8Ilh+FD3gD2RgRBRoEqA3rEskL2xVQCYEmLgtDDs8DUAtPBHEHuxjHCaAZRghyBMs2BBg5BfsEAxnDBxwRFQkYBLMJBQcTBbMCpgiDBCQMIQ7IBUUTggWVB1AYbhdMCzckTgJDJIsD5AGdJesLWw/xPUEFyAuYCtsCQgYoLjoEjQs7FFQFxQK7CKIFPwVmBQYOlAeOBdkPOD2KCXsIqBY5EEEKUwRZDDA6NwkRDdIH2Bq5AjkoQAXTBn8HDwiQGBUNBg5hCIIEpg/9CzEJxgHYCWMP6gWBHPAEwiAlIJEYsxnPBncPEQ81B+AR",
          "dtype": "i2"
         },
         "yaxis": "y"
        }
       ],
       "layout": {
        "legend": {
         "itemsizing": "constant",
         "title": {
          "text": "Geschlecht"
         },
         "tracegroupgap": 0
        },
        "margin": {
         "b": 40,
         "l": 40,
         "r": 40,
         "t": 60
        },
        "template": {
         "data": {
          "bar": [
           {
            "error_x": {
             "color": "#2a3f5f"
            },
            "error_y": {
             "color": "#2a3f5f"
            },
            "marker": {
             "line": {
              "color": "#E5ECF6",
              "width": 0.5
             },
             "pattern": {
              "fillmode": "overlay",
              "size": 10,
              "solidity": 0.2
             }
            },
            "type": "bar"
           }
          ],
          "barpolar": [
           {
            "marker": {
             "line": {
              "color": "#E5ECF6",
              "width": 0.5
             },
             "pattern": {
              "fillmode": "overlay",
              "size": 10,
              "solidity": 0.2
             }
            },
            "type": "barpolar"
           }
          ],
          "carpet": [
           {
            "aaxis": {
             "endlinecolor": "#2a3f5f",
             "gridcolor": "white",
             "linecolor": "white",
             "minorgridcolor": "white",
             "startlinecolor": "#2a3f5f"
            },
            "baxis": {
             "endlinecolor": "#2a3f5f",
             "gridcolor": "white",
             "linecolor": "white",
             "minorgridcolor": "white",
             "startlinecolor": "#2a3f5f"
            },
            "type": "carpet"
           }
          ],
          "choropleth": [
           {
            "colorbar": {
             "outlinewidth": 0,
             "ticks": ""
            },
            "type": "choropleth"
           }
          ],
          "contour": [
           {
            "colorbar": {
             "outlinewidth": 0,
             "ticks": ""
            },
            "colorscale": [
             [
              0,
              "#0d0887"
             ],
             [
              0.1111111111111111,
              "#46039f"
             ],
             [
              0.2222222222222222,
              "#7201a8"
             ],
             [
              0.3333333333333333,
              "#9c179e"
             ],
             [
              0.4444444444444444,
              "#bd3786"
             ],
             [
              0.5555555555555556,
              "#d8576b"
             ],
             [
              0.6666666666666666,
              "#ed7953"
             ],
             [
              0.7777777777777778,
              "#fb9f3a"
             ],
             [
              0.8888888888888888,
              "#fdca26"
             ],
             [
              1,
              "#f0f921"
             ]
            ],
            "type": "contour"
           }
          ],
          "contourcarpet": [
           {
            "colorbar": {
             "outlinewidth": 0,
             "ticks": ""
            },
            "type": "contourcarpet"
           }
          ],
          "heatmap": [
           {
            "colorbar": {
             "outlinewidth": 0,
             "ticks": ""
            },
            "colorscale": [
             [
              0,
              "#0d0887"
             ],
             [
              0.1111111111111111,
              "#46039f"
             ],
             [
              0.2222222222222222,
              "#7201a8"
             ],
             [
              0.3333333333333333,
              "#9c179e"
             ],
             [
              0.4444444444444444,
              "#bd3786"
             ],
             [
              0.5555555555555556,
              "#d8576b"
             ],
             [
              0.6666666666666666,
              "#ed7953"
             ],
             [
              0.7777777777777778,
              "#fb9f3a"
             ],
             [
              0.8888888888888888,
              "#fdca26"
             ],
             [
              1,
              "#f0f921"
             ]
            ],
            "type": "heatmap"
           }
          ],
          "histogram": [
           {
            "marker": {
             "pattern": {
              "fillmode": "overlay",
              "size": 10,
              "solidity": 0.2
             }
            },
            "type": "histogram"
           }
          ],
          "histogram2d": [
           {
            "colorbar": {
             "outlinewidth": 0,
             "ticks": ""
            },
            "colorscale": [
             [
              0,
              "#0d0887"
             ],
             [
              0.1111111111111111,
              "#46039f"
             ],
             [
              0.2222222222222222,
              "#7201a8"
             ],
             [
              0.3333333333333333,
              "#9c179e"
             ],
             [
              0.4444444444444444,
              "#bd3786"
             ],
             [
              0.5555555555555556,
              "#d8576b"
             ],
             [
              0.6666666666666666,
              "#ed7953"
             ],
             [
              0.7777777777777778,
              "#fb9f3a"
             ],
             [
              0.8888888888888888,
              "#fdca26"
             ],
             [
              1,
              "#f0f921"
             ]
            ],
            "type": "histogram2d"
           }
          ],
          "histogram2dcontour": [
           {
            "colorbar": {
             "outlinewidth": 0,
             "ticks": ""
            },
            "colorscale": [
             [
              0,
              "#0d0887"
             ],
             [
              0.1111111111111111,
              "#46039f"
             ],
             [
              0.2222222222222222,
              "#7201a8"
             ],
             [
              0.3333333333333333,
              "#9c179e"
             ],
             [
              0.4444444444444444,
              "#bd3786"
             ],
             [
              0.5555555555555556,
              "#d8576b"
             ],
             [
              0.6666666666666666,
              "#ed7953"
             ],
             [
              0.7777777777777778,
              "#fb9f3a"
             ],
             [
              0.8888888888888888,
              "#fdca26"
             ],
             [
              1,
              "#f0f921"
             ]
            ],
            "type": "histogram2dcontour"
           }
          ],
          "mesh3d": [
           {
            "colorbar": {
             "outlinewidth": 0,
             "ticks": ""
            },
            "type": "mesh3d"
           }
          ],
          "parcoords": [
           {
            "line": {
             "colorbar": {
              "outlinewidth": 0,
              "ticks": ""
             }
            },
            "type": "parcoords"
           }
          ],
          "pie": [
           {
            "automargin": true,
            "type": "pie"
           }
          ],
          "scatter": [
           {
            "fillpattern": {
             "fillmode": "overlay",
             "size": 10,
             "solidity": 0.2
            },
            "type": "scatter"
           }
          ],
          "scatter3d": [
           {
            "line": {
             "colorbar": {
              "outlinewidth": 0,
              "ticks": ""
             }
            },
            "marker": {
             "colorbar": {
              "outlinewidth": 0,
              "ticks": ""
             }
            },
            "type": "scatter3d"
           }
          ],
          "scattercarpet": [
           {
            "marker": {
             "colorbar": {
              "outlinewidth": 0,
              "ticks": ""
             }
            },
            "type": "scattercarpet"
           }
          ],
          "scattergeo": [
           {
            "marker": {
             "colorbar": {
              "outlinewidth": 0,
              "ticks": ""
             }
            },
            "type": "scattergeo"
           }
          ],
          "scattergl": [
           {
            "marker": {
             "colorbar": {
              "outlinewidth": 0,
              "ticks": ""
             }
            },
            "type": "scattergl"
           }
          ],
          "scattermap": [
           {
            "marker": {
             "colorbar": {
              "outlinewidth": 0,
              "ticks": ""
             }
            },
            "type": "scattermap"
           }
          ],
          "scattermapbox": [
           {
            "marker": {
             "colorbar": {
              "outlinewidth": 0,
              "ticks": ""
             }
            },
            "type": "scattermapbox"
           }
          ],
          "scatterpolar": [
           {
            "marker": {
             "colorbar": {
              "outlinewidth": 0,
              "ticks": ""
             }
            },
            "type": "scatterpolar"
           }
          ],
          "scatterpolargl": [
           {
            "marker": {
             "colorbar": {
              "outlinewidth": 0,
              "ticks": ""
             }
            },
            "type": "scatterpolargl"
           }
          ],
          "scatterternary": [
           {
            "marker": {
             "colorbar": {
              "outlinewidth": 0,
              "ticks": ""
             }
            },
            "type": "scatterternary"
           }
          ],
          "surface": [
           {
            "colorbar": {
             "outlinewidth": 0,
             "ticks": ""
            },
            "colorscale": [
             [
              0,
              "#0d0887"
             ],
             [
              0.1111111111111111,
              "#46039f"
             ],
             [
              0.2222222222222222,
              "#7201a8"
             ],
             [
              0.3333333333333333,
              "#9c179e"
             ],
             [
              0.4444444444444444,
              "#bd3786"
             ],
             [
              0.5555555555555556,
              "#d8576b"
             ],
             [
              0.6666666666666666,
              "#ed7953"
             ],
             [
              0.7777777777777778,
              "#fb9f3a"
             ],
             [
              0.8888888888888888,
              "#fdca26"
             ],
             [
              1,
              "#f0f921"
             ]
            ],
            "type": "surface"
           }
          ],
          "table": [
           {
            "cells": {
             "fill": {
              "color": "#EBF0F8"
             },
             "line": {
              "color": "white"
             }
            },
            "header": {
             "fill": {
              "color": "#C8D4E3"
             },
             "line": {
              "color": "white"
             }
            },
            "type": "table"
           }
          ]
         },
         "layout": {
          "annotationdefaults": {
           "arrowcolor": "#2a3f5f",
           "arrowhead": 0,
           "arrowwidth": 1
          },
          "autotypenumbers": "strict",
          "coloraxis": {
           "colorbar": {
            "outlinewidth": 0,
            "ticks": ""
           }
          },
          "colorscale": {
           "diverging": [
            [
             0,
             "#8e0152"
            ],
            [
             0.1,
             "#c51b7d"
            ],
            [
             0.2,
             "#de77ae"
            ],
            [
             0.3,
             "#f1b6da"
            ],
            [
             0.4,
             "#fde0ef"
            ],
            [
             0.5,
             "#f7f7f7"
            ],
            [
             0.6,
             "#e6f5d0"
            ],
            [
             0.7,
             "#b8e186"
            ],
            [
             0.8,
             "#7fbc41"
            ],
            [
             0.9,
             "#4d9221"
            ],
            [
             1,
             "#276419"
            ]
           ],
           "sequential": [
            [
             0,
             "#0d0887"
            ],
            [
             0.1111111111111111,
             "#46039f"
            ],
            [
             0.2222222222222222,
             "#7201a8"
            ],
            [
             0.3333333333333333,
             "#9c179e"
            ],
            [
             0.4444444444444444,
             "#bd3786"
            ],
            [
             0.5555555555555556,
             "#d8576b"
            ],
            [
             0.6666666666666666,
             "#ed7953"
            ],
            [
             0.7777777777777778,
             "#fb9f3a"
            ],
            [
             0.8888888888888888,
             "#fdca26"
            ],
            [
             1,
             "#f0f921"
            ]
           ],
           "sequentialminus": [
            [
             0,
             "#0d0887"
            ],
            [
             0.1111111111111111,
             "#46039f"
            ],
            [
             0.2222222222222222,
             "#7201a8"
            ],
            [
             0.3333333333333333,
             "#9c179e"
            ],
            [
             0.4444444444444444,
             "#bd3786"
            ],
            [
             0.5555555555555556,
             "#d8576b"
            ],
            [
             0.6666666666666666,
             "#ed7953"
            ],
            [
             0.7777777777777778,
             "#fb9f3a"
            ],
            [
             0.8888888888888888,
             "#fdca26"
            ],
            [
             1,
             "#f0f921"
            ]
           ]
          },
          "colorway": [
           "#636efa",
           "#EF553B",
           "#00cc96",
           "#ab63fa",
           "#FFA15A",
           "#19d3f3",
           "#FF6692",
           "#B6E880",
           "#FF97FF",
           "#FECB52"
          ],
          "font": {
           "color": "#2a3f5f"
          },
          "geo": {
           "bgcolor": "white",
           "lakecolor": "white",
           "landcolor": "#E5ECF6",
           "showlakes": true,
           "showland": true,
           "subunitcolor": "white"
          },
          "hoverlabel": {
           "align": "left"
          },
          "hovermode": "closest",
          "mapbox": {
           "style": "light"
          },
          "paper_bgcolor": "white",
          "plot_bgcolor": "#E5ECF6",
          "polar": {
           "angularaxis": {
            "gridcolor": "white",
            "linecolor": "white",
            "ticks": ""
           },
           "bgcolor": "#E5ECF6",
           "radialaxis": {
            "gridcolor": "white",
            "linecolor": "white",
            "ticks": ""
           }
          },
          "scene": {
           "xaxis": {
            "backgroundcolor": "#E5ECF6",
            "gridcolor": "white",
            "gridwidth": 2,
            "linecolor": "white",
            "showbackground": true,
            "ticks": "",
            "zerolinecolor": "white"
           },
           "yaxis": {
            "backgroundcolor": "#E5ECF6",
            "gridcolor": "white",
            "gridwidth": 2,
            "linecolor": "white",
            "showbackground": true,
            "ticks": "",
            "zerolinecolor": "white"
           },
           "zaxis": {
            "backgroundcolor": "#E5ECF6",
            "gridcolor": "white",
            "gridwidth": 2,
            "linecolor": "white",
            "showbackground": true,
            "ticks": "",
            "zerolinecolor": "white"
           }
          },
          "shapedefaults": {
           "line": {
            "color": "#2a3f5f"
           }
          },
          "ternary": {
           "aaxis": {
            "gridcolor": "white",
            "linecolor": "white",
            "ticks": ""
           },
           "baxis": {
            "gridcolor": "white",
            "linecolor": "white",
            "ticks": ""
           },
           "bgcolor": "#E5ECF6",
           "caxis": {
            "gridcolor": "white",
            "linecolor": "white",
            "ticks": ""
           }
          },
          "title": {
           "x": 0.05
          },
          "xaxis": {
           "automargin": true,
           "gridcolor": "white",
           "linecolor": "white",
           "ticks": "",
           "title": {
            "standoff": 15
           },
           "zerolinecolor": "white",
           "zerolinewidth": 2
          },
          "yaxis": {
           "automargin": true,
           "gridcolor": "white",
           "linecolor": "white",
           "ticks": "",
           "title": {
            "standoff": 15
           },
           "zerolinecolor": "white",
           "zerolinewidth": 2
          }
         }
        },
        "title": {
         "text": "Alter vs. Kreditbetrag"
        },
        "xaxis": {
         "anchor": "y",
         "domain": [
          0,
          1
         ],
         "title": {
          "text": "Alter"
         }
        },
        "yaxis": {
         "anchor": "x",
         "domain": [
          0,
          1
         ],
         "title": {
          "text": "Kreditbetrag"
         }
        }
       }
      }
     },
     "metadata": {},
     "output_type": "display_data"
    }
   ],
   "source": [
    "fig5 = px.scatter(\n",
    "    df,\n",
    "    x=\"Age\",\n",
    "    y=\"Credit amount\",\n",
    "    color=\"Sex\",       \n",
    "    size=\"Duration\",   \n",
    "    opacity=0.7,         \n",
    "    title=\"Alter vs. Kreditbetrag\",\n",
    "    labels={\"Age\": \"Alter\", \"Credit amount\": \"Kreditbetrag\"}\n",
    ")\n",
    "\n",
    "fig5.update_layout(\n",
    "    legend_title=\"Geschlecht\",\n",
    "    margin=dict(l=40, r=40, t=60, b=40)\n",
    ")\n",
    "\n",
    "fig5"
   ]
  },
  {
   "cell_type": "markdown",
   "id": "f52d95a1",
   "metadata": {},
   "source": [
    "Die Mehrheit der Kredite bewegt sich im niedrigen bis mittleren Bereich, junge Kreditnehmer sind stärker vertreten, und hohe Kredite gehen meist mit langen Laufzeiten einher.\n"
   ]
  },
  {
   "cell_type": "code",
   "execution_count": 24,
   "id": "51fa1f28",
   "metadata": {},
   "outputs": [
    {
     "data": {
      "application/vnd.plotly.v1+json": {
       "config": {
        "plotlyServerURL": "https://plot.ly"
       },
       "data": [
        {
         "alignmentgroup": "True",
         "box": {
          "visible": true
         },
         "hovertemplate": "Sparguthaben=%{x}<br>Kreditbetrag=%{y}<extra></extra>",
         "legendgroup": "little",
         "marker": {
          "color": "#636efa"
         },
         "name": "little",
         "offsetgroup": "little",
         "orientation": "v",
         "points": "all",
         "scalegroup": "True",
         "showlegend": true,
         "type": "violin",
         "x": [
          "little",
          "little",
          "little",
          "little",
          "little",
          "little",
          "little",
          "little",
          "little",
          "little",
          "little",
          "little",
          "little",
          "little",
          "little",
          "little",
          "little",
          "little",
          "little",
          "little",
          "little",
          "little",
          "little",
          "little",
          "little",
          "little",
          "little",
          "little",
          "little",
          "little",
          "little",
          "little",
          "little",
          "little",
          "little",
          "little",
          "little",
          "little",
          "little",
          "little",
          "little",
          "little",
          "little",
          "little",
          "little",
          "little",
          "little",
          "little",
          "little",
          "little",
          "little",
          "little",
          "little",
          "little",
          "little",
          "little",
          "little",
          "little",
          "little",
          "little",
          "little",
          "little",
          "little",
          "little",
          "little",
          "little",
          "little",
          "little",
          "little",
          "little",
          "little",
          "little",
          "little",
          "little",
          "little",
          "little",
          "little",
          "little",
          "little",
          "little",
          "little",
          "little",
          "little",
          "little",
          "little",
          "little",
          "little",
          "little",
          "little",
          "little",
          "little",
          "little",
          "little",
          "little",
          "little",
          "little",
          "little",
          "little",
          "little",
          "little",
          "little",
          "little",
          "little",
          "little",
          "little",
          "little",
          "little",
          "little",
          "little",
          "little",
          "little",
          "little",
          "little",
          "little",
          "little",
          "little",
          "little",
          "little",
          "little",
          "little",
          "little",
          "little",
          "little",
          "little",
          "little",
          "little",
          "little",
          "little",
          "little",
          "little",
          "little",
          "little",
          "little",
          "little",
          "little",
          "little",
          "little",
          "little",
          "little",
          "little",
          "little",
          "little",
          "little",
          "little",
          "little",
          "little",
          "little",
          "little",
          "little",
          "little",
          "little",
          "little",
          "little",
          "little",
          "little",
          "little",
          "little",
          "little",
          "little",
          "little",
          "little",
          "little",
          "little",
          "little",
          "little",
          "little",
          "little",
          "little",
          "little",
          "little",
          "little",
          "little",
          "little",
          "little",
          "little",
          "little",
          "little",
          "little",
          "little",
          "little",
          "little",
          "little",
          "little",
          "little",
          "little",
          "little",
          "little",
          "little",
          "little",
          "little",
          "little",
          "little",
          "little",
          "little",
          "little",
          "little",
          "little",
          "little",
          "little",
          "little",
          "little",
          "little",
          "little",
          "little",
          "little",
          "little",
          "little",
          "little",
          "little",
          "little",
          "little",
          "little",
          "little",
          "little",
          "little",
          "little",
          "little",
          "little",
          "little",
          "little",
          "little",
          "little",
          "little",
          "little",
          "little",
          "little",
          "little",
          "little",
          "little",
          "little",
          "little",
          "little",
          "little",
          "little",
          "little",
          "little",
          "little",
          "little",
          "little",
          "little",
          "little",
          "little",
          "little",
          "little",
          "little",
          "little",
          "little",
          "little",
          "little",
          "little",
          "little",
          "little",
          "little",
          "little",
          "little",
          "little",
          "little",
          "little",
          "little",
          "little",
          "little",
          "little",
          "little",
          "little",
          "little",
          "little",
          "little",
          "little",
          "little",
          "little",
          "little",
          "little",
          "little",
          "little",
          "little",
          "little",
          "little",
          "little",
          "little",
          "little",
          "little",
          "little",
          "little",
          "little",
          "little",
          "little",
          "little",
          "little",
          "little",
          "little",
          "little",
          "little",
          "little",
          "little",
          "little",
          "little",
          "little",
          "little",
          "little",
          "little",
          "little",
          "little",
          "little",
          "little",
          "little",
          "little",
          "little",
          "little",
          "little",
          "little",
          "little",
          "little",
          "little",
          "little",
          "little",
          "little",
          "little",
          "little",
          "little",
          "little",
          "little",
          "little",
          "little",
          "little",
          "little",
          "little",
          "little",
          "little",
          "little",
          "little",
          "little",
          "little",
          "little",
          "little",
          "little",
          "little",
          "little",
          "little",
          "little",
          "little",
          "little",
          "little",
          "little",
          "little",
          "little",
          "little",
          "little",
          "little",
          "little",
          "little",
          "little",
          "little",
          "little",
          "little",
          "little",
          "little",
          "little",
          "little",
          "little",
          "little",
          "little",
          "little",
          "little",
          "little",
          "little",
          "little",
          "little",
          "little",
          "little",
          "little",
          "little",
          "little",
          "little",
          "little",
          "little",
          "little",
          "little",
          "little",
          "little",
          "little",
          "little",
          "little",
          "little",
          "little",
          "little",
          "little",
          "little",
          "little",
          "little",
          "little",
          "little",
          "little",
          "little",
          "little",
          "little",
          "little",
          "little",
          "little",
          "little",
          "little",
          "little",
          "little",
          "little",
          "little",
          "little",
          "little",
          "little",
          "little",
          "little",
          "little",
          "little",
          "little"
         ],
         "x0": " ",
         "xaxis": "x",
         "y": {
          "bdata": "PxfKHgYTJBtyFA8F1BAfBq8EewUjMcEIXgVvCbQatA/CBYoSNAjJBMoBPBj/F00XsQipB1UYbwWhB1U4jARCF/YFfQ+jEvgO2wYLCQ8FVASBBUk+IQkTCX8Hoi6+F4gBdBgrBw0DSQi9An8CRAerDecaWQe7ElgNnglcA/sU2BYCBVMBjBxrBI8HtgMQCIYFVg0RCjsCZxF0AwkUlwSsDEsP3QXJEJAEhgN/KZAFqBmtFHQHIAxJD80LcQK5Hk0MchBiAx8H2gn9EYUHywhmCGUIeQZDBrYUIgMSI/QL3i7iKbQSRAQABLYkExm8Eugm3A4OBNUEFAGlDq0CugrEAjsOmRCSB14LRg15ESwE1xkOEDgNNQhJEPEFbxYPDlcRbQ9yA78DNxjeBGYJxwipCUIOdg25CwUe7jewMjIFzhyxDKUHEgosCccE9wcdBK8HEwq+A9sKpgRALFAHWAhCDWECVAZFCugTMgcQCtESQQ86DVcBJA65BskLbAt7BsABjgLdBCoMIBTGBfUNsQS5BH4gSggVBTMMdRW3BPcCfwpJAmECUQV2DM8bWQQeH/4IlgLhCA8JHA5THukL/gUwCzUFcgJXG68EMwXgDYgHCgarAlwFZhqiDCYDOgRyCwQLIAQ0DFAJ9wfvCgkFwQTGCIEBngqiBZEQGQmWAy0H+wQwDlwORA5CBygKRAhMDhEGSwUSEe4CHAVYB+cRswOsAjQdggf/CIUPeAN9ENkYEQUaBBcE6xLJC1AJzwNPBHEHuxjgCZkLtgRGCK4EcgTLNjkFzARaBxAZAxnDB/gCKC0YBAUHzwn6BKwB0AMTBbMCTAimCIMEJAwhDoEftQ0gD0UTggVQGG4XpARMCwMHsBA3JE4CQyTyBosD5AGdJesLWw8IHfE9QQXIC5gK2wJCBn4PwAQoLhcJOgSNCzsUVAXFArsIogV3D4cJVQmMAj8FBg6UB44F2Q8bAzg9igl7CKgWLgo5EEEKUwSAElkM+EcwOhENVgXSB9gauQIZBDkoQAXTBoYG2gXpAg8IkBg1BwYOYQhlB4IEpg8xCcYBYw+pBIEc8QLCICUgmQWRGLMZzwZ3DxEPNQc=",
          "dtype": "i2"
         },
         "y0": " ",
         "yaxis": "y"
        },
        {
         "alignmentgroup": "True",
         "box": {
          "visible": true
         },
         "hovertemplate": "Sparguthaben=%{x}<br>Kreditbetrag=%{y}<extra></extra>",
         "legendgroup": "moderate",
         "marker": {
          "color": "#EF553B"
         },
         "name": "moderate",
         "offsetgroup": "moderate",
         "orientation": "v",
         "points": "all",
         "scalegroup": "True",
         "showlegend": true,
         "type": "violin",
         "x": [
          "moderate",
          "moderate",
          "moderate",
          "moderate",
          "moderate",
          "moderate",
          "moderate",
          "moderate",
          "moderate",
          "moderate",
          "moderate",
          "moderate",
          "moderate",
          "moderate",
          "moderate",
          "moderate",
          "moderate",
          "moderate",
          "moderate",
          "moderate",
          "moderate",
          "moderate",
          "moderate",
          "moderate",
          "moderate",
          "moderate",
          "moderate",
          "moderate",
          "moderate",
          "moderate",
          "moderate",
          "moderate",
          "moderate",
          "moderate",
          "moderate",
          "moderate",
          "moderate",
          "moderate",
          "moderate",
          "moderate",
          "moderate",
          "moderate",
          "moderate",
          "moderate",
          "moderate",
          "moderate",
          "moderate",
          "moderate",
          "moderate",
          "moderate",
          "moderate",
          "moderate",
          "moderate",
          "moderate",
          "moderate",
          "moderate",
          "moderate",
          "moderate",
          "moderate",
          "moderate",
          "moderate",
          "moderate",
          "moderate",
          "moderate"
         ],
         "x0": " ",
         "xaxis": "x",
         "y": {
          "bdata": "AgUMB+oWKxhEMckIPgqpBe4NNxsIBbgNogIED9cLtwPPCiYPnh3XAvAcvjnwLRQMDQRKIysFZgTABMIaswRHCssH5ggRBqMDbwrlAtgEcQ2dBZYf2xWBJi4LRwpQC2EFxwmgGQQYHBG4EBUJSQNEA2YFNwl/B/0L6gXwBGsL4BE=",
          "dtype": "i2"
         },
         "y0": " ",
         "yaxis": "y"
        },
        {
         "alignmentgroup": "True",
         "box": {
          "visible": true
         },
         "hovertemplate": "Sparguthaben=%{x}<br>Kreditbetrag=%{y}<extra></extra>",
         "legendgroup": "quite rich",
         "marker": {
          "color": "#00cc96"
         },
         "name": "quite rich",
         "offsetgroup": "quite rich",
         "orientation": "v",
         "points": "all",
         "scalegroup": "True",
         "showlegend": true,
         "type": "violin",
         "x": [
          "quite rich",
          "quite rich",
          "quite rich",
          "quite rich",
          "quite rich",
          "quite rich",
          "quite rich",
          "quite rich",
          "quite rich",
          "quite rich",
          "quite rich",
          "quite rich",
          "quite rich",
          "quite rich",
          "quite rich",
          "quite rich",
          "quite rich",
          "quite rich",
          "quite rich",
          "quite rich",
          "quite rich",
          "quite rich",
          "quite rich"
         ],
         "x0": " ",
         "xaxis": "x",
         "y": {
          "bdata": "VwqGBEgFggWQBrkQPgn+AlIBjQyuDhYJqwM4CQwLFgOzCcgFpiAVDREQ2AnqBA==",
          "dtype": "i2"
         },
         "y0": " ",
         "yaxis": "y"
        },
        {
         "alignmentgroup": "True",
         "box": {
          "visible": true
         },
         "hovertemplate": "Sparguthaben=%{x}<br>Kreditbetrag=%{y}<extra></extra>",
         "legendgroup": "rich",
         "marker": {
          "color": "#ab63fa"
         },
         "name": "rich",
         "offsetgroup": "rich",
         "orientation": "v",
         "points": "all",
         "scalegroup": "True",
         "showlegend": true,
         "type": "violin",
         "x": [
          "rich",
          "rich",
          "rich",
          "rich",
          "rich",
          "rich",
          "rich",
          "rich",
          "rich",
          "rich",
          "rich",
          "rich",
          "rich",
          "rich",
          "rich",
          "rich",
          "rich",
          "rich",
          "rich",
          "rich",
          "rich",
          "rich",
          "rich"
         ],
         "x0": " ",
         "xaxis": "x",
         "y": {
          "bdata": "mQF5B+8DJgXFAk4eKQbRKpoCuQpjCnAE1wPoBSYOHQ2oDUMOsQH7BJUHKgXPBA==",
          "dtype": "i2"
         },
         "y0": " ",
         "yaxis": "y"
        }
       ],
       "layout": {
        "legend": {
         "title": {
          "text": "Sparguthaben"
         },
         "tracegroupgap": 0
        },
        "margin": {
         "b": 40,
         "l": 40,
         "r": 40,
         "t": 60
        },
        "showlegend": false,
        "template": {
         "data": {
          "bar": [
           {
            "error_x": {
             "color": "#2a3f5f"
            },
            "error_y": {
             "color": "#2a3f5f"
            },
            "marker": {
             "line": {
              "color": "#E5ECF6",
              "width": 0.5
             },
             "pattern": {
              "fillmode": "overlay",
              "size": 10,
              "solidity": 0.2
             }
            },
            "type": "bar"
           }
          ],
          "barpolar": [
           {
            "marker": {
             "line": {
              "color": "#E5ECF6",
              "width": 0.5
             },
             "pattern": {
              "fillmode": "overlay",
              "size": 10,
              "solidity": 0.2
             }
            },
            "type": "barpolar"
           }
          ],
          "carpet": [
           {
            "aaxis": {
             "endlinecolor": "#2a3f5f",
             "gridcolor": "white",
             "linecolor": "white",
             "minorgridcolor": "white",
             "startlinecolor": "#2a3f5f"
            },
            "baxis": {
             "endlinecolor": "#2a3f5f",
             "gridcolor": "white",
             "linecolor": "white",
             "minorgridcolor": "white",
             "startlinecolor": "#2a3f5f"
            },
            "type": "carpet"
           }
          ],
          "choropleth": [
           {
            "colorbar": {
             "outlinewidth": 0,
             "ticks": ""
            },
            "type": "choropleth"
           }
          ],
          "contour": [
           {
            "colorbar": {
             "outlinewidth": 0,
             "ticks": ""
            },
            "colorscale": [
             [
              0,
              "#0d0887"
             ],
             [
              0.1111111111111111,
              "#46039f"
             ],
             [
              0.2222222222222222,
              "#7201a8"
             ],
             [
              0.3333333333333333,
              "#9c179e"
             ],
             [
              0.4444444444444444,
              "#bd3786"
             ],
             [
              0.5555555555555556,
              "#d8576b"
             ],
             [
              0.6666666666666666,
              "#ed7953"
             ],
             [
              0.7777777777777778,
              "#fb9f3a"
             ],
             [
              0.8888888888888888,
              "#fdca26"
             ],
             [
              1,
              "#f0f921"
             ]
            ],
            "type": "contour"
           }
          ],
          "contourcarpet": [
           {
            "colorbar": {
             "outlinewidth": 0,
             "ticks": ""
            },
            "type": "contourcarpet"
           }
          ],
          "heatmap": [
           {
            "colorbar": {
             "outlinewidth": 0,
             "ticks": ""
            },
            "colorscale": [
             [
              0,
              "#0d0887"
             ],
             [
              0.1111111111111111,
              "#46039f"
             ],
             [
              0.2222222222222222,
              "#7201a8"
             ],
             [
              0.3333333333333333,
              "#9c179e"
             ],
             [
              0.4444444444444444,
              "#bd3786"
             ],
             [
              0.5555555555555556,
              "#d8576b"
             ],
             [
              0.6666666666666666,
              "#ed7953"
             ],
             [
              0.7777777777777778,
              "#fb9f3a"
             ],
             [
              0.8888888888888888,
              "#fdca26"
             ],
             [
              1,
              "#f0f921"
             ]
            ],
            "type": "heatmap"
           }
          ],
          "histogram": [
           {
            "marker": {
             "pattern": {
              "fillmode": "overlay",
              "size": 10,
              "solidity": 0.2
             }
            },
            "type": "histogram"
           }
          ],
          "histogram2d": [
           {
            "colorbar": {
             "outlinewidth": 0,
             "ticks": ""
            },
            "colorscale": [
             [
              0,
              "#0d0887"
             ],
             [
              0.1111111111111111,
              "#46039f"
             ],
             [
              0.2222222222222222,
              "#7201a8"
             ],
             [
              0.3333333333333333,
              "#9c179e"
             ],
             [
              0.4444444444444444,
              "#bd3786"
             ],
             [
              0.5555555555555556,
              "#d8576b"
             ],
             [
              0.6666666666666666,
              "#ed7953"
             ],
             [
              0.7777777777777778,
              "#fb9f3a"
             ],
             [
              0.8888888888888888,
              "#fdca26"
             ],
             [
              1,
              "#f0f921"
             ]
            ],
            "type": "histogram2d"
           }
          ],
          "histogram2dcontour": [
           {
            "colorbar": {
             "outlinewidth": 0,
             "ticks": ""
            },
            "colorscale": [
             [
              0,
              "#0d0887"
             ],
             [
              0.1111111111111111,
              "#46039f"
             ],
             [
              0.2222222222222222,
              "#7201a8"
             ],
             [
              0.3333333333333333,
              "#9c179e"
             ],
             [
              0.4444444444444444,
              "#bd3786"
             ],
             [
              0.5555555555555556,
              "#d8576b"
             ],
             [
              0.6666666666666666,
              "#ed7953"
             ],
             [
              0.7777777777777778,
              "#fb9f3a"
             ],
             [
              0.8888888888888888,
              "#fdca26"
             ],
             [
              1,
              "#f0f921"
             ]
            ],
            "type": "histogram2dcontour"
           }
          ],
          "mesh3d": [
           {
            "colorbar": {
             "outlinewidth": 0,
             "ticks": ""
            },
            "type": "mesh3d"
           }
          ],
          "parcoords": [
           {
            "line": {
             "colorbar": {
              "outlinewidth": 0,
              "ticks": ""
             }
            },
            "type": "parcoords"
           }
          ],
          "pie": [
           {
            "automargin": true,
            "type": "pie"
           }
          ],
          "scatter": [
           {
            "fillpattern": {
             "fillmode": "overlay",
             "size": 10,
             "solidity": 0.2
            },
            "type": "scatter"
           }
          ],
          "scatter3d": [
           {
            "line": {
             "colorbar": {
              "outlinewidth": 0,
              "ticks": ""
             }
            },
            "marker": {
             "colorbar": {
              "outlinewidth": 0,
              "ticks": ""
             }
            },
            "type": "scatter3d"
           }
          ],
          "scattercarpet": [
           {
            "marker": {
             "colorbar": {
              "outlinewidth": 0,
              "ticks": ""
             }
            },
            "type": "scattercarpet"
           }
          ],
          "scattergeo": [
           {
            "marker": {
             "colorbar": {
              "outlinewidth": 0,
              "ticks": ""
             }
            },
            "type": "scattergeo"
           }
          ],
          "scattergl": [
           {
            "marker": {
             "colorbar": {
              "outlinewidth": 0,
              "ticks": ""
             }
            },
            "type": "scattergl"
           }
          ],
          "scattermap": [
           {
            "marker": {
             "colorbar": {
              "outlinewidth": 0,
              "ticks": ""
             }
            },
            "type": "scattermap"
           }
          ],
          "scattermapbox": [
           {
            "marker": {
             "colorbar": {
              "outlinewidth": 0,
              "ticks": ""
             }
            },
            "type": "scattermapbox"
           }
          ],
          "scatterpolar": [
           {
            "marker": {
             "colorbar": {
              "outlinewidth": 0,
              "ticks": ""
             }
            },
            "type": "scatterpolar"
           }
          ],
          "scatterpolargl": [
           {
            "marker": {
             "colorbar": {
              "outlinewidth": 0,
              "ticks": ""
             }
            },
            "type": "scatterpolargl"
           }
          ],
          "scatterternary": [
           {
            "marker": {
             "colorbar": {
              "outlinewidth": 0,
              "ticks": ""
             }
            },
            "type": "scatterternary"
           }
          ],
          "surface": [
           {
            "colorbar": {
             "outlinewidth": 0,
             "ticks": ""
            },
            "colorscale": [
             [
              0,
              "#0d0887"
             ],
             [
              0.1111111111111111,
              "#46039f"
             ],
             [
              0.2222222222222222,
              "#7201a8"
             ],
             [
              0.3333333333333333,
              "#9c179e"
             ],
             [
              0.4444444444444444,
              "#bd3786"
             ],
             [
              0.5555555555555556,
              "#d8576b"
             ],
             [
              0.6666666666666666,
              "#ed7953"
             ],
             [
              0.7777777777777778,
              "#fb9f3a"
             ],
             [
              0.8888888888888888,
              "#fdca26"
             ],
             [
              1,
              "#f0f921"
             ]
            ],
            "type": "surface"
           }
          ],
          "table": [
           {
            "cells": {
             "fill": {
              "color": "#EBF0F8"
             },
             "line": {
              "color": "white"
             }
            },
            "header": {
             "fill": {
              "color": "#C8D4E3"
             },
             "line": {
              "color": "white"
             }
            },
            "type": "table"
           }
          ]
         },
         "layout": {
          "annotationdefaults": {
           "arrowcolor": "#2a3f5f",
           "arrowhead": 0,
           "arrowwidth": 1
          },
          "autotypenumbers": "strict",
          "coloraxis": {
           "colorbar": {
            "outlinewidth": 0,
            "ticks": ""
           }
          },
          "colorscale": {
           "diverging": [
            [
             0,
             "#8e0152"
            ],
            [
             0.1,
             "#c51b7d"
            ],
            [
             0.2,
             "#de77ae"
            ],
            [
             0.3,
             "#f1b6da"
            ],
            [
             0.4,
             "#fde0ef"
            ],
            [
             0.5,
             "#f7f7f7"
            ],
            [
             0.6,
             "#e6f5d0"
            ],
            [
             0.7,
             "#b8e186"
            ],
            [
             0.8,
             "#7fbc41"
            ],
            [
             0.9,
             "#4d9221"
            ],
            [
             1,
             "#276419"
            ]
           ],
           "sequential": [
            [
             0,
             "#0d0887"
            ],
            [
             0.1111111111111111,
             "#46039f"
            ],
            [
             0.2222222222222222,
             "#7201a8"
            ],
            [
             0.3333333333333333,
             "#9c179e"
            ],
            [
             0.4444444444444444,
             "#bd3786"
            ],
            [
             0.5555555555555556,
             "#d8576b"
            ],
            [
             0.6666666666666666,
             "#ed7953"
            ],
            [
             0.7777777777777778,
             "#fb9f3a"
            ],
            [
             0.8888888888888888,
             "#fdca26"
            ],
            [
             1,
             "#f0f921"
            ]
           ],
           "sequentialminus": [
            [
             0,
             "#0d0887"
            ],
            [
             0.1111111111111111,
             "#46039f"
            ],
            [
             0.2222222222222222,
             "#7201a8"
            ],
            [
             0.3333333333333333,
             "#9c179e"
            ],
            [
             0.4444444444444444,
             "#bd3786"
            ],
            [
             0.5555555555555556,
             "#d8576b"
            ],
            [
             0.6666666666666666,
             "#ed7953"
            ],
            [
             0.7777777777777778,
             "#fb9f3a"
            ],
            [
             0.8888888888888888,
             "#fdca26"
            ],
            [
             1,
             "#f0f921"
            ]
           ]
          },
          "colorway": [
           "#636efa",
           "#EF553B",
           "#00cc96",
           "#ab63fa",
           "#FFA15A",
           "#19d3f3",
           "#FF6692",
           "#B6E880",
           "#FF97FF",
           "#FECB52"
          ],
          "font": {
           "color": "#2a3f5f"
          },
          "geo": {
           "bgcolor": "white",
           "lakecolor": "white",
           "landcolor": "#E5ECF6",
           "showlakes": true,
           "showland": true,
           "subunitcolor": "white"
          },
          "hoverlabel": {
           "align": "left"
          },
          "hovermode": "closest",
          "mapbox": {
           "style": "light"
          },
          "paper_bgcolor": "white",
          "plot_bgcolor": "#E5ECF6",
          "polar": {
           "angularaxis": {
            "gridcolor": "white",
            "linecolor": "white",
            "ticks": ""
           },
           "bgcolor": "#E5ECF6",
           "radialaxis": {
            "gridcolor": "white",
            "linecolor": "white",
            "ticks": ""
           }
          },
          "scene": {
           "xaxis": {
            "backgroundcolor": "#E5ECF6",
            "gridcolor": "white",
            "gridwidth": 2,
            "linecolor": "white",
            "showbackground": true,
            "ticks": "",
            "zerolinecolor": "white"
           },
           "yaxis": {
            "backgroundcolor": "#E5ECF6",
            "gridcolor": "white",
            "gridwidth": 2,
            "linecolor": "white",
            "showbackground": true,
            "ticks": "",
            "zerolinecolor": "white"
           },
           "zaxis": {
            "backgroundcolor": "#E5ECF6",
            "gridcolor": "white",
            "gridwidth": 2,
            "linecolor": "white",
            "showbackground": true,
            "ticks": "",
            "zerolinecolor": "white"
           }
          },
          "shapedefaults": {
           "line": {
            "color": "#2a3f5f"
           }
          },
          "ternary": {
           "aaxis": {
            "gridcolor": "white",
            "linecolor": "white",
            "ticks": ""
           },
           "baxis": {
            "gridcolor": "white",
            "linecolor": "white",
            "ticks": ""
           },
           "bgcolor": "#E5ECF6",
           "caxis": {
            "gridcolor": "white",
            "linecolor": "white",
            "ticks": ""
           }
          },
          "title": {
           "x": 0.05
          },
          "xaxis": {
           "automargin": true,
           "gridcolor": "white",
           "linecolor": "white",
           "ticks": "",
           "title": {
            "standoff": 15
           },
           "zerolinecolor": "white",
           "zerolinewidth": 2
          },
          "yaxis": {
           "automargin": true,
           "gridcolor": "white",
           "linecolor": "white",
           "ticks": "",
           "title": {
            "standoff": 15
           },
           "zerolinecolor": "white",
           "zerolinewidth": 2
          }
         }
        },
        "title": {
         "text": "Verteilung der Kreditbeträge nach Sparguthaben"
        },
        "violinmode": "overlay",
        "xaxis": {
         "anchor": "y",
         "categoryarray": [
          "little",
          "moderate",
          "quite rich",
          "rich"
         ],
         "categoryorder": "array",
         "domain": [
          0,
          1
         ],
         "title": {
          "text": "Sparguthaben"
         }
        },
        "yaxis": {
         "anchor": "x",
         "domain": [
          0,
          1
         ],
         "title": {
          "text": "Kreditbetrag"
         }
        }
       }
      }
     },
     "metadata": {},
     "output_type": "display_data"
    }
   ],
   "source": [
    "fig6 = px.violin(\n",
    "    df,\n",
    "    x=\"Saving accounts\",\n",
    "    y=\"Credit amount\",\n",
    "    box=True,      \n",
    "    points=\"all\",        \n",
    "    color=\"Saving accounts\",\n",
    "    title=\"Verteilung der Kreditbeträge nach Sparguthaben\",\n",
    "    labels={\"Saving accounts\": \"Sparguthaben\", \"Credit amount\": \"Kreditbetrag\"}\n",
    ")\n",
    "\n",
    "fig6.update_layout(showlegend=False, margin=dict(l=40, r=40, t=60, b=40))\n",
    "fig6"
   ]
  },
  {
   "cell_type": "markdown",
   "id": "eda5af63",
   "metadata": {},
   "source": [
    "Bei den Kategorien moderate, quite rich und rich gibt es zwar insgesamt weniger Fälle, die Muster sind aber ähnlich: Die meisten Kredite liegen im unteren bis mittleren Bereich, und es tauchen immer wieder einzelne Ausreißer nach oben auf. Daraus können wir schließen, dass die Höhe der Ersparnisse nicht allein bestimmt, wie hoch ein Kredit ist. In allen Gruppen finden sich sowohl kleine als auch große Kreditbeträge, sodass andere Faktoren – zum Beispiel Beruf oder Einkommen – wahrscheinlich wichtiger sind.\n"
   ]
  },
  {
   "cell_type": "code",
   "execution_count": 25,
   "id": "a20ce3a7",
   "metadata": {},
   "outputs": [
    {
     "name": "stdout",
     "output_type": "stream",
     "text": [
      "Risk\n",
      "good    55.747126\n",
      "bad     44.252874\n",
      "Name: proportion, dtype: float64\n"
     ]
    }
   ],
   "source": [
    "print(df[\"Risk\"].value_counts(normalize=True) * 100)"
   ]
  },
  {
   "cell_type": "markdown",
   "id": "eeac4f89",
   "metadata": {},
   "source": [
    "Die Auswertung zeigt, dass etwa 56 % der Kredite als good (niedriges Risiko) und rund 44 % als bad (hohes Risiko) eingestuft sind. Damit ist der Datensatz zwar nicht perfekt ausgeglichen, aber beide Klassen sind ausreichend stark vertreten."
   ]
  },
  {
   "cell_type": "code",
   "execution_count": 26,
   "id": "2ba6769f",
   "metadata": {},
   "outputs": [
    {
     "data": {
      "application/vnd.plotly.v1+json": {
       "config": {
        "plotlyServerURL": "https://plot.ly"
       },
       "data": [
        {
         "boxpoints": "outliers",
         "line": {
          "color": "black"
         },
         "marker": {
          "color": "lightblue"
         },
         "name": "Age",
         "type": "box",
         "x": [
          "bad",
          "good",
          "bad",
          "good",
          "bad",
          "bad",
          "bad",
          "good",
          "bad",
          "good",
          "bad",
          "bad",
          "good",
          "good",
          "good",
          "good",
          "good",
          "good",
          "bad",
          "good",
          "good",
          "good",
          "good",
          "bad",
          "bad",
          "good",
          "good",
          "good",
          "good",
          "good",
          "bad",
          "good",
          "good",
          "bad",
          "good",
          "bad",
          "good",
          "bad",
          "bad",
          "good",
          "good",
          "good",
          "good",
          "bad",
          "good",
          "good",
          "good",
          "good",
          "good",
          "bad",
          "good",
          "bad",
          "good",
          "good",
          "bad",
          "good",
          "good",
          "good",
          "good",
          "bad",
          "good",
          "good",
          "good",
          "good",
          "good",
          "good",
          "bad",
          "good",
          "bad",
          "good",
          "good",
          "good",
          "bad",
          "good",
          "bad",
          "bad",
          "bad",
          "good",
          "good",
          "good",
          "good",
          "bad",
          "good",
          "good",
          "good",
          "good",
          "good",
          "good",
          "bad",
          "good",
          "good",
          "good",
          "good",
          "bad",
          "good",
          "bad",
          "bad",
          "bad",
          "good",
          "bad",
          "good",
          "good",
          "good",
          "bad",
          "bad",
          "bad",
          "good",
          "bad",
          "good",
          "bad",
          "bad",
          "bad",
          "bad",
          "bad",
          "bad",
          "good",
          "bad",
          "good",
          "good",
          "good",
          "bad",
          "bad",
          "good",
          "good",
          "good",
          "good",
          "bad",
          "bad",
          "good",
          "bad",
          "good",
          "bad",
          "bad",
          "good",
          "bad",
          "good",
          "good",
          "good",
          "bad",
          "bad",
          "good",
          "good",
          "good",
          "bad",
          "bad",
          "bad",
          "bad",
          "good",
          "good",
          "good",
          "good",
          "good",
          "bad",
          "bad",
          "good",
          "good",
          "bad",
          "good",
          "bad",
          "good",
          "bad",
          "bad",
          "good",
          "good",
          "bad",
          "bad",
          "good",
          "good",
          "bad",
          "bad",
          "good",
          "good",
          "good",
          "good",
          "good",
          "good",
          "bad",
          "bad",
          "bad",
          "good",
          "good",
          "good",
          "good",
          "good",
          "good",
          "good",
          "good",
          "good",
          "good",
          "bad",
          "bad",
          "bad",
          "bad",
          "bad",
          "good",
          "bad",
          "good",
          "bad",
          "good",
          "bad",
          "bad",
          "bad",
          "bad",
          "good",
          "good",
          "good",
          "good",
          "good",
          "good",
          "good",
          "good",
          "good",
          "bad",
          "bad",
          "good",
          "bad",
          "good",
          "bad",
          "good",
          "good",
          "bad",
          "bad",
          "good",
          "good",
          "good",
          "bad",
          "good",
          "good",
          "bad",
          "bad",
          "good",
          "bad",
          "bad",
          "good",
          "bad",
          "good",
          "good",
          "good",
          "good",
          "good",
          "bad",
          "bad",
          "bad",
          "bad",
          "bad",
          "bad",
          "good",
          "good",
          "good",
          "good",
          "good",
          "good",
          "bad",
          "bad",
          "good",
          "bad",
          "good",
          "good",
          "bad",
          "good",
          "good",
          "bad",
          "bad",
          "good",
          "bad",
          "bad",
          "good",
          "good",
          "good",
          "good",
          "good",
          "bad",
          "bad",
          "good",
          "good",
          "bad",
          "good",
          "good",
          "bad",
          "bad",
          "good",
          "bad",
          "good",
          "bad",
          "bad",
          "bad",
          "bad",
          "bad",
          "good",
          "good",
          "bad",
          "bad",
          "bad",
          "bad",
          "bad",
          "good",
          "good",
          "bad",
          "bad",
          "bad",
          "good",
          "good",
          "good",
          "bad",
          "bad",
          "good",
          "bad",
          "bad",
          "good",
          "good",
          "bad",
          "bad",
          "good",
          "bad",
          "bad",
          "bad",
          "bad",
          "good",
          "bad",
          "bad",
          "good",
          "good",
          "bad",
          "bad",
          "bad",
          "good",
          "good",
          "good",
          "bad",
          "good",
          "good",
          "bad",
          "good",
          "bad",
          "good",
          "bad",
          "bad",
          "bad",
          "bad",
          "good",
          "good",
          "good",
          "bad",
          "bad",
          "good",
          "bad",
          "bad",
          "bad",
          "good",
          "bad",
          "good",
          "good",
          "good",
          "good",
          "good",
          "good",
          "bad",
          "good",
          "bad",
          "good",
          "good",
          "good",
          "good",
          "good",
          "good",
          "good",
          "good",
          "good",
          "bad",
          "good",
          "good",
          "good",
          "bad",
          "bad",
          "good",
          "good",
          "bad",
          "good",
          "bad",
          "good",
          "bad",
          "bad",
          "bad",
          "good",
          "bad",
          "bad",
          "good",
          "good",
          "bad",
          "good",
          "bad",
          "good",
          "bad",
          "good",
          "good",
          "good",
          "good",
          "good",
          "bad",
          "good",
          "bad",
          "good",
          "good",
          "bad",
          "bad",
          "good",
          "good",
          "bad",
          "good",
          "bad",
          "good",
          "good",
          "good",
          "bad",
          "good",
          "bad",
          "good",
          "bad",
          "bad",
          "bad",
          "good",
          "good",
          "good",
          "bad",
          "good",
          "good",
          "bad",
          "good",
          "good",
          "bad",
          "bad",
          "bad",
          "good",
          "good",
          "bad",
          "good",
          "bad",
          "good",
          "good",
          "bad",
          "bad",
          "bad",
          "bad",
          "bad",
          "good",
          "bad",
          "good",
          "bad",
          "bad",
          "bad",
          "bad",
          "bad",
          "good",
          "good",
          "good",
          "good",
          "good",
          "good",
          "good",
          "bad",
          "bad",
          "bad",
          "bad",
          "good",
          "good",
          "good",
          "good",
          "bad",
          "bad",
          "good",
          "bad",
          "bad",
          "bad",
          "bad",
          "bad",
          "bad",
          "bad",
          "good",
          "bad",
          "bad",
          "good",
          "bad",
          "good",
          "good",
          "bad",
          "good",
          "bad",
          "bad",
          "good",
          "bad",
          "good",
          "good",
          "bad",
          "good",
          "bad",
          "bad",
          "good",
          "good",
          "good",
          "bad",
          "good",
          "good",
          "good",
          "bad",
          "good",
          "good",
          "bad",
          "bad",
          "good",
          "good",
          "bad",
          "bad",
          "good",
          "bad",
          "good",
          "good",
          "good",
          "good",
          "good",
          "good",
          "bad",
          "good"
         ],
         "xaxis": "x",
         "y": {
          "bdata": "Fi01IxwZGBY8HCAsLDAsJCoiPyQbHiEZJSUYGiwYOhceORcXGz0ZFjMpQiIzFjo0Gy8eHDY2OiIkGCMnICMfFxwjFyQZPx4oHiIdHUIsGx4bFh4nHBgdJBQwLSZGIRQfISIhGio0QR4kSkQUISIkFSIbKBsVJhoVMkIfFxgaGzUWGhkePScYGicuGB0bNyQlLRwiJSMaHzEwHCw4GiAqMSEYFhoZHyYbHCAiHCcfHEsYFywXHB8YGhkhJRcXIB0cFxckGRYqKDwlOSYaKBsTJx8gNy4uFhscFCEvFTcdJBlBGh4dHiIjPR8kIxslJCI/HRYXHCEaGScsFxo5LyonHSAcGyoxJhgkIhoaFCUoKxg1Gh4fKSAcISUqLRciKxgiG0MWHBsfGB0XJB8XFhsbGx4xIRQkFS88OhQgFyQtHiIXFjIWMB0WJRUbFkEpHRwsGRobJiAgJigyJS0qFikcKRcjMiIrLxhAHx4fGRkdHSguLykgGBkZJSMZGx8iGBhCGTskIRUsFyMaIBcWHBclMRcXSiMYGCgfHBlCGUMZHxcjMhsnMzAYGBo3GhocGDYuNisaGCkvHiEXHRkwPx07OSEgHSMbGC4aHSgkGys1FysmIhwqKxQZHyBEIScWHjcuFScrGBYXHhweKi4eHigYHB05JS0eLxYXKBYdJDlAGTEcGhkhHTAeKBcb",
          "dtype": "i1"
         },
         "yaxis": "y"
        },
        {
         "boxpoints": "outliers",
         "line": {
          "color": "black"
         },
         "marker": {
          "color": "lightblue"
         },
         "name": "Credit amount",
         "type": "box",
         "x": [
          "bad",
          "good",
          "bad",
          "good",
          "bad",
          "bad",
          "bad",
          "good",
          "bad",
          "good",
          "bad",
          "bad",
          "good",
          "good",
          "good",
          "good",
          "good",
          "good",
          "bad",
          "good",
          "good",
          "good",
          "good",
          "bad",
          "bad",
          "good",
          "good",
          "good",
          "good",
          "good",
          "bad",
          "good",
          "good",
          "bad",
          "good",
          "bad",
          "good",
          "bad",
          "bad",
          "good",
          "good",
          "good",
          "good",
          "bad",
          "good",
          "good",
          "good",
          "good",
          "good",
          "bad",
          "good",
          "bad",
          "good",
          "good",
          "bad",
          "good",
          "good",
          "good",
          "good",
          "bad",
          "good",
          "good",
          "good",
          "good",
          "good",
          "good",
          "bad",
          "good",
          "bad",
          "good",
          "good",
          "good",
          "bad",
          "good",
          "bad",
          "bad",
          "bad",
          "good",
          "good",
          "good",
          "good",
          "bad",
          "good",
          "good",
          "good",
          "good",
          "good",
          "good",
          "bad",
          "good",
          "good",
          "good",
          "good",
          "bad",
          "good",
          "bad",
          "bad",
          "bad",
          "good",
          "bad",
          "good",
          "good",
          "good",
          "bad",
          "bad",
          "bad",
          "good",
          "bad",
          "good",
          "bad",
          "bad",
          "bad",
          "bad",
          "bad",
          "bad",
          "good",
          "bad",
          "good",
          "good",
          "good",
          "bad",
          "bad",
          "good",
          "good",
          "good",
          "good",
          "bad",
          "bad",
          "good",
          "bad",
          "good",
          "bad",
          "bad",
          "good",
          "bad",
          "good",
          "good",
          "good",
          "bad",
          "bad",
          "good",
          "good",
          "good",
          "bad",
          "bad",
          "bad",
          "bad",
          "good",
          "good",
          "good",
          "good",
          "good",
          "bad",
          "bad",
          "good",
          "good",
          "bad",
          "good",
          "bad",
          "good",
          "bad",
          "bad",
          "good",
          "good",
          "bad",
          "bad",
          "good",
          "good",
          "bad",
          "bad",
          "good",
          "good",
          "good",
          "good",
          "good",
          "good",
          "bad",
          "bad",
          "bad",
          "good",
          "good",
          "good",
          "good",
          "good",
          "good",
          "good",
          "good",
          "good",
          "good",
          "bad",
          "bad",
          "bad",
          "bad",
          "bad",
          "good",
          "bad",
          "good",
          "bad",
          "good",
          "bad",
          "bad",
          "bad",
          "bad",
          "good",
          "good",
          "good",
          "good",
          "good",
          "good",
          "good",
          "good",
          "good",
          "bad",
          "bad",
          "good",
          "bad",
          "good",
          "bad",
          "good",
          "good",
          "bad",
          "bad",
          "good",
          "good",
          "good",
          "bad",
          "good",
          "good",
          "bad",
          "bad",
          "good",
          "bad",
          "bad",
          "good",
          "bad",
          "good",
          "good",
          "good",
          "good",
          "good",
          "bad",
          "bad",
          "bad",
          "bad",
          "bad",
          "bad",
          "good",
          "good",
          "good",
          "good",
          "good",
          "good",
          "bad",
          "bad",
          "good",
          "bad",
          "good",
          "good",
          "bad",
          "good",
          "good",
          "bad",
          "bad",
          "good",
          "bad",
          "bad",
          "good",
          "good",
          "good",
          "good",
          "good",
          "bad",
          "bad",
          "good",
          "good",
          "bad",
          "good",
          "good",
          "bad",
          "bad",
          "good",
          "bad",
          "good",
          "bad",
          "bad",
          "bad",
          "bad",
          "bad",
          "good",
          "good",
          "bad",
          "bad",
          "bad",
          "bad",
          "bad",
          "good",
          "good",
          "bad",
          "bad",
          "bad",
          "good",
          "good",
          "good",
          "bad",
          "bad",
          "good",
          "bad",
          "bad",
          "good",
          "good",
          "bad",
          "bad",
          "good",
          "bad",
          "bad",
          "bad",
          "bad",
          "good",
          "bad",
          "bad",
          "good",
          "good",
          "bad",
          "bad",
          "bad",
          "good",
          "good",
          "good",
          "bad",
          "good",
          "good",
          "bad",
          "good",
          "bad",
          "good",
          "bad",
          "bad",
          "bad",
          "bad",
          "good",
          "good",
          "good",
          "bad",
          "bad",
          "good",
          "bad",
          "bad",
          "bad",
          "good",
          "bad",
          "good",
          "good",
          "good",
          "good",
          "good",
          "good",
          "bad",
          "good",
          "bad",
          "good",
          "good",
          "good",
          "good",
          "good",
          "good",
          "good",
          "good",
          "good",
          "bad",
          "good",
          "good",
          "good",
          "bad",
          "bad",
          "good",
          "good",
          "bad",
          "good",
          "bad",
          "good",
          "bad",
          "bad",
          "bad",
          "good",
          "bad",
          "bad",
          "good",
          "good",
          "bad",
          "good",
          "bad",
          "good",
          "bad",
          "good",
          "good",
          "good",
          "good",
          "good",
          "bad",
          "good",
          "bad",
          "good",
          "good",
          "bad",
          "bad",
          "good",
          "good",
          "bad",
          "good",
          "bad",
          "good",
          "good",
          "good",
          "bad",
          "good",
          "bad",
          "good",
          "bad",
          "bad",
          "bad",
          "good",
          "good",
          "good",
          "bad",
          "good",
          "good",
          "bad",
          "good",
          "good",
          "bad",
          "bad",
          "bad",
          "good",
          "good",
          "bad",
          "good",
          "bad",
          "good",
          "good",
          "bad",
          "bad",
          "bad",
          "bad",
          "bad",
          "good",
          "bad",
          "good",
          "bad",
          "bad",
          "bad",
          "bad",
          "bad",
          "good",
          "good",
          "good",
          "good",
          "good",
          "good",
          "good",
          "bad",
          "bad",
          "bad",
          "bad",
          "good",
          "good",
          "good",
          "good",
          "bad",
          "bad",
          "good",
          "bad",
          "bad",
          "bad",
          "bad",
          "bad",
          "bad",
          "bad",
          "good",
          "bad",
          "bad",
          "good",
          "bad",
          "good",
          "good",
          "bad",
          "good",
          "bad",
          "bad",
          "good",
          "bad",
          "good",
          "good",
          "bad",
          "good",
          "bad",
          "bad",
          "good",
          "good",
          "good",
          "bad",
          "good",
          "good",
          "good",
          "bad",
          "good",
          "good",
          "bad",
          "bad",
          "good",
          "good",
          "bad",
          "bad",
          "good",
          "bad",
          "good",
          "good",
          "good",
          "good",
          "good",
          "good",
          "bad",
          "good"
         ],
         "xaxis": "x2",
         "y": {
          "bdata": "PxfKHgYTJBtyFA8F1BAfBq8EewUCBSMxVwrBCAwHXgWZAW8JtBp5B7QP6hbCBYoSNAjJBMoBhgQ8GCsY/xdIBU0XsQipB1UYbwWhB1U47wOMBEIX9gV9D6MS+A7bBgsJDwVEMckIVASBBSYFST4+CiEJEwl/B6IuvheCBakFiAF0GJAGuRA+CSsHDQNJCL0CfwJEB6sN5xr+AlkHxQK7ElgNngnuDVwD+xTYFk4eNxsCBQgFUwG4DYwcawQpBo8HtgMQCIYFVg0RClIBOwJnEXQDCRSXBKICrAwED0sP1wvdBbcDyRCQBIYDfymQBagZrRR0ByAMSQ/NC3EC0Sq5Hk0MchBiAx8HzwraCf0RhQeaAssIZghlCHkGQwa2FCIDEiP0C94uJg/iKbQSnh1EBAAEtiQTGbwS6Ca5CtwODgTXAtUEFAGlDq0CugrEAjsOmRCSB14LYwpGDXkRLATXGfAcDhA4DTUISRDxBW8WDw6NDFcRbQ9yA64OcAS/AzcY3gRmCccIqQlCDnYNuQu+OQUe7jewMjIFzhwWCdcDsQylB/AtEgosCccE9wcdBKsDrwcTCr4D2wqmBEAsUAdYCEINYQJUBkUK6BMyBxAK6AXREkEPOg1XASQOuQbJC2wLewYUDMABjgLdBCoMIBQNBMYF9Q2xBCYOuQR+IEoISiMVBSsFMwx1FWYEwAS3BDgJwhr3An8KSQJhAlEFswR2DM8bWQQeH/4IlgLhCEcKDwkcDlMe6Qv+BTALNQVyAlcbywevBDMF5gjgDYgHCgarAhEGXAVmGqIMJgM6BHILBAsgBDQMUAn3B+8KCQXBBMYIgQGeCqMDogWREBkJlgMtB/sEDAtvCuUC2AQdDTAOXA5xDUQOQgcoCkQInQVMDhEGSwUSEe4CHAVYB+cRswOsAjQdggf/CJYfhQ94A30Q2RgRBRoEFwSoDesSyQvbFVAJgSYuC0MOzwNHClALTwRxB7sYYQXHCeAJoBmZC7YERgiuBHIEyzYEGDkFsQHMBBYDWgcQGfsEAxnDB/gCKC0cEbgQFQkYBLMJBQfPCfoErAHQA0kDEwWzAkwIpgiDBCQMIQ6BH8gFtQ0gD0UTggVEA5UHUBhuF6QETAsDB7AQNyROAkMk8gaLA+QBnSXrC1sPCB3xPUEFyAuYCtsCQgZ+D8AEKC4XCToEjQs7FFQFxQK7CKIFdw+HCVUJjAI/BWYFBg4qBZQHjgXZDxsDOD2KCXsIqBYuCjkQQQpTBIASWQz4RzA6NwkRDVYF0gfYGrkCGQQ5KEAF0waGBtoFfwfpAg8IkBg1B6YgFQ0GDmEIERBlB88EggSmD/0LMQnGAdgJYw/qBakEgRzqBPEC8ATCIGsLJSCZBZEYsxnPBncPEQ81B+AR",
          "dtype": "i2"
         },
         "yaxis": "y2"
        },
        {
         "boxpoints": "outliers",
         "line": {
          "color": "black"
         },
         "marker": {
          "color": "lightblue"
         },
         "name": "Duration",
         "type": "box",
         "x": [
          "bad",
          "good",
          "bad",
          "good",
          "bad",
          "bad",
          "bad",
          "good",
          "bad",
          "good",
          "bad",
          "bad",
          "good",
          "good",
          "good",
          "good",
          "good",
          "good",
          "bad",
          "good",
          "good",
          "good",
          "good",
          "bad",
          "bad",
          "good",
          "good",
          "good",
          "good",
          "good",
          "bad",
          "good",
          "good",
          "bad",
          "good",
          "bad",
          "good",
          "bad",
          "bad",
          "good",
          "good",
          "good",
          "good",
          "bad",
          "good",
          "good",
          "good",
          "good",
          "good",
          "bad",
          "good",
          "bad",
          "good",
          "good",
          "bad",
          "good",
          "good",
          "good",
          "good",
          "bad",
          "good",
          "good",
          "good",
          "good",
          "good",
          "good",
          "bad",
          "good",
          "bad",
          "good",
          "good",
          "good",
          "bad",
          "good",
          "bad",
          "bad",
          "bad",
          "good",
          "good",
          "good",
          "good",
          "bad",
          "good",
          "good",
          "good",
          "good",
          "good",
          "good",
          "bad",
          "good",
          "good",
          "good",
          "good",
          "bad",
          "good",
          "bad",
          "bad",
          "bad",
          "good",
          "bad",
          "good",
          "good",
          "good",
          "bad",
          "bad",
          "bad",
          "good",
          "bad",
          "good",
          "bad",
          "bad",
          "bad",
          "bad",
          "bad",
          "bad",
          "good",
          "bad",
          "good",
          "good",
          "good",
          "bad",
          "bad",
          "good",
          "good",
          "good",
          "good",
          "bad",
          "bad",
          "good",
          "bad",
          "good",
          "bad",
          "bad",
          "good",
          "bad",
          "good",
          "good",
          "good",
          "bad",
          "bad",
          "good",
          "good",
          "good",
          "bad",
          "bad",
          "bad",
          "bad",
          "good",
          "good",
          "good",
          "good",
          "good",
          "bad",
          "bad",
          "good",
          "good",
          "bad",
          "good",
          "bad",
          "good",
          "bad",
          "bad",
          "good",
          "good",
          "bad",
          "bad",
          "good",
          "good",
          "bad",
          "bad",
          "good",
          "good",
          "good",
          "good",
          "good",
          "good",
          "bad",
          "bad",
          "bad",
          "good",
          "good",
          "good",
          "good",
          "good",
          "good",
          "good",
          "good",
          "good",
          "good",
          "bad",
          "bad",
          "bad",
          "bad",
          "bad",
          "good",
          "bad",
          "good",
          "bad",
          "good",
          "bad",
          "bad",
          "bad",
          "bad",
          "good",
          "good",
          "good",
          "good",
          "good",
          "good",
          "good",
          "good",
          "good",
          "bad",
          "bad",
          "good",
          "bad",
          "good",
          "bad",
          "good",
          "good",
          "bad",
          "bad",
          "good",
          "good",
          "good",
          "bad",
          "good",
          "good",
          "bad",
          "bad",
          "good",
          "bad",
          "bad",
          "good",
          "bad",
          "good",
          "good",
          "good",
          "good",
          "good",
          "bad",
          "bad",
          "bad",
          "bad",
          "bad",
          "bad",
          "good",
          "good",
          "good",
          "good",
          "good",
          "good",
          "bad",
          "bad",
          "good",
          "bad",
          "good",
          "good",
          "bad",
          "good",
          "good",
          "bad",
          "bad",
          "good",
          "bad",
          "bad",
          "good",
          "good",
          "good",
          "good",
          "good",
          "bad",
          "bad",
          "good",
          "good",
          "bad",
          "good",
          "good",
          "bad",
          "bad",
          "good",
          "bad",
          "good",
          "bad",
          "bad",
          "bad",
          "bad",
          "bad",
          "good",
          "good",
          "bad",
          "bad",
          "bad",
          "bad",
          "bad",
          "good",
          "good",
          "bad",
          "bad",
          "bad",
          "good",
          "good",
          "good",
          "bad",
          "bad",
          "good",
          "bad",
          "bad",
          "good",
          "good",
          "bad",
          "bad",
          "good",
          "bad",
          "bad",
          "bad",
          "bad",
          "good",
          "bad",
          "bad",
          "good",
          "good",
          "bad",
          "bad",
          "bad",
          "good",
          "good",
          "good",
          "bad",
          "good",
          "good",
          "bad",
          "good",
          "bad",
          "good",
          "bad",
          "bad",
          "bad",
          "bad",
          "good",
          "good",
          "good",
          "bad",
          "bad",
          "good",
          "bad",
          "bad",
          "bad",
          "good",
          "bad",
          "good",
          "good",
          "good",
          "good",
          "good",
          "good",
          "bad",
          "good",
          "bad",
          "good",
          "good",
          "good",
          "good",
          "good",
          "good",
          "good",
          "good",
          "good",
          "bad",
          "good",
          "good",
          "good",
          "bad",
          "bad",
          "good",
          "good",
          "bad",
          "good",
          "bad",
          "good",
          "bad",
          "bad",
          "bad",
          "good",
          "bad",
          "bad",
          "good",
          "good",
          "bad",
          "good",
          "bad",
          "good",
          "bad",
          "good",
          "good",
          "good",
          "good",
          "good",
          "bad",
          "good",
          "bad",
          "good",
          "good",
          "bad",
          "bad",
          "good",
          "good",
          "bad",
          "good",
          "bad",
          "good",
          "good",
          "good",
          "bad",
          "good",
          "bad",
          "good",
          "bad",
          "bad",
          "bad",
          "good",
          "good",
          "good",
          "bad",
          "good",
          "good",
          "bad",
          "good",
          "good",
          "bad",
          "bad",
          "bad",
          "good",
          "good",
          "bad",
          "good",
          "bad",
          "good",
          "good",
          "bad",
          "bad",
          "bad",
          "bad",
          "bad",
          "good",
          "bad",
          "good",
          "bad",
          "bad",
          "bad",
          "bad",
          "bad",
          "good",
          "good",
          "good",
          "good",
          "good",
          "good",
          "good",
          "bad",
          "bad",
          "bad",
          "bad",
          "good",
          "good",
          "good",
          "good",
          "bad",
          "bad",
          "good",
          "bad",
          "bad",
          "bad",
          "bad",
          "bad",
          "bad",
          "bad",
          "good",
          "bad",
          "bad",
          "good",
          "bad",
          "good",
          "good",
          "bad",
          "good",
          "bad",
          "bad",
          "good",
          "bad",
          "good",
          "good",
          "bad",
          "good",
          "bad",
          "bad",
          "good",
          "good",
          "good",
          "bad",
          "good",
          "good",
          "good",
          "bad",
          "good",
          "good",
          "bad",
          "bad",
          "good",
          "good",
          "bad",
          "bad",
          "good",
          "bad",
          "good",
          "good",
          "good",
          "good",
          "good",
          "good",
          "bad",
          "good"
         ],
         "xaxis": "x3",
         "y": {
          "bdata": "MCoYJB4MMAwYDxgYBgoMBgwHPBIYEgwtEgoJDBIeMAYbJBIkCSQwDAgqDCoLHhgKEiQSDAwMNhIkJAkYDA4GDxIMIQwVCgwMDAwMJAwMBiQbEjAGJCQYGAwJDBgKEgsYDxgIFQwGFSQSCRAMEjAbLQkMEgwMHgwYGx4SJBgMMAwYJBIYFR4wGAYMHgwMGBIPDjAeGC8wMAwYJBgqMBUkCgwICRgMJAwPHhgYEggkBhg8GAYNGAoYFRISCg0YCQkMGB4MEhIkEjwwJBIMEg8MJAYnDCQMGA8MGAwMEhIYBgkqDAwUMCQHDxgLDAYkDwwYGBgGCRISGAwPDBgeBhsMJBIGGCQJGBgPDwwPDAYGBhIwEhokBiQPFRIwEgwSGAwwDAkMEhgSGAYYDDAYDwkMJBIMJBIJDBIMDBgGGBgHCRgKGCQMChUYBh4VDBIGCRgSGCoSDxIeGAwwDBgkDgweEgwGBh4MHkgYJCQMDw8YDA8wGB4bMAwJCQYJPBQJBgwJEjAYGBgIGBIeGAoYDQ8MBhIMBgwSDAweDCQMEhInDAwSMCgVGBIUJAYqDwgGJDAwJCQSDCQIFRISLQ8MGCQJDBQSDxgSDAYYDAsSCRgMMBsMJBUSEAwYGDAGGBgJDBgMEjAMGAkMHgkGPA8wGBIkGAwYCRwYFQYbCw8YPBgGDx4VJA8qGBgkHi0t",
          "dtype": "i1"
         },
         "yaxis": "y3"
        }
       ],
       "layout": {
        "annotations": [
         {
          "font": {
           "size": 16
          },
          "showarrow": false,
          "text": "Age",
          "x": 0.14444444444444446,
          "xanchor": "center",
          "xref": "paper",
          "y": 1,
          "yanchor": "bottom",
          "yref": "paper"
         },
         {
          "font": {
           "size": 16
          },
          "showarrow": false,
          "text": "Credit amount",
          "x": 0.5,
          "xanchor": "center",
          "xref": "paper",
          "y": 1,
          "yanchor": "bottom",
          "yref": "paper"
         },
         {
          "font": {
           "size": 16
          },
          "showarrow": false,
          "text": "Duration",
          "x": 0.8555555555555556,
          "xanchor": "center",
          "xref": "paper",
          "y": 1,
          "yanchor": "bottom",
          "yref": "paper"
         }
        ],
        "margin": {
         "b": 40,
         "l": 40,
         "r": 40,
         "t": 60
        },
        "showlegend": false,
        "template": {
         "data": {
          "bar": [
           {
            "error_x": {
             "color": "#2a3f5f"
            },
            "error_y": {
             "color": "#2a3f5f"
            },
            "marker": {
             "line": {
              "color": "#E5ECF6",
              "width": 0.5
             },
             "pattern": {
              "fillmode": "overlay",
              "size": 10,
              "solidity": 0.2
             }
            },
            "type": "bar"
           }
          ],
          "barpolar": [
           {
            "marker": {
             "line": {
              "color": "#E5ECF6",
              "width": 0.5
             },
             "pattern": {
              "fillmode": "overlay",
              "size": 10,
              "solidity": 0.2
             }
            },
            "type": "barpolar"
           }
          ],
          "carpet": [
           {
            "aaxis": {
             "endlinecolor": "#2a3f5f",
             "gridcolor": "white",
             "linecolor": "white",
             "minorgridcolor": "white",
             "startlinecolor": "#2a3f5f"
            },
            "baxis": {
             "endlinecolor": "#2a3f5f",
             "gridcolor": "white",
             "linecolor": "white",
             "minorgridcolor": "white",
             "startlinecolor": "#2a3f5f"
            },
            "type": "carpet"
           }
          ],
          "choropleth": [
           {
            "colorbar": {
             "outlinewidth": 0,
             "ticks": ""
            },
            "type": "choropleth"
           }
          ],
          "contour": [
           {
            "colorbar": {
             "outlinewidth": 0,
             "ticks": ""
            },
            "colorscale": [
             [
              0,
              "#0d0887"
             ],
             [
              0.1111111111111111,
              "#46039f"
             ],
             [
              0.2222222222222222,
              "#7201a8"
             ],
             [
              0.3333333333333333,
              "#9c179e"
             ],
             [
              0.4444444444444444,
              "#bd3786"
             ],
             [
              0.5555555555555556,
              "#d8576b"
             ],
             [
              0.6666666666666666,
              "#ed7953"
             ],
             [
              0.7777777777777778,
              "#fb9f3a"
             ],
             [
              0.8888888888888888,
              "#fdca26"
             ],
             [
              1,
              "#f0f921"
             ]
            ],
            "type": "contour"
           }
          ],
          "contourcarpet": [
           {
            "colorbar": {
             "outlinewidth": 0,
             "ticks": ""
            },
            "type": "contourcarpet"
           }
          ],
          "heatmap": [
           {
            "colorbar": {
             "outlinewidth": 0,
             "ticks": ""
            },
            "colorscale": [
             [
              0,
              "#0d0887"
             ],
             [
              0.1111111111111111,
              "#46039f"
             ],
             [
              0.2222222222222222,
              "#7201a8"
             ],
             [
              0.3333333333333333,
              "#9c179e"
             ],
             [
              0.4444444444444444,
              "#bd3786"
             ],
             [
              0.5555555555555556,
              "#d8576b"
             ],
             [
              0.6666666666666666,
              "#ed7953"
             ],
             [
              0.7777777777777778,
              "#fb9f3a"
             ],
             [
              0.8888888888888888,
              "#fdca26"
             ],
             [
              1,
              "#f0f921"
             ]
            ],
            "type": "heatmap"
           }
          ],
          "histogram": [
           {
            "marker": {
             "pattern": {
              "fillmode": "overlay",
              "size": 10,
              "solidity": 0.2
             }
            },
            "type": "histogram"
           }
          ],
          "histogram2d": [
           {
            "colorbar": {
             "outlinewidth": 0,
             "ticks": ""
            },
            "colorscale": [
             [
              0,
              "#0d0887"
             ],
             [
              0.1111111111111111,
              "#46039f"
             ],
             [
              0.2222222222222222,
              "#7201a8"
             ],
             [
              0.3333333333333333,
              "#9c179e"
             ],
             [
              0.4444444444444444,
              "#bd3786"
             ],
             [
              0.5555555555555556,
              "#d8576b"
             ],
             [
              0.6666666666666666,
              "#ed7953"
             ],
             [
              0.7777777777777778,
              "#fb9f3a"
             ],
             [
              0.8888888888888888,
              "#fdca26"
             ],
             [
              1,
              "#f0f921"
             ]
            ],
            "type": "histogram2d"
           }
          ],
          "histogram2dcontour": [
           {
            "colorbar": {
             "outlinewidth": 0,
             "ticks": ""
            },
            "colorscale": [
             [
              0,
              "#0d0887"
             ],
             [
              0.1111111111111111,
              "#46039f"
             ],
             [
              0.2222222222222222,
              "#7201a8"
             ],
             [
              0.3333333333333333,
              "#9c179e"
             ],
             [
              0.4444444444444444,
              "#bd3786"
             ],
             [
              0.5555555555555556,
              "#d8576b"
             ],
             [
              0.6666666666666666,
              "#ed7953"
             ],
             [
              0.7777777777777778,
              "#fb9f3a"
             ],
             [
              0.8888888888888888,
              "#fdca26"
             ],
             [
              1,
              "#f0f921"
             ]
            ],
            "type": "histogram2dcontour"
           }
          ],
          "mesh3d": [
           {
            "colorbar": {
             "outlinewidth": 0,
             "ticks": ""
            },
            "type": "mesh3d"
           }
          ],
          "parcoords": [
           {
            "line": {
             "colorbar": {
              "outlinewidth": 0,
              "ticks": ""
             }
            },
            "type": "parcoords"
           }
          ],
          "pie": [
           {
            "automargin": true,
            "type": "pie"
           }
          ],
          "scatter": [
           {
            "fillpattern": {
             "fillmode": "overlay",
             "size": 10,
             "solidity": 0.2
            },
            "type": "scatter"
           }
          ],
          "scatter3d": [
           {
            "line": {
             "colorbar": {
              "outlinewidth": 0,
              "ticks": ""
             }
            },
            "marker": {
             "colorbar": {
              "outlinewidth": 0,
              "ticks": ""
             }
            },
            "type": "scatter3d"
           }
          ],
          "scattercarpet": [
           {
            "marker": {
             "colorbar": {
              "outlinewidth": 0,
              "ticks": ""
             }
            },
            "type": "scattercarpet"
           }
          ],
          "scattergeo": [
           {
            "marker": {
             "colorbar": {
              "outlinewidth": 0,
              "ticks": ""
             }
            },
            "type": "scattergeo"
           }
          ],
          "scattergl": [
           {
            "marker": {
             "colorbar": {
              "outlinewidth": 0,
              "ticks": ""
             }
            },
            "type": "scattergl"
           }
          ],
          "scattermap": [
           {
            "marker": {
             "colorbar": {
              "outlinewidth": 0,
              "ticks": ""
             }
            },
            "type": "scattermap"
           }
          ],
          "scattermapbox": [
           {
            "marker": {
             "colorbar": {
              "outlinewidth": 0,
              "ticks": ""
             }
            },
            "type": "scattermapbox"
           }
          ],
          "scatterpolar": [
           {
            "marker": {
             "colorbar": {
              "outlinewidth": 0,
              "ticks": ""
             }
            },
            "type": "scatterpolar"
           }
          ],
          "scatterpolargl": [
           {
            "marker": {
             "colorbar": {
              "outlinewidth": 0,
              "ticks": ""
             }
            },
            "type": "scatterpolargl"
           }
          ],
          "scatterternary": [
           {
            "marker": {
             "colorbar": {
              "outlinewidth": 0,
              "ticks": ""
             }
            },
            "type": "scatterternary"
           }
          ],
          "surface": [
           {
            "colorbar": {
             "outlinewidth": 0,
             "ticks": ""
            },
            "colorscale": [
             [
              0,
              "#0d0887"
             ],
             [
              0.1111111111111111,
              "#46039f"
             ],
             [
              0.2222222222222222,
              "#7201a8"
             ],
             [
              0.3333333333333333,
              "#9c179e"
             ],
             [
              0.4444444444444444,
              "#bd3786"
             ],
             [
              0.5555555555555556,
              "#d8576b"
             ],
             [
              0.6666666666666666,
              "#ed7953"
             ],
             [
              0.7777777777777778,
              "#fb9f3a"
             ],
             [
              0.8888888888888888,
              "#fdca26"
             ],
             [
              1,
              "#f0f921"
             ]
            ],
            "type": "surface"
           }
          ],
          "table": [
           {
            "cells": {
             "fill": {
              "color": "#EBF0F8"
             },
             "line": {
              "color": "white"
             }
            },
            "header": {
             "fill": {
              "color": "#C8D4E3"
             },
             "line": {
              "color": "white"
             }
            },
            "type": "table"
           }
          ]
         },
         "layout": {
          "annotationdefaults": {
           "arrowcolor": "#2a3f5f",
           "arrowhead": 0,
           "arrowwidth": 1
          },
          "autotypenumbers": "strict",
          "coloraxis": {
           "colorbar": {
            "outlinewidth": 0,
            "ticks": ""
           }
          },
          "colorscale": {
           "diverging": [
            [
             0,
             "#8e0152"
            ],
            [
             0.1,
             "#c51b7d"
            ],
            [
             0.2,
             "#de77ae"
            ],
            [
             0.3,
             "#f1b6da"
            ],
            [
             0.4,
             "#fde0ef"
            ],
            [
             0.5,
             "#f7f7f7"
            ],
            [
             0.6,
             "#e6f5d0"
            ],
            [
             0.7,
             "#b8e186"
            ],
            [
             0.8,
             "#7fbc41"
            ],
            [
             0.9,
             "#4d9221"
            ],
            [
             1,
             "#276419"
            ]
           ],
           "sequential": [
            [
             0,
             "#0d0887"
            ],
            [
             0.1111111111111111,
             "#46039f"
            ],
            [
             0.2222222222222222,
             "#7201a8"
            ],
            [
             0.3333333333333333,
             "#9c179e"
            ],
            [
             0.4444444444444444,
             "#bd3786"
            ],
            [
             0.5555555555555556,
             "#d8576b"
            ],
            [
             0.6666666666666666,
             "#ed7953"
            ],
            [
             0.7777777777777778,
             "#fb9f3a"
            ],
            [
             0.8888888888888888,
             "#fdca26"
            ],
            [
             1,
             "#f0f921"
            ]
           ],
           "sequentialminus": [
            [
             0,
             "#0d0887"
            ],
            [
             0.1111111111111111,
             "#46039f"
            ],
            [
             0.2222222222222222,
             "#7201a8"
            ],
            [
             0.3333333333333333,
             "#9c179e"
            ],
            [
             0.4444444444444444,
             "#bd3786"
            ],
            [
             0.5555555555555556,
             "#d8576b"
            ],
            [
             0.6666666666666666,
             "#ed7953"
            ],
            [
             0.7777777777777778,
             "#fb9f3a"
            ],
            [
             0.8888888888888888,
             "#fdca26"
            ],
            [
             1,
             "#f0f921"
            ]
           ]
          },
          "colorway": [
           "#636efa",
           "#EF553B",
           "#00cc96",
           "#ab63fa",
           "#FFA15A",
           "#19d3f3",
           "#FF6692",
           "#B6E880",
           "#FF97FF",
           "#FECB52"
          ],
          "font": {
           "color": "#2a3f5f"
          },
          "geo": {
           "bgcolor": "white",
           "lakecolor": "white",
           "landcolor": "#E5ECF6",
           "showlakes": true,
           "showland": true,
           "subunitcolor": "white"
          },
          "hoverlabel": {
           "align": "left"
          },
          "hovermode": "closest",
          "mapbox": {
           "style": "light"
          },
          "paper_bgcolor": "white",
          "plot_bgcolor": "#E5ECF6",
          "polar": {
           "angularaxis": {
            "gridcolor": "white",
            "linecolor": "white",
            "ticks": ""
           },
           "bgcolor": "#E5ECF6",
           "radialaxis": {
            "gridcolor": "white",
            "linecolor": "white",
            "ticks": ""
           }
          },
          "scene": {
           "xaxis": {
            "backgroundcolor": "#E5ECF6",
            "gridcolor": "white",
            "gridwidth": 2,
            "linecolor": "white",
            "showbackground": true,
            "ticks": "",
            "zerolinecolor": "white"
           },
           "yaxis": {
            "backgroundcolor": "#E5ECF6",
            "gridcolor": "white",
            "gridwidth": 2,
            "linecolor": "white",
            "showbackground": true,
            "ticks": "",
            "zerolinecolor": "white"
           },
           "zaxis": {
            "backgroundcolor": "#E5ECF6",
            "gridcolor": "white",
            "gridwidth": 2,
            "linecolor": "white",
            "showbackground": true,
            "ticks": "",
            "zerolinecolor": "white"
           }
          },
          "shapedefaults": {
           "line": {
            "color": "#2a3f5f"
           }
          },
          "ternary": {
           "aaxis": {
            "gridcolor": "white",
            "linecolor": "white",
            "ticks": ""
           },
           "baxis": {
            "gridcolor": "white",
            "linecolor": "white",
            "ticks": ""
           },
           "bgcolor": "#E5ECF6",
           "caxis": {
            "gridcolor": "white",
            "linecolor": "white",
            "ticks": ""
           }
          },
          "title": {
           "x": 0.05
          },
          "xaxis": {
           "automargin": true,
           "gridcolor": "white",
           "linecolor": "white",
           "ticks": "",
           "title": {
            "standoff": 15
           },
           "zerolinecolor": "white",
           "zerolinewidth": 2
          },
          "yaxis": {
           "automargin": true,
           "gridcolor": "white",
           "linecolor": "white",
           "ticks": "",
           "title": {
            "standoff": 15
           },
           "zerolinecolor": "white",
           "zerolinewidth": 2
          }
         }
        },
        "title": {
         "text": "Boxplots der Merkmale nach Risiko-Klasse"
        },
        "xaxis": {
         "anchor": "y",
         "domain": [
          0,
          0.2888888888888889
         ]
        },
        "xaxis2": {
         "anchor": "y2",
         "domain": [
          0.35555555555555557,
          0.6444444444444445
         ]
        },
        "xaxis3": {
         "anchor": "y3",
         "domain": [
          0.7111111111111111,
          1
         ]
        },
        "yaxis": {
         "anchor": "x",
         "domain": [
          0,
          1
         ]
        },
        "yaxis2": {
         "anchor": "x2",
         "domain": [
          0,
          1
         ]
        },
        "yaxis3": {
         "anchor": "x3",
         "domain": [
          0,
          1
         ]
        }
       }
      }
     },
     "metadata": {},
     "output_type": "display_data"
    }
   ],
   "source": [
    "cols = [\"Age\", \"Credit amount\", \"Duration\"]\n",
    "\n",
    "# Subplot-Raster (1 Reihe, 3 Spalten):\n",
    "fig7 = make_subplots(\n",
    "    rows=1, cols=3,\n",
    "    subplot_titles=cols\n",
    ")\n",
    "\n",
    "# Für jede Spalte einen Boxplot hinzufügen:\n",
    "for i, col in enumerate(cols):\n",
    "    fig7.add_trace(\n",
    "        go.Box(\n",
    "            x=df[\"Risk\"],\n",
    "            y=df[col],\n",
    "            boxpoints=\"outliers\",   \n",
    "            marker=dict(color=\"lightblue\"),\n",
    "            line=dict(color=\"black\"),\n",
    "            name=col\n",
    "        ),\n",
    "        row=1, col=i+1\n",
    "    )\n",
    "\n",
    "fig7.update_layout(\n",
    "    title=\"Boxplots der Merkmale nach Risiko-Klasse\",\n",
    "    showlegend=False,\n",
    "    margin=dict(l=40, r=40, t=60, b=40)\n",
    ")\n",
    "\n",
    "fig7"
   ]
  },
  {
   "cell_type": "markdown",
   "id": "88ad6e81",
   "metadata": {},
   "source": [
    "In den drei Boxplots sieht man den Vergleich der Merkmale Alter, Kreditbetrag und Laufzeit zwischen den Risiko-Klassen good (niedriges Risiko) und bad (hohes Risiko).\n",
    "\n",
    "- Beim Alter erkennt man kaum Unterschiede: Sowohl bei „good“ als auch bei „bad“ liegen die meisten Personen zwischen 25 und 40 Jahren. Das Alter allein scheint also kein starker Einflussfaktor auf das Risiko zu sein.\n",
    "- Beim Kreditbetrag zeigt sich, dass Kunden mit hohem Risiko (bad) im Durchschnitt höhere Kredite aufnehmen und auch deutlich mehr Ausreißer nach oben haben (teilweise über 15.000 €). Das spricht dafür, dass sehr hohe Kredite häufiger riskant sind.\n",
    "- Besonders deutlich wird der Unterschied bei der Laufzeit (Duration): Kredite mit hohem Risiko haben im Mittel deutlich längere Laufzeiten. Während „good“-Kredite meist kürzer laufen, sieht man bei „bad“ viele Verträge mit 40 Monaten oder mehr.\n",
    "\n",
    "Alter spielt für das Risiko nur eine geringe Rolle, während hohe Kreditbeträge und vor allem lange Laufzeiten stärker mit einem höheren Risiko verbunden sind. Nun wollen wir diese Unterschiede auch zahlenmäßig festhalten:"
   ]
  },
  {
   "cell_type": "code",
   "execution_count": 27,
   "id": "0c041df0",
   "metadata": {},
   "outputs": [
    {
     "name": "stdout",
     "output_type": "stream",
     "text": [
      "            Age  Credit amount   Duration\n",
      "Risk                                     \n",
      "bad   34.147186    3881.090909  25.445887\n",
      "good  35.477663    2800.594502  18.079038\n"
     ]
    }
   ],
   "source": [
    "print(df.groupby(\"Risk\")[[\"Age\", \"Credit amount\", \"Duration\"]].mean())"
   ]
  },
  {
   "cell_type": "markdown",
   "id": "05fbec3d",
   "metadata": {},
   "source": [
    "Die Berechnung zeigt deutliche Unterschiede zwischen den Risiko-Klassen. Personen mit hohem Risiko (bad) haben im Durchschnitt etwas weniger Alter, dafür aber höhere Kreditbeträge (ca. 3.881 € gegenüber 2.801 €) und vor allem deutlich längere Laufzeiten (25 Monate gegenüber 18 Monaten). Das bestätigt, was wir zuvor in den Boxplots gesehen haben: lange Laufzeiten und hohe Kreditbeträge erhöhen das Risiko eines Kredits, während das Alter nur eine kleine Rolle spielt."
   ]
  },
  {
   "cell_type": "code",
   "execution_count": 28,
   "id": "4f11a155",
   "metadata": {},
   "outputs": [
    {
     "data": {
      "application/vnd.plotly.v1+json": {
       "config": {
        "plotlyServerURL": "https://plot.ly"
       },
       "data": [
        {
         "marker": {
          "line": {
           "color": "black",
           "width": 1
          }
         },
         "name": "bad",
         "type": "bar",
         "x": [
          "female",
          "male"
         ],
         "xaxis": "x",
         "y": {
          "bdata": "UgCVAA==",
          "dtype": "i2"
         },
         "yaxis": "y"
        },
        {
         "marker": {
          "line": {
           "color": "black",
           "width": 1
          }
         },
         "name": "good",
         "type": "bar",
         "x": [
          "female",
          "male"
         ],
         "xaxis": "x",
         "y": {
          "bdata": "VgDNAA==",
          "dtype": "i2"
         },
         "yaxis": "y"
        },
        {
         "marker": {
          "line": {
           "color": "black",
           "width": 1
          }
         },
         "name": "bad",
         "type": "bar",
         "x": [
          "free",
          "own",
          "rent"
         ],
         "xaxis": "x2",
         "y": {
          "bdata": "JACLADgA",
          "dtype": "i2"
         },
         "yaxis": "y2"
        },
        {
         "marker": {
          "line": {
           "color": "black",
           "width": 1
          }
         },
         "name": "good",
         "type": "bar",
         "x": [
          "free",
          "own",
          "rent"
         ],
         "xaxis": "x2",
         "y": {
          "bdata": "HQDSADQA",
          "dtype": "i2"
         },
         "yaxis": "y2"
        },
        {
         "marker": {
          "line": {
           "color": "black",
           "width": 1
          }
         },
         "name": "bad",
         "type": "bar",
         "x": [
          "little",
          "moderate",
          "quite rich",
          "rich"
         ],
         "xaxis": "x3",
         "y": {
          "bdata": "vwAeAAYABAA=",
          "dtype": "i2"
         },
         "yaxis": "y3"
        },
        {
         "marker": {
          "line": {
           "color": "black",
           "width": 1
          }
         },
         "name": "good",
         "type": "bar",
         "x": [
          "little",
          "moderate",
          "quite rich",
          "rich"
         ],
         "xaxis": "x3",
         "y": {
          "bdata": "3QAiABEAEwA=",
          "dtype": "i2"
         },
         "yaxis": "y3"
        },
        {
         "marker": {
          "line": {
           "color": "black",
           "width": 1
          }
         },
         "name": "bad",
         "type": "bar",
         "x": [
          "little",
          "moderate",
          "rich"
         ],
         "xaxis": "x4",
         "y": {
          "bdata": "eWIM",
          "dtype": "i1"
         },
         "yaxis": "y4"
        },
        {
         "marker": {
          "line": {
           "color": "black",
           "width": 1
          }
         },
         "name": "good",
         "type": "bar",
         "x": [
          "little",
          "moderate",
          "rich"
         ],
         "xaxis": "x4",
         "y": {
          "bdata": "fH4p",
          "dtype": "i1"
         },
         "yaxis": "y4"
        },
        {
         "marker": {
          "line": {
           "color": "black",
           "width": 1
          }
         },
         "name": "bad",
         "type": "bar",
         "x": [
          "business",
          "car",
          "domestic appliances",
          "education",
          "furniture/equipment",
          "radio/TV",
          "repairs",
          "vacation/others"
         ],
         "xaxis": "x5",
         "y": {
          "bdata": "GFADEi0zBgQ=",
          "dtype": "i1"
         },
         "yaxis": "y5"
        },
        {
         "marker": {
          "line": {
           "color": "black",
           "width": 1
          }
         },
         "name": "good",
         "type": "bar",
         "x": [
          "business",
          "car",
          "domestic appliances",
          "education",
          "furniture/equipment",
          "radio/TV",
          "repairs",
          "vacation/others"
         ],
         "xaxis": "x5",
         "y": {
          "bdata": "HV0DCj5RCAU=",
          "dtype": "i1"
         },
         "yaxis": "y5"
        },
        {
         "marker": {
          "line": {
           "color": "black",
           "width": 1
          }
         },
         "name": "Risk",
         "type": "bar",
         "x": [
          "good",
          "bad"
         ],
         "xaxis": "x6",
         "y": {
          "bdata": "IwHnAA==",
          "dtype": "i2"
         },
         "yaxis": "y6"
        }
       ],
       "layout": {
        "annotations": [
         {
          "font": {
           "size": 16
          },
          "showarrow": false,
          "text": "Sex",
          "x": 0.13999999999999999,
          "xanchor": "center",
          "xref": "paper",
          "y": 1,
          "yanchor": "bottom",
          "yref": "paper"
         },
         {
          "font": {
           "size": 16
          },
          "showarrow": false,
          "text": "Housing",
          "x": 0.49999999999999994,
          "xanchor": "center",
          "xref": "paper",
          "y": 1,
          "yanchor": "bottom",
          "yref": "paper"
         },
         {
          "font": {
           "size": 16
          },
          "showarrow": false,
          "text": "Saving accounts",
          "x": 0.86,
          "xanchor": "center",
          "xref": "paper",
          "y": 1,
          "yanchor": "bottom",
          "yref": "paper"
         },
         {
          "font": {
           "size": 16
          },
          "showarrow": false,
          "text": "Checking account",
          "x": 0.13999999999999999,
          "xanchor": "center",
          "xref": "paper",
          "y": 0.425,
          "yanchor": "bottom",
          "yref": "paper"
         },
         {
          "font": {
           "size": 16
          },
          "showarrow": false,
          "text": "Purpose",
          "x": 0.49999999999999994,
          "xanchor": "center",
          "xref": "paper",
          "y": 0.425,
          "yanchor": "bottom",
          "yref": "paper"
         },
         {
          "font": {
           "size": 16
          },
          "showarrow": false,
          "text": "Risk",
          "x": 0.86,
          "xanchor": "center",
          "xref": "paper",
          "y": 0.425,
          "yanchor": "bottom",
          "yref": "paper"
         }
        ],
        "barmode": "group",
        "height": 700,
        "template": {
         "data": {
          "bar": [
           {
            "error_x": {
             "color": "#2a3f5f"
            },
            "error_y": {
             "color": "#2a3f5f"
            },
            "marker": {
             "line": {
              "color": "#E5ECF6",
              "width": 0.5
             },
             "pattern": {
              "fillmode": "overlay",
              "size": 10,
              "solidity": 0.2
             }
            },
            "type": "bar"
           }
          ],
          "barpolar": [
           {
            "marker": {
             "line": {
              "color": "#E5ECF6",
              "width": 0.5
             },
             "pattern": {
              "fillmode": "overlay",
              "size": 10,
              "solidity": 0.2
             }
            },
            "type": "barpolar"
           }
          ],
          "carpet": [
           {
            "aaxis": {
             "endlinecolor": "#2a3f5f",
             "gridcolor": "white",
             "linecolor": "white",
             "minorgridcolor": "white",
             "startlinecolor": "#2a3f5f"
            },
            "baxis": {
             "endlinecolor": "#2a3f5f",
             "gridcolor": "white",
             "linecolor": "white",
             "minorgridcolor": "white",
             "startlinecolor": "#2a3f5f"
            },
            "type": "carpet"
           }
          ],
          "choropleth": [
           {
            "colorbar": {
             "outlinewidth": 0,
             "ticks": ""
            },
            "type": "choropleth"
           }
          ],
          "contour": [
           {
            "colorbar": {
             "outlinewidth": 0,
             "ticks": ""
            },
            "colorscale": [
             [
              0,
              "#0d0887"
             ],
             [
              0.1111111111111111,
              "#46039f"
             ],
             [
              0.2222222222222222,
              "#7201a8"
             ],
             [
              0.3333333333333333,
              "#9c179e"
             ],
             [
              0.4444444444444444,
              "#bd3786"
             ],
             [
              0.5555555555555556,
              "#d8576b"
             ],
             [
              0.6666666666666666,
              "#ed7953"
             ],
             [
              0.7777777777777778,
              "#fb9f3a"
             ],
             [
              0.8888888888888888,
              "#fdca26"
             ],
             [
              1,
              "#f0f921"
             ]
            ],
            "type": "contour"
           }
          ],
          "contourcarpet": [
           {
            "colorbar": {
             "outlinewidth": 0,
             "ticks": ""
            },
            "type": "contourcarpet"
           }
          ],
          "heatmap": [
           {
            "colorbar": {
             "outlinewidth": 0,
             "ticks": ""
            },
            "colorscale": [
             [
              0,
              "#0d0887"
             ],
             [
              0.1111111111111111,
              "#46039f"
             ],
             [
              0.2222222222222222,
              "#7201a8"
             ],
             [
              0.3333333333333333,
              "#9c179e"
             ],
             [
              0.4444444444444444,
              "#bd3786"
             ],
             [
              0.5555555555555556,
              "#d8576b"
             ],
             [
              0.6666666666666666,
              "#ed7953"
             ],
             [
              0.7777777777777778,
              "#fb9f3a"
             ],
             [
              0.8888888888888888,
              "#fdca26"
             ],
             [
              1,
              "#f0f921"
             ]
            ],
            "type": "heatmap"
           }
          ],
          "histogram": [
           {
            "marker": {
             "pattern": {
              "fillmode": "overlay",
              "size": 10,
              "solidity": 0.2
             }
            },
            "type": "histogram"
           }
          ],
          "histogram2d": [
           {
            "colorbar": {
             "outlinewidth": 0,
             "ticks": ""
            },
            "colorscale": [
             [
              0,
              "#0d0887"
             ],
             [
              0.1111111111111111,
              "#46039f"
             ],
             [
              0.2222222222222222,
              "#7201a8"
             ],
             [
              0.3333333333333333,
              "#9c179e"
             ],
             [
              0.4444444444444444,
              "#bd3786"
             ],
             [
              0.5555555555555556,
              "#d8576b"
             ],
             [
              0.6666666666666666,
              "#ed7953"
             ],
             [
              0.7777777777777778,
              "#fb9f3a"
             ],
             [
              0.8888888888888888,
              "#fdca26"
             ],
             [
              1,
              "#f0f921"
             ]
            ],
            "type": "histogram2d"
           }
          ],
          "histogram2dcontour": [
           {
            "colorbar": {
             "outlinewidth": 0,
             "ticks": ""
            },
            "colorscale": [
             [
              0,
              "#0d0887"
             ],
             [
              0.1111111111111111,
              "#46039f"
             ],
             [
              0.2222222222222222,
              "#7201a8"
             ],
             [
              0.3333333333333333,
              "#9c179e"
             ],
             [
              0.4444444444444444,
              "#bd3786"
             ],
             [
              0.5555555555555556,
              "#d8576b"
             ],
             [
              0.6666666666666666,
              "#ed7953"
             ],
             [
              0.7777777777777778,
              "#fb9f3a"
             ],
             [
              0.8888888888888888,
              "#fdca26"
             ],
             [
              1,
              "#f0f921"
             ]
            ],
            "type": "histogram2dcontour"
           }
          ],
          "mesh3d": [
           {
            "colorbar": {
             "outlinewidth": 0,
             "ticks": ""
            },
            "type": "mesh3d"
           }
          ],
          "parcoords": [
           {
            "line": {
             "colorbar": {
              "outlinewidth": 0,
              "ticks": ""
             }
            },
            "type": "parcoords"
           }
          ],
          "pie": [
           {
            "automargin": true,
            "type": "pie"
           }
          ],
          "scatter": [
           {
            "fillpattern": {
             "fillmode": "overlay",
             "size": 10,
             "solidity": 0.2
            },
            "type": "scatter"
           }
          ],
          "scatter3d": [
           {
            "line": {
             "colorbar": {
              "outlinewidth": 0,
              "ticks": ""
             }
            },
            "marker": {
             "colorbar": {
              "outlinewidth": 0,
              "ticks": ""
             }
            },
            "type": "scatter3d"
           }
          ],
          "scattercarpet": [
           {
            "marker": {
             "colorbar": {
              "outlinewidth": 0,
              "ticks": ""
             }
            },
            "type": "scattercarpet"
           }
          ],
          "scattergeo": [
           {
            "marker": {
             "colorbar": {
              "outlinewidth": 0,
              "ticks": ""
             }
            },
            "type": "scattergeo"
           }
          ],
          "scattergl": [
           {
            "marker": {
             "colorbar": {
              "outlinewidth": 0,
              "ticks": ""
             }
            },
            "type": "scattergl"
           }
          ],
          "scattermap": [
           {
            "marker": {
             "colorbar": {
              "outlinewidth": 0,
              "ticks": ""
             }
            },
            "type": "scattermap"
           }
          ],
          "scattermapbox": [
           {
            "marker": {
             "colorbar": {
              "outlinewidth": 0,
              "ticks": ""
             }
            },
            "type": "scattermapbox"
           }
          ],
          "scatterpolar": [
           {
            "marker": {
             "colorbar": {
              "outlinewidth": 0,
              "ticks": ""
             }
            },
            "type": "scatterpolar"
           }
          ],
          "scatterpolargl": [
           {
            "marker": {
             "colorbar": {
              "outlinewidth": 0,
              "ticks": ""
             }
            },
            "type": "scatterpolargl"
           }
          ],
          "scatterternary": [
           {
            "marker": {
             "colorbar": {
              "outlinewidth": 0,
              "ticks": ""
             }
            },
            "type": "scatterternary"
           }
          ],
          "surface": [
           {
            "colorbar": {
             "outlinewidth": 0,
             "ticks": ""
            },
            "colorscale": [
             [
              0,
              "#0d0887"
             ],
             [
              0.1111111111111111,
              "#46039f"
             ],
             [
              0.2222222222222222,
              "#7201a8"
             ],
             [
              0.3333333333333333,
              "#9c179e"
             ],
             [
              0.4444444444444444,
              "#bd3786"
             ],
             [
              0.5555555555555556,
              "#d8576b"
             ],
             [
              0.6666666666666666,
              "#ed7953"
             ],
             [
              0.7777777777777778,
              "#fb9f3a"
             ],
             [
              0.8888888888888888,
              "#fdca26"
             ],
             [
              1,
              "#f0f921"
             ]
            ],
            "type": "surface"
           }
          ],
          "table": [
           {
            "cells": {
             "fill": {
              "color": "#EBF0F8"
             },
             "line": {
              "color": "white"
             }
            },
            "header": {
             "fill": {
              "color": "#C8D4E3"
             },
             "line": {
              "color": "white"
             }
            },
            "type": "table"
           }
          ]
         },
         "layout": {
          "annotationdefaults": {
           "arrowcolor": "#2a3f5f",
           "arrowhead": 0,
           "arrowwidth": 1
          },
          "autotypenumbers": "strict",
          "coloraxis": {
           "colorbar": {
            "outlinewidth": 0,
            "ticks": ""
           }
          },
          "colorscale": {
           "diverging": [
            [
             0,
             "#8e0152"
            ],
            [
             0.1,
             "#c51b7d"
            ],
            [
             0.2,
             "#de77ae"
            ],
            [
             0.3,
             "#f1b6da"
            ],
            [
             0.4,
             "#fde0ef"
            ],
            [
             0.5,
             "#f7f7f7"
            ],
            [
             0.6,
             "#e6f5d0"
            ],
            [
             0.7,
             "#b8e186"
            ],
            [
             0.8,
             "#7fbc41"
            ],
            [
             0.9,
             "#4d9221"
            ],
            [
             1,
             "#276419"
            ]
           ],
           "sequential": [
            [
             0,
             "#0d0887"
            ],
            [
             0.1111111111111111,
             "#46039f"
            ],
            [
             0.2222222222222222,
             "#7201a8"
            ],
            [
             0.3333333333333333,
             "#9c179e"
            ],
            [
             0.4444444444444444,
             "#bd3786"
            ],
            [
             0.5555555555555556,
             "#d8576b"
            ],
            [
             0.6666666666666666,
             "#ed7953"
            ],
            [
             0.7777777777777778,
             "#fb9f3a"
            ],
            [
             0.8888888888888888,
             "#fdca26"
            ],
            [
             1,
             "#f0f921"
            ]
           ],
           "sequentialminus": [
            [
             0,
             "#0d0887"
            ],
            [
             0.1111111111111111,
             "#46039f"
            ],
            [
             0.2222222222222222,
             "#7201a8"
            ],
            [
             0.3333333333333333,
             "#9c179e"
            ],
            [
             0.4444444444444444,
             "#bd3786"
            ],
            [
             0.5555555555555556,
             "#d8576b"
            ],
            [
             0.6666666666666666,
             "#ed7953"
            ],
            [
             0.7777777777777778,
             "#fb9f3a"
            ],
            [
             0.8888888888888888,
             "#fdca26"
            ],
            [
             1,
             "#f0f921"
            ]
           ]
          },
          "colorway": [
           "#636efa",
           "#EF553B",
           "#00cc96",
           "#ab63fa",
           "#FFA15A",
           "#19d3f3",
           "#FF6692",
           "#B6E880",
           "#FF97FF",
           "#FECB52"
          ],
          "font": {
           "color": "#2a3f5f"
          },
          "geo": {
           "bgcolor": "white",
           "lakecolor": "white",
           "landcolor": "#E5ECF6",
           "showlakes": true,
           "showland": true,
           "subunitcolor": "white"
          },
          "hoverlabel": {
           "align": "left"
          },
          "hovermode": "closest",
          "mapbox": {
           "style": "light"
          },
          "paper_bgcolor": "white",
          "plot_bgcolor": "#E5ECF6",
          "polar": {
           "angularaxis": {
            "gridcolor": "white",
            "linecolor": "white",
            "ticks": ""
           },
           "bgcolor": "#E5ECF6",
           "radialaxis": {
            "gridcolor": "white",
            "linecolor": "white",
            "ticks": ""
           }
          },
          "scene": {
           "xaxis": {
            "backgroundcolor": "#E5ECF6",
            "gridcolor": "white",
            "gridwidth": 2,
            "linecolor": "white",
            "showbackground": true,
            "ticks": "",
            "zerolinecolor": "white"
           },
           "yaxis": {
            "backgroundcolor": "#E5ECF6",
            "gridcolor": "white",
            "gridwidth": 2,
            "linecolor": "white",
            "showbackground": true,
            "ticks": "",
            "zerolinecolor": "white"
           },
           "zaxis": {
            "backgroundcolor": "#E5ECF6",
            "gridcolor": "white",
            "gridwidth": 2,
            "linecolor": "white",
            "showbackground": true,
            "ticks": "",
            "zerolinecolor": "white"
           }
          },
          "shapedefaults": {
           "line": {
            "color": "#2a3f5f"
           }
          },
          "ternary": {
           "aaxis": {
            "gridcolor": "white",
            "linecolor": "white",
            "ticks": ""
           },
           "baxis": {
            "gridcolor": "white",
            "linecolor": "white",
            "ticks": ""
           },
           "bgcolor": "#E5ECF6",
           "caxis": {
            "gridcolor": "white",
            "linecolor": "white",
            "ticks": ""
           }
          },
          "title": {
           "x": 0.05
          },
          "xaxis": {
           "automargin": true,
           "gridcolor": "white",
           "linecolor": "white",
           "ticks": "",
           "title": {
            "standoff": 15
           },
           "zerolinecolor": "white",
           "zerolinewidth": 2
          },
          "yaxis": {
           "automargin": true,
           "gridcolor": "white",
           "linecolor": "white",
           "ticks": "",
           "title": {
            "standoff": 15
           },
           "zerolinecolor": "white",
           "zerolinewidth": 2
          }
         }
        },
        "title": {
         "text": "Verteilung der kategorialen Merkmale"
        },
        "xaxis": {
         "anchor": "y",
         "domain": [
          0,
          0.27999999999999997
         ],
         "showgrid": false,
         "tickangle": 45
        },
        "xaxis2": {
         "anchor": "y2",
         "domain": [
          0.36,
          0.6399999999999999
         ],
         "showgrid": false,
         "tickangle": 45
        },
        "xaxis3": {
         "anchor": "y3",
         "domain": [
          0.72,
          1
         ],
         "showgrid": false,
         "tickangle": 45
        },
        "xaxis4": {
         "anchor": "y4",
         "domain": [
          0,
          0.27999999999999997
         ],
         "showgrid": false,
         "tickangle": 45
        },
        "xaxis5": {
         "anchor": "y5",
         "domain": [
          0.36,
          0.6399999999999999
         ],
         "showgrid": false,
         "tickangle": 45
        },
        "xaxis6": {
         "anchor": "y6",
         "domain": [
          0.72,
          1
         ],
         "showgrid": false,
         "tickangle": 45
        },
        "yaxis": {
         "anchor": "x",
         "domain": [
          0.575,
          1
         ],
         "showgrid": false
        },
        "yaxis2": {
         "anchor": "x2",
         "domain": [
          0.575,
          1
         ],
         "showgrid": false
        },
        "yaxis3": {
         "anchor": "x3",
         "domain": [
          0.575,
          1
         ],
         "showgrid": false
        },
        "yaxis4": {
         "anchor": "x4",
         "domain": [
          0,
          0.425
         ],
         "showgrid": false
        },
        "yaxis5": {
         "anchor": "x5",
         "domain": [
          0,
          0.425
         ],
         "showgrid": false
        },
        "yaxis6": {
         "anchor": "x6",
         "domain": [
          0,
          0.425
         ],
         "showgrid": false
        }
       }
      }
     },
     "metadata": {},
     "output_type": "display_data"
    }
   ],
   "source": [
    "# Subplot-Raster (3 Spalten pro Reihe):\n",
    "cols_per_row = 3\n",
    "rows = math.ceil(len(categorical_cols) / cols_per_row)\n",
    "\n",
    "fig8 = make_subplots(\n",
    "    rows=rows,\n",
    "    cols=cols_per_row,\n",
    "    subplot_titles=categorical_cols,\n",
    "    horizontal_spacing=0.08,\n",
    "    vertical_spacing=0.15\n",
    ")\n",
    "\n",
    "for i, col in enumerate(categorical_cols):\n",
    "    r = i // cols_per_row + 1\n",
    "    c = i % cols_per_row + 1\n",
    "    \n",
    "    if col != \"Risk\":\n",
    "        # Häufigkeiten nach Risk berechnen:\n",
    "        value_counts = df.groupby([col, \"Risk\"]).size().reset_index(name=\"count\")\n",
    "        \n",
    "        # Balken hinzufügen (good vs. bad):\n",
    "        for risk_class in value_counts[\"Risk\"].unique():\n",
    "            subset = value_counts[value_counts[\"Risk\"] == risk_class]\n",
    "            fig8.add_trace(\n",
    "                go.Bar(\n",
    "                    x=subset[col].astype(str),\n",
    "                    y=subset[\"count\"],\n",
    "                    name=risk_class,\n",
    "                    marker_line_color=\"black\",\n",
    "                    marker_line_width=1\n",
    "                ),\n",
    "                row=r, col=c\n",
    "            )\n",
    "    else:\n",
    "        # Nur einfache Verteilung von Risk selbst:\n",
    "        value_counts = df[col].value_counts().reset_index()\n",
    "        value_counts.columns = [col, \"count\"]\n",
    "        \n",
    "        fig8.add_trace(\n",
    "            go.Bar(\n",
    "                x=value_counts[col].astype(str),\n",
    "                y=value_counts[\"count\"],\n",
    "                name=col,\n",
    "                marker_line_color=\"black\",\n",
    "                marker_line_width=1\n",
    "            ),\n",
    "            row=r, col=c\n",
    "        )\n",
    "\n",
    "fig8.update_xaxes(showgrid=False, tickangle=45)\n",
    "fig8.update_yaxes(showgrid=False)\n",
    "fig8.update_layout(\n",
    "    title=\"Verteilung der kategorialen Merkmale\",\n",
    "    barmode=\"group\",\n",
    "    height=350 * rows\n",
    ")\n",
    "\n",
    "fig8"
   ]
  },
  {
   "cell_type": "markdown",
   "id": "379b9e54",
   "metadata": {},
   "source": [
    "## Modell vorbereitung"
   ]
  },
  {
   "cell_type": "code",
   "execution_count": 29,
   "id": "cc0dc7dd",
   "metadata": {},
   "outputs": [
    {
     "data": {
      "application/vnd.microsoft.datawrangler.viewer.v0+json": {
       "columns": [
        {
         "name": "index",
         "rawType": "int64",
         "type": "integer"
        },
        {
         "name": "Age",
         "rawType": "int64",
         "type": "integer"
        },
        {
         "name": "Sex",
         "rawType": "object",
         "type": "string"
        },
        {
         "name": "Job",
         "rawType": "int64",
         "type": "integer"
        },
        {
         "name": "Housing",
         "rawType": "object",
         "type": "string"
        },
        {
         "name": "Saving accounts",
         "rawType": "object",
         "type": "string"
        },
        {
         "name": "Checking account",
         "rawType": "object",
         "type": "string"
        },
        {
         "name": "Credit amount",
         "rawType": "int64",
         "type": "integer"
        },
        {
         "name": "Duration",
         "rawType": "int64",
         "type": "integer"
        },
        {
         "name": "Risk",
         "rawType": "object",
         "type": "string"
        }
       ],
       "ref": "c7990f87-c455-4759-9649-afa5bc684d20",
       "rows": [
        [
         "0",
         "22",
         "female",
         "2",
         "own",
         "little",
         "moderate",
         "5951",
         "48",
         "bad"
        ],
        [
         "1",
         "45",
         "male",
         "2",
         "free",
         "little",
         "little",
         "7882",
         "42",
         "good"
        ],
        [
         "2",
         "53",
         "male",
         "2",
         "free",
         "little",
         "little",
         "4870",
         "24",
         "bad"
        ],
        [
         "3",
         "35",
         "male",
         "3",
         "rent",
         "little",
         "moderate",
         "6948",
         "36",
         "good"
        ],
        [
         "4",
         "28",
         "male",
         "3",
         "own",
         "little",
         "moderate",
         "5234",
         "30",
         "bad"
        ],
        [
         "5",
         "25",
         "female",
         "2",
         "rent",
         "little",
         "moderate",
         "1295",
         "12",
         "bad"
        ],
        [
         "6",
         "24",
         "female",
         "2",
         "rent",
         "little",
         "little",
         "4308",
         "48",
         "bad"
        ],
        [
         "7",
         "22",
         "female",
         "2",
         "own",
         "little",
         "moderate",
         "1567",
         "12",
         "good"
        ],
        [
         "8",
         "60",
         "male",
         "1",
         "own",
         "little",
         "little",
         "1199",
         "24",
         "bad"
        ],
        [
         "9",
         "28",
         "female",
         "2",
         "rent",
         "little",
         "little",
         "1403",
         "15",
         "good"
        ],
        [
         "10",
         "32",
         "female",
         "1",
         "own",
         "moderate",
         "little",
         "1282",
         "24",
         "bad"
        ],
        [
         "11",
         "44",
         "female",
         "3",
         "free",
         "little",
         "moderate",
         "12579",
         "24",
         "bad"
        ],
        [
         "12",
         "44",
         "male",
         "2",
         "rent",
         "quite rich",
         "little",
         "2647",
         "6",
         "good"
        ],
        [
         "13",
         "48",
         "male",
         "1",
         "rent",
         "little",
         "little",
         "2241",
         "10",
         "good"
        ],
        [
         "14",
         "44",
         "male",
         "2",
         "own",
         "moderate",
         "moderate",
         "1804",
         "12",
         "good"
        ],
        [
         "15",
         "36",
         "male",
         "1",
         "own",
         "little",
         "little",
         "1374",
         "6",
         "good"
        ],
        [
         "16",
         "42",
         "female",
         "2",
         "rent",
         "rich",
         "rich",
         "409",
         "12",
         "good"
        ],
        [
         "17",
         "34",
         "male",
         "2",
         "own",
         "little",
         "moderate",
         "2415",
         "7",
         "good"
        ],
        [
         "18",
         "63",
         "male",
         "2",
         "own",
         "little",
         "little",
         "6836",
         "60",
         "bad"
        ],
        [
         "19",
         "36",
         "male",
         "2",
         "own",
         "rich",
         "moderate",
         "1913",
         "18",
         "good"
        ],
        [
         "20",
         "27",
         "male",
         "2",
         "own",
         "little",
         "little",
         "4020",
         "24",
         "good"
        ],
        [
         "21",
         "30",
         "male",
         "2",
         "own",
         "moderate",
         "moderate",
         "5866",
         "18",
         "good"
        ],
        [
         "22",
         "33",
         "female",
         "3",
         "own",
         "little",
         "rich",
         "1474",
         "12",
         "good"
        ],
        [
         "23",
         "25",
         "male",
         "1",
         "own",
         "little",
         "moderate",
         "4746",
         "45",
         "bad"
        ],
        [
         "24",
         "37",
         "male",
         "2",
         "own",
         "little",
         "rich",
         "2100",
         "18",
         "bad"
        ],
        [
         "25",
         "37",
         "male",
         "2",
         "own",
         "little",
         "rich",
         "1225",
         "10",
         "good"
        ],
        [
         "26",
         "24",
         "male",
         "2",
         "own",
         "little",
         "moderate",
         "458",
         "9",
         "good"
        ],
        [
         "27",
         "26",
         "male",
         "2",
         "own",
         "quite rich",
         "moderate",
         "1158",
         "12",
         "good"
        ],
        [
         "28",
         "44",
         "male",
         "1",
         "own",
         "little",
         "moderate",
         "6204",
         "18",
         "good"
        ],
        [
         "29",
         "24",
         "male",
         "2",
         "rent",
         "moderate",
         "little",
         "6187",
         "30",
         "good"
        ],
        [
         "30",
         "58",
         "female",
         "1",
         "free",
         "little",
         "little",
         "6143",
         "48",
         "bad"
        ],
        [
         "31",
         "23",
         "female",
         "0",
         "rent",
         "quite rich",
         "little",
         "1352",
         "6",
         "good"
        ],
        [
         "32",
         "30",
         "male",
         "3",
         "own",
         "little",
         "moderate",
         "5965",
         "27",
         "good"
        ],
        [
         "33",
         "57",
         "male",
         "2",
         "free",
         "little",
         "moderate",
         "2225",
         "36",
         "bad"
        ],
        [
         "34",
         "23",
         "female",
         "3",
         "own",
         "little",
         "rich",
         "1961",
         "18",
         "good"
        ],
        [
         "35",
         "23",
         "female",
         "1",
         "rent",
         "little",
         "little",
         "6229",
         "36",
         "bad"
        ],
        [
         "36",
         "27",
         "male",
         "2",
         "own",
         "little",
         "moderate",
         "1391",
         "9",
         "good"
        ],
        [
         "37",
         "61",
         "male",
         "3",
         "free",
         "little",
         "moderate",
         "1953",
         "36",
         "bad"
        ],
        [
         "38",
         "25",
         "male",
         "2",
         "own",
         "little",
         "moderate",
         "14421",
         "48",
         "bad"
        ],
        [
         "39",
         "22",
         "male",
         "2",
         "own",
         "rich",
         "moderate",
         "1007",
         "12",
         "good"
        ],
        [
         "40",
         "51",
         "male",
         "3",
         "free",
         "little",
         "little",
         "1164",
         "8",
         "good"
        ],
        [
         "41",
         "41",
         "female",
         "1",
         "own",
         "little",
         "moderate",
         "5954",
         "42",
         "good"
        ],
        [
         "42",
         "66",
         "male",
         "3",
         "free",
         "little",
         "little",
         "1526",
         "12",
         "good"
        ],
        [
         "43",
         "34",
         "male",
         "2",
         "own",
         "little",
         "little",
         "3965",
         "42",
         "bad"
        ],
        [
         "44",
         "51",
         "male",
         "2",
         "own",
         "little",
         "moderate",
         "4771",
         "11",
         "good"
        ],
        [
         "45",
         "22",
         "male",
         "2",
         "own",
         "little",
         "moderate",
         "3832",
         "30",
         "good"
        ],
        [
         "46",
         "58",
         "female",
         "1",
         "own",
         "little",
         "little",
         "1755",
         "24",
         "good"
        ],
        [
         "47",
         "52",
         "male",
         "1",
         "own",
         "little",
         "little",
         "2315",
         "10",
         "good"
        ],
        [
         "48",
         "27",
         "female",
         "2",
         "own",
         "little",
         "moderate",
         "1295",
         "18",
         "good"
        ],
        [
         "49",
         "47",
         "male",
         "2",
         "free",
         "moderate",
         "moderate",
         "12612",
         "36",
         "bad"
        ]
       ],
       "shape": {
        "columns": 9,
        "rows": 522
       }
      },
      "text/html": [
       "<div>\n",
       "<style scoped>\n",
       "    .dataframe tbody tr th:only-of-type {\n",
       "        vertical-align: middle;\n",
       "    }\n",
       "\n",
       "    .dataframe tbody tr th {\n",
       "        vertical-align: top;\n",
       "    }\n",
       "\n",
       "    .dataframe thead th {\n",
       "        text-align: right;\n",
       "    }\n",
       "</style>\n",
       "<table border=\"1\" class=\"dataframe\">\n",
       "  <thead>\n",
       "    <tr style=\"text-align: right;\">\n",
       "      <th></th>\n",
       "      <th>Age</th>\n",
       "      <th>Sex</th>\n",
       "      <th>Job</th>\n",
       "      <th>Housing</th>\n",
       "      <th>Saving accounts</th>\n",
       "      <th>Checking account</th>\n",
       "      <th>Credit amount</th>\n",
       "      <th>Duration</th>\n",
       "      <th>Risk</th>\n",
       "    </tr>\n",
       "  </thead>\n",
       "  <tbody>\n",
       "    <tr>\n",
       "      <th>0</th>\n",
       "      <td>22</td>\n",
       "      <td>female</td>\n",
       "      <td>2</td>\n",
       "      <td>own</td>\n",
       "      <td>little</td>\n",
       "      <td>moderate</td>\n",
       "      <td>5951</td>\n",
       "      <td>48</td>\n",
       "      <td>bad</td>\n",
       "    </tr>\n",
       "    <tr>\n",
       "      <th>1</th>\n",
       "      <td>45</td>\n",
       "      <td>male</td>\n",
       "      <td>2</td>\n",
       "      <td>free</td>\n",
       "      <td>little</td>\n",
       "      <td>little</td>\n",
       "      <td>7882</td>\n",
       "      <td>42</td>\n",
       "      <td>good</td>\n",
       "    </tr>\n",
       "    <tr>\n",
       "      <th>2</th>\n",
       "      <td>53</td>\n",
       "      <td>male</td>\n",
       "      <td>2</td>\n",
       "      <td>free</td>\n",
       "      <td>little</td>\n",
       "      <td>little</td>\n",
       "      <td>4870</td>\n",
       "      <td>24</td>\n",
       "      <td>bad</td>\n",
       "    </tr>\n",
       "    <tr>\n",
       "      <th>3</th>\n",
       "      <td>35</td>\n",
       "      <td>male</td>\n",
       "      <td>3</td>\n",
       "      <td>rent</td>\n",
       "      <td>little</td>\n",
       "      <td>moderate</td>\n",
       "      <td>6948</td>\n",
       "      <td>36</td>\n",
       "      <td>good</td>\n",
       "    </tr>\n",
       "    <tr>\n",
       "      <th>4</th>\n",
       "      <td>28</td>\n",
       "      <td>male</td>\n",
       "      <td>3</td>\n",
       "      <td>own</td>\n",
       "      <td>little</td>\n",
       "      <td>moderate</td>\n",
       "      <td>5234</td>\n",
       "      <td>30</td>\n",
       "      <td>bad</td>\n",
       "    </tr>\n",
       "    <tr>\n",
       "      <th>...</th>\n",
       "      <td>...</td>\n",
       "      <td>...</td>\n",
       "      <td>...</td>\n",
       "      <td>...</td>\n",
       "      <td>...</td>\n",
       "      <td>...</td>\n",
       "      <td>...</td>\n",
       "      <td>...</td>\n",
       "      <td>...</td>\n",
       "    </tr>\n",
       "    <tr>\n",
       "      <th>517</th>\n",
       "      <td>48</td>\n",
       "      <td>male</td>\n",
       "      <td>1</td>\n",
       "      <td>own</td>\n",
       "      <td>little</td>\n",
       "      <td>moderate</td>\n",
       "      <td>1743</td>\n",
       "      <td>24</td>\n",
       "      <td>good</td>\n",
       "    </tr>\n",
       "    <tr>\n",
       "      <th>518</th>\n",
       "      <td>30</td>\n",
       "      <td>male</td>\n",
       "      <td>3</td>\n",
       "      <td>own</td>\n",
       "      <td>little</td>\n",
       "      <td>little</td>\n",
       "      <td>3959</td>\n",
       "      <td>36</td>\n",
       "      <td>good</td>\n",
       "    </tr>\n",
       "    <tr>\n",
       "      <th>519</th>\n",
       "      <td>40</td>\n",
       "      <td>male</td>\n",
       "      <td>3</td>\n",
       "      <td>own</td>\n",
       "      <td>little</td>\n",
       "      <td>little</td>\n",
       "      <td>3857</td>\n",
       "      <td>30</td>\n",
       "      <td>good</td>\n",
       "    </tr>\n",
       "    <tr>\n",
       "      <th>520</th>\n",
       "      <td>23</td>\n",
       "      <td>male</td>\n",
       "      <td>2</td>\n",
       "      <td>free</td>\n",
       "      <td>little</td>\n",
       "      <td>little</td>\n",
       "      <td>1845</td>\n",
       "      <td>45</td>\n",
       "      <td>bad</td>\n",
       "    </tr>\n",
       "    <tr>\n",
       "      <th>521</th>\n",
       "      <td>27</td>\n",
       "      <td>male</td>\n",
       "      <td>2</td>\n",
       "      <td>own</td>\n",
       "      <td>moderate</td>\n",
       "      <td>moderate</td>\n",
       "      <td>4576</td>\n",
       "      <td>45</td>\n",
       "      <td>good</td>\n",
       "    </tr>\n",
       "  </tbody>\n",
       "</table>\n",
       "<p>522 rows × 9 columns</p>\n",
       "</div>"
      ],
      "text/plain": [
       "     Age     Sex  Job Housing Saving accounts Checking account  Credit amount  \\\n",
       "0     22  female    2     own          little         moderate           5951   \n",
       "1     45    male    2    free          little           little           7882   \n",
       "2     53    male    2    free          little           little           4870   \n",
       "3     35    male    3    rent          little         moderate           6948   \n",
       "4     28    male    3     own          little         moderate           5234   \n",
       "..   ...     ...  ...     ...             ...              ...            ...   \n",
       "517   48    male    1     own          little         moderate           1743   \n",
       "518   30    male    3     own          little           little           3959   \n",
       "519   40    male    3     own          little           little           3857   \n",
       "520   23    male    2    free          little           little           1845   \n",
       "521   27    male    2     own        moderate         moderate           4576   \n",
       "\n",
       "     Duration  Risk  \n",
       "0          48   bad  \n",
       "1          42  good  \n",
       "2          24   bad  \n",
       "3          36  good  \n",
       "4          30   bad  \n",
       "..        ...   ...  \n",
       "517        24  good  \n",
       "518        36  good  \n",
       "519        30  good  \n",
       "520        45   bad  \n",
       "521        45  good  \n",
       "\n",
       "[522 rows x 9 columns]"
      ]
     },
     "execution_count": 29,
     "metadata": {},
     "output_type": "execute_result"
    }
   ],
   "source": [
    "features= [\"Age\", \"Sex\", \"Job\", \"Housing\", \"Saving accounts\", \"Checking account\", \"Credit amount\", \"Duration\"]\n",
    "target = \"Risk\"\n",
    "df_model = df[features + [target]].copy()\n",
    "df_model\n"
   ]
  },
  {
   "cell_type": "code",
   "execution_count": 30,
   "id": "2a351445",
   "metadata": {},
   "outputs": [
    {
     "data": {
      "application/vnd.microsoft.datawrangler.viewer.v0+json": {
       "columns": [
        {
         "name": "index",
         "rawType": "int64",
         "type": "integer"
        },
        {
         "name": "Age",
         "rawType": "int64",
         "type": "integer"
        },
        {
         "name": "Sex",
         "rawType": "int64",
         "type": "integer"
        },
        {
         "name": "Job",
         "rawType": "int64",
         "type": "integer"
        },
        {
         "name": "Housing",
         "rawType": "int64",
         "type": "integer"
        },
        {
         "name": "Saving accounts",
         "rawType": "int64",
         "type": "integer"
        },
        {
         "name": "Checking account",
         "rawType": "int64",
         "type": "integer"
        },
        {
         "name": "Credit amount",
         "rawType": "int64",
         "type": "integer"
        },
        {
         "name": "Duration",
         "rawType": "int64",
         "type": "integer"
        },
        {
         "name": "Risk",
         "rawType": "object",
         "type": "string"
        }
       ],
       "ref": "ce56c5b0-e741-4061-99ad-e0ce3930c014",
       "rows": [
        [
         "0",
         "22",
         "0",
         "2",
         "1",
         "0",
         "1",
         "5951",
         "48",
         "bad"
        ],
        [
         "1",
         "45",
         "1",
         "2",
         "0",
         "0",
         "0",
         "7882",
         "42",
         "good"
        ],
        [
         "2",
         "53",
         "1",
         "2",
         "0",
         "0",
         "0",
         "4870",
         "24",
         "bad"
        ],
        [
         "3",
         "35",
         "1",
         "3",
         "2",
         "0",
         "1",
         "6948",
         "36",
         "good"
        ],
        [
         "4",
         "28",
         "1",
         "3",
         "1",
         "0",
         "1",
         "5234",
         "30",
         "bad"
        ],
        [
         "5",
         "25",
         "0",
         "2",
         "2",
         "0",
         "1",
         "1295",
         "12",
         "bad"
        ],
        [
         "6",
         "24",
         "0",
         "2",
         "2",
         "0",
         "0",
         "4308",
         "48",
         "bad"
        ],
        [
         "7",
         "22",
         "0",
         "2",
         "1",
         "0",
         "1",
         "1567",
         "12",
         "good"
        ],
        [
         "8",
         "60",
         "1",
         "1",
         "1",
         "0",
         "0",
         "1199",
         "24",
         "bad"
        ],
        [
         "9",
         "28",
         "0",
         "2",
         "2",
         "0",
         "0",
         "1403",
         "15",
         "good"
        ],
        [
         "10",
         "32",
         "0",
         "1",
         "1",
         "1",
         "0",
         "1282",
         "24",
         "bad"
        ],
        [
         "11",
         "44",
         "0",
         "3",
         "0",
         "0",
         "1",
         "12579",
         "24",
         "bad"
        ],
        [
         "12",
         "44",
         "1",
         "2",
         "2",
         "2",
         "0",
         "2647",
         "6",
         "good"
        ],
        [
         "13",
         "48",
         "1",
         "1",
         "2",
         "0",
         "0",
         "2241",
         "10",
         "good"
        ],
        [
         "14",
         "44",
         "1",
         "2",
         "1",
         "1",
         "1",
         "1804",
         "12",
         "good"
        ],
        [
         "15",
         "36",
         "1",
         "1",
         "1",
         "0",
         "0",
         "1374",
         "6",
         "good"
        ],
        [
         "16",
         "42",
         "0",
         "2",
         "2",
         "3",
         "2",
         "409",
         "12",
         "good"
        ],
        [
         "17",
         "34",
         "1",
         "2",
         "1",
         "0",
         "1",
         "2415",
         "7",
         "good"
        ],
        [
         "18",
         "63",
         "1",
         "2",
         "1",
         "0",
         "0",
         "6836",
         "60",
         "bad"
        ],
        [
         "19",
         "36",
         "1",
         "2",
         "1",
         "3",
         "1",
         "1913",
         "18",
         "good"
        ],
        [
         "20",
         "27",
         "1",
         "2",
         "1",
         "0",
         "0",
         "4020",
         "24",
         "good"
        ],
        [
         "21",
         "30",
         "1",
         "2",
         "1",
         "1",
         "1",
         "5866",
         "18",
         "good"
        ],
        [
         "22",
         "33",
         "0",
         "3",
         "1",
         "0",
         "2",
         "1474",
         "12",
         "good"
        ],
        [
         "23",
         "25",
         "1",
         "1",
         "1",
         "0",
         "1",
         "4746",
         "45",
         "bad"
        ],
        [
         "24",
         "37",
         "1",
         "2",
         "1",
         "0",
         "2",
         "2100",
         "18",
         "bad"
        ],
        [
         "25",
         "37",
         "1",
         "2",
         "1",
         "0",
         "2",
         "1225",
         "10",
         "good"
        ],
        [
         "26",
         "24",
         "1",
         "2",
         "1",
         "0",
         "1",
         "458",
         "9",
         "good"
        ],
        [
         "27",
         "26",
         "1",
         "2",
         "1",
         "2",
         "1",
         "1158",
         "12",
         "good"
        ],
        [
         "28",
         "44",
         "1",
         "1",
         "1",
         "0",
         "1",
         "6204",
         "18",
         "good"
        ],
        [
         "29",
         "24",
         "1",
         "2",
         "2",
         "1",
         "0",
         "6187",
         "30",
         "good"
        ],
        [
         "30",
         "58",
         "0",
         "1",
         "0",
         "0",
         "0",
         "6143",
         "48",
         "bad"
        ],
        [
         "31",
         "23",
         "0",
         "0",
         "2",
         "2",
         "0",
         "1352",
         "6",
         "good"
        ],
        [
         "32",
         "30",
         "1",
         "3",
         "1",
         "0",
         "1",
         "5965",
         "27",
         "good"
        ],
        [
         "33",
         "57",
         "1",
         "2",
         "0",
         "0",
         "1",
         "2225",
         "36",
         "bad"
        ],
        [
         "34",
         "23",
         "0",
         "3",
         "1",
         "0",
         "2",
         "1961",
         "18",
         "good"
        ],
        [
         "35",
         "23",
         "0",
         "1",
         "2",
         "0",
         "0",
         "6229",
         "36",
         "bad"
        ],
        [
         "36",
         "27",
         "1",
         "2",
         "1",
         "0",
         "1",
         "1391",
         "9",
         "good"
        ],
        [
         "37",
         "61",
         "1",
         "3",
         "0",
         "0",
         "1",
         "1953",
         "36",
         "bad"
        ],
        [
         "38",
         "25",
         "1",
         "2",
         "1",
         "0",
         "1",
         "14421",
         "48",
         "bad"
        ],
        [
         "39",
         "22",
         "1",
         "2",
         "1",
         "3",
         "1",
         "1007",
         "12",
         "good"
        ],
        [
         "40",
         "51",
         "1",
         "3",
         "0",
         "0",
         "0",
         "1164",
         "8",
         "good"
        ],
        [
         "41",
         "41",
         "0",
         "1",
         "1",
         "0",
         "1",
         "5954",
         "42",
         "good"
        ],
        [
         "42",
         "66",
         "1",
         "3",
         "0",
         "0",
         "0",
         "1526",
         "12",
         "good"
        ],
        [
         "43",
         "34",
         "1",
         "2",
         "1",
         "0",
         "0",
         "3965",
         "42",
         "bad"
        ],
        [
         "44",
         "51",
         "1",
         "2",
         "1",
         "0",
         "1",
         "4771",
         "11",
         "good"
        ],
        [
         "45",
         "22",
         "1",
         "2",
         "1",
         "0",
         "1",
         "3832",
         "30",
         "good"
        ],
        [
         "46",
         "58",
         "0",
         "1",
         "1",
         "0",
         "0",
         "1755",
         "24",
         "good"
        ],
        [
         "47",
         "52",
         "1",
         "1",
         "1",
         "0",
         "0",
         "2315",
         "10",
         "good"
        ],
        [
         "48",
         "27",
         "0",
         "2",
         "1",
         "0",
         "1",
         "1295",
         "18",
         "good"
        ],
        [
         "49",
         "47",
         "1",
         "2",
         "0",
         "1",
         "1",
         "12612",
         "36",
         "bad"
        ]
       ],
       "shape": {
        "columns": 9,
        "rows": 522
       }
      },
      "text/html": [
       "<div>\n",
       "<style scoped>\n",
       "    .dataframe tbody tr th:only-of-type {\n",
       "        vertical-align: middle;\n",
       "    }\n",
       "\n",
       "    .dataframe tbody tr th {\n",
       "        vertical-align: top;\n",
       "    }\n",
       "\n",
       "    .dataframe thead th {\n",
       "        text-align: right;\n",
       "    }\n",
       "</style>\n",
       "<table border=\"1\" class=\"dataframe\">\n",
       "  <thead>\n",
       "    <tr style=\"text-align: right;\">\n",
       "      <th></th>\n",
       "      <th>Age</th>\n",
       "      <th>Sex</th>\n",
       "      <th>Job</th>\n",
       "      <th>Housing</th>\n",
       "      <th>Saving accounts</th>\n",
       "      <th>Checking account</th>\n",
       "      <th>Credit amount</th>\n",
       "      <th>Duration</th>\n",
       "      <th>Risk</th>\n",
       "    </tr>\n",
       "  </thead>\n",
       "  <tbody>\n",
       "    <tr>\n",
       "      <th>0</th>\n",
       "      <td>22</td>\n",
       "      <td>0</td>\n",
       "      <td>2</td>\n",
       "      <td>1</td>\n",
       "      <td>0</td>\n",
       "      <td>1</td>\n",
       "      <td>5951</td>\n",
       "      <td>48</td>\n",
       "      <td>bad</td>\n",
       "    </tr>\n",
       "    <tr>\n",
       "      <th>1</th>\n",
       "      <td>45</td>\n",
       "      <td>1</td>\n",
       "      <td>2</td>\n",
       "      <td>0</td>\n",
       "      <td>0</td>\n",
       "      <td>0</td>\n",
       "      <td>7882</td>\n",
       "      <td>42</td>\n",
       "      <td>good</td>\n",
       "    </tr>\n",
       "    <tr>\n",
       "      <th>2</th>\n",
       "      <td>53</td>\n",
       "      <td>1</td>\n",
       "      <td>2</td>\n",
       "      <td>0</td>\n",
       "      <td>0</td>\n",
       "      <td>0</td>\n",
       "      <td>4870</td>\n",
       "      <td>24</td>\n",
       "      <td>bad</td>\n",
       "    </tr>\n",
       "    <tr>\n",
       "      <th>3</th>\n",
       "      <td>35</td>\n",
       "      <td>1</td>\n",
       "      <td>3</td>\n",
       "      <td>2</td>\n",
       "      <td>0</td>\n",
       "      <td>1</td>\n",
       "      <td>6948</td>\n",
       "      <td>36</td>\n",
       "      <td>good</td>\n",
       "    </tr>\n",
       "    <tr>\n",
       "      <th>4</th>\n",
       "      <td>28</td>\n",
       "      <td>1</td>\n",
       "      <td>3</td>\n",
       "      <td>1</td>\n",
       "      <td>0</td>\n",
       "      <td>1</td>\n",
       "      <td>5234</td>\n",
       "      <td>30</td>\n",
       "      <td>bad</td>\n",
       "    </tr>\n",
       "    <tr>\n",
       "      <th>...</th>\n",
       "      <td>...</td>\n",
       "      <td>...</td>\n",
       "      <td>...</td>\n",
       "      <td>...</td>\n",
       "      <td>...</td>\n",
       "      <td>...</td>\n",
       "      <td>...</td>\n",
       "      <td>...</td>\n",
       "      <td>...</td>\n",
       "    </tr>\n",
       "    <tr>\n",
       "      <th>517</th>\n",
       "      <td>48</td>\n",
       "      <td>1</td>\n",
       "      <td>1</td>\n",
       "      <td>1</td>\n",
       "      <td>0</td>\n",
       "      <td>1</td>\n",
       "      <td>1743</td>\n",
       "      <td>24</td>\n",
       "      <td>good</td>\n",
       "    </tr>\n",
       "    <tr>\n",
       "      <th>518</th>\n",
       "      <td>30</td>\n",
       "      <td>1</td>\n",
       "      <td>3</td>\n",
       "      <td>1</td>\n",
       "      <td>0</td>\n",
       "      <td>0</td>\n",
       "      <td>3959</td>\n",
       "      <td>36</td>\n",
       "      <td>good</td>\n",
       "    </tr>\n",
       "    <tr>\n",
       "      <th>519</th>\n",
       "      <td>40</td>\n",
       "      <td>1</td>\n",
       "      <td>3</td>\n",
       "      <td>1</td>\n",
       "      <td>0</td>\n",
       "      <td>0</td>\n",
       "      <td>3857</td>\n",
       "      <td>30</td>\n",
       "      <td>good</td>\n",
       "    </tr>\n",
       "    <tr>\n",
       "      <th>520</th>\n",
       "      <td>23</td>\n",
       "      <td>1</td>\n",
       "      <td>2</td>\n",
       "      <td>0</td>\n",
       "      <td>0</td>\n",
       "      <td>0</td>\n",
       "      <td>1845</td>\n",
       "      <td>45</td>\n",
       "      <td>bad</td>\n",
       "    </tr>\n",
       "    <tr>\n",
       "      <th>521</th>\n",
       "      <td>27</td>\n",
       "      <td>1</td>\n",
       "      <td>2</td>\n",
       "      <td>1</td>\n",
       "      <td>1</td>\n",
       "      <td>1</td>\n",
       "      <td>4576</td>\n",
       "      <td>45</td>\n",
       "      <td>good</td>\n",
       "    </tr>\n",
       "  </tbody>\n",
       "</table>\n",
       "<p>522 rows × 9 columns</p>\n",
       "</div>"
      ],
      "text/plain": [
       "     Age  Sex  Job  Housing  Saving accounts  Checking account  Credit amount  \\\n",
       "0     22    0    2        1                0                 1           5951   \n",
       "1     45    1    2        0                0                 0           7882   \n",
       "2     53    1    2        0                0                 0           4870   \n",
       "3     35    1    3        2                0                 1           6948   \n",
       "4     28    1    3        1                0                 1           5234   \n",
       "..   ...  ...  ...      ...              ...               ...            ...   \n",
       "517   48    1    1        1                0                 1           1743   \n",
       "518   30    1    3        1                0                 0           3959   \n",
       "519   40    1    3        1                0                 0           3857   \n",
       "520   23    1    2        0                0                 0           1845   \n",
       "521   27    1    2        1                1                 1           4576   \n",
       "\n",
       "     Duration  Risk  \n",
       "0          48   bad  \n",
       "1          42  good  \n",
       "2          24   bad  \n",
       "3          36  good  \n",
       "4          30   bad  \n",
       "..        ...   ...  \n",
       "517        24  good  \n",
       "518        36  good  \n",
       "519        30  good  \n",
       "520        45   bad  \n",
       "521        45  good  \n",
       "\n",
       "[522 rows x 9 columns]"
      ]
     },
     "execution_count": 30,
     "metadata": {},
     "output_type": "execute_result"
    }
   ],
   "source": [
    "cat_cols = df_model.select_dtypes(include=[\"object\"]).columns.drop(\"Risk\")\n",
    "le_dict = {}\n",
    "for col in cat_cols:\n",
    "    le = LabelEncoder()\n",
    "    df_model[col] = le.fit_transform(df_model[col])\n",
    "    le_dict[col] = le\n",
    "    joblib.dump(le, f\"{col}_encoder.pkl\")\n",
    "\n",
    "df_model"
   ]
  },
  {
   "cell_type": "code",
   "execution_count": 31,
   "id": "1ff33f6b",
   "metadata": {},
   "outputs": [
    {
     "data": {
      "application/vnd.microsoft.datawrangler.viewer.v0+json": {
       "columns": [
        {
         "name": "index",
         "rawType": "int64",
         "type": "integer"
        },
        {
         "name": "Risk",
         "rawType": "int64",
         "type": "integer"
        }
       ],
       "ref": "1e3e7938-f386-4326-a253-84b64977fa13",
       "rows": [
        [
         "0",
         "0"
        ],
        [
         "1",
         "1"
        ],
        [
         "2",
         "0"
        ],
        [
         "3",
         "1"
        ],
        [
         "4",
         "0"
        ],
        [
         "5",
         "0"
        ],
        [
         "6",
         "0"
        ],
        [
         "7",
         "1"
        ],
        [
         "8",
         "0"
        ],
        [
         "9",
         "1"
        ],
        [
         "10",
         "0"
        ],
        [
         "11",
         "0"
        ],
        [
         "12",
         "1"
        ],
        [
         "13",
         "1"
        ],
        [
         "14",
         "1"
        ],
        [
         "15",
         "1"
        ],
        [
         "16",
         "1"
        ],
        [
         "17",
         "1"
        ],
        [
         "18",
         "0"
        ],
        [
         "19",
         "1"
        ],
        [
         "20",
         "1"
        ],
        [
         "21",
         "1"
        ],
        [
         "22",
         "1"
        ],
        [
         "23",
         "0"
        ],
        [
         "24",
         "0"
        ],
        [
         "25",
         "1"
        ],
        [
         "26",
         "1"
        ],
        [
         "27",
         "1"
        ],
        [
         "28",
         "1"
        ],
        [
         "29",
         "1"
        ],
        [
         "30",
         "0"
        ],
        [
         "31",
         "1"
        ],
        [
         "32",
         "1"
        ],
        [
         "33",
         "0"
        ],
        [
         "34",
         "1"
        ],
        [
         "35",
         "0"
        ],
        [
         "36",
         "1"
        ],
        [
         "37",
         "0"
        ],
        [
         "38",
         "0"
        ],
        [
         "39",
         "1"
        ],
        [
         "40",
         "1"
        ],
        [
         "41",
         "1"
        ],
        [
         "42",
         "1"
        ],
        [
         "43",
         "0"
        ],
        [
         "44",
         "1"
        ],
        [
         "45",
         "1"
        ],
        [
         "46",
         "1"
        ],
        [
         "47",
         "1"
        ],
        [
         "48",
         "1"
        ],
        [
         "49",
         "0"
        ]
       ],
       "shape": {
        "columns": 1,
        "rows": 522
       }
      },
      "text/plain": [
       "0      0\n",
       "1      1\n",
       "2      0\n",
       "3      1\n",
       "4      0\n",
       "      ..\n",
       "517    1\n",
       "518    1\n",
       "519    1\n",
       "520    0\n",
       "521    1\n",
       "Name: Risk, Length: 522, dtype: int64"
      ]
     },
     "execution_count": 31,
     "metadata": {},
     "output_type": "execute_result"
    }
   ],
   "source": [
    "le_target = LabelEncoder()\n",
    "df_model[target] = le_target.fit_transform(df_model[target])\n",
    "\n",
    "df_model[target]"
   ]
  },
  {
   "cell_type": "code",
   "execution_count": 32,
   "id": "1cec01ea",
   "metadata": {},
   "outputs": [
    {
     "name": "stdout",
     "output_type": "stream",
     "text": [
      "Risk\n",
      "1    291\n",
      "0    231\n",
      "Name: count, dtype: int64\n"
     ]
    }
   ],
   "source": [
    "print(df_model[target].value_counts())"
   ]
  },
  {
   "cell_type": "code",
   "execution_count": 33,
   "id": "a46d2cd3",
   "metadata": {},
   "outputs": [
    {
     "data": {
      "text/plain": [
       "['target_encoder.pkl']"
      ]
     },
     "execution_count": 33,
     "metadata": {},
     "output_type": "execute_result"
    }
   ],
   "source": [
    "joblib.dump(le_target, \"target_encoder.pkl\")"
   ]
  },
  {
   "cell_type": "code",
   "execution_count": 34,
   "id": "13781c48",
   "metadata": {},
   "outputs": [
    {
     "name": "stdout",
     "output_type": "stream",
     "text": [
      "Geometrie von 'X': (522, 8)\n",
      "Geometrie von 'y': (522,)\n"
     ]
    }
   ],
   "source": [
    "X = df_model.drop(target, axis=1)\n",
    "y = df_model[target]\n",
    "\n",
    "X_train, X_test, y_train, y_test = train_test_split(X, y, test_size=0.2, stratify=y, random_state=42)\n",
    "print(f\"Geometrie von 'X': {X.shape}\")\n",
    "print(f\"Geometrie von 'y': {y.shape}\")"
   ]
  },
  {
   "cell_type": "code",
   "execution_count": 35,
   "id": "4b33aa5d",
   "metadata": {},
   "outputs": [],
   "source": [
    "# Hielfsfunktion\n",
    "def train_model(model, param_grid, X_train, y_train, X_test, y_test):\n",
    "    grid = GridSearchCV(model, param_grid, cv=5, scoring=\"accuracy\", n_jobs=-1)\n",
    "    grid.fit(X_train, y_train)\n",
    "    best_model = grid.best_estimator_\n",
    "    y_pred = best_model.predict(X_test)\n",
    "    acc = accuracy_score(y_test, y_pred)\n",
    "    return best_model, acc, grid.best_params_"
   ]
  },
  {
   "cell_type": "code",
   "execution_count": 36,
   "id": "adab9c1d",
   "metadata": {},
   "outputs": [],
   "source": [
    "dt = DecisionTreeClassifier(random_state=42, class_weight=\"balanced\")\n",
    "dt_param_grid = {\n",
    "    \"max_depth\": [3, 5, 7, 10, None],\n",
    "    \"min_samples_split\": [2, 5, 10],\n",
    "    \"min_samples_leaf\": [1, 2, 4]\n",
    "}"
   ]
  },
  {
   "cell_type": "code",
   "execution_count": 37,
   "id": "499bbb67",
   "metadata": {},
   "outputs": [],
   "source": [
    "best_dt, acc_dt, params_dt = train_model(dt, dt_param_grid, X_train, y_train, X_test, y_test)"
   ]
  },
  {
   "cell_type": "code",
   "execution_count": 38,
   "id": "b2dd2241",
   "metadata": {},
   "outputs": [
    {
     "name": "stdout",
     "output_type": "stream",
     "text": [
      "Decision Tree Accuaracy: 0.6\n",
      "Best parameters:\n",
      "{'max_depth': 7, 'min_samples_leaf': 2, 'min_samples_split': 10}\n"
     ]
    }
   ],
   "source": [
    "print(f\"Decision Tree Accuaracy: {acc_dt}\")\n",
    "print(f\"Best parameters:\\n{params_dt}\")"
   ]
  },
  {
   "cell_type": "markdown",
   "id": "87cc432b",
   "metadata": {},
   "source": [
    "Das Modell liegt in etwa bei 60% richtiger Vorhersagen. Das ist ein Anfang, aber noch nicht besonders hoch."
   ]
  },
  {
   "cell_type": "code",
   "execution_count": 39,
   "id": "d45a3010",
   "metadata": {},
   "outputs": [
    {
     "name": "stdout",
     "output_type": "stream",
     "text": [
      "Random Forest Accuaracy: 0.6285714285714286\n",
      "Best parameters:\n",
      "{'max_depth': 5, 'min_samples_leaf': 2, 'min_samples_split': 2, 'n_estimators': 200}\n"
     ]
    }
   ],
   "source": [
    "rf = RandomForestClassifier(random_state=42, class_weight=\"balanced\", n_jobs=-1)\n",
    "rf_param_grid = {\n",
    "    \"n_estimators\": [100, 200],\n",
    "    \"max_depth\": [5, 7, 10, None],\n",
    "    \"min_samples_split\": [2, 5, 10],\n",
    "    \"min_samples_leaf\": [1, 2, 4]\n",
    "}\n",
    "best_rf, acc_rf, params_rf = train_model(rf, rf_param_grid, X_train, y_train, X_test, y_test)\n",
    "print(f\"Random Forest Accuaracy: {acc_rf}\")\n",
    "print(f\"Best parameters:\\n{params_rf}\")"
   ]
  },
  {
   "cell_type": "markdown",
   "id": "85c1018b",
   "metadata": {},
   "source": [
    "Der Random Forest verbessert die Vorhersage im Vergleich zum einzelnen Entscheidungsbaum: Die Accuracy steigt auf ca. 0,63 (vorher ~0,60). Das ist typisch für Ensemble-Methoden: Viele Bäume mitteln individuelle Fehler und liefern stabilere Ergebnisse. Die besten Hyperparameter deuten auf ein eher konservatives Modell hin."
   ]
  },
  {
   "cell_type": "code",
   "execution_count": 40,
   "id": "617a9559",
   "metadata": {},
   "outputs": [
    {
     "name": "stdout",
     "output_type": "stream",
     "text": [
      "Extra trees Accuaracy: 0.6285714285714286\n",
      "Best parameters:\n",
      "{'max_depth': None, 'min_samples_leaf': 1, 'min_samples_split': 10, 'n_estimators': 100}\n"
     ]
    }
   ],
   "source": [
    "et = ExtraTreesClassifier(random_state=42, class_weight=\"balanced\", n_jobs=-1)\n",
    "et_param_grid = {\n",
    "    \"n_estimators\": [100, 200],\n",
    "    \"max_depth\": [5, 7, 10, None],\n",
    "    \"min_samples_split\": [2, 5, 10],\n",
    "    \"min_samples_leaf\": [1, 2, 4]\n",
    "}\n",
    "best_et, acc_et, params_et = train_model(et, et_param_grid, X_train, y_train, X_test, y_test)\n",
    "print(f\"Extra trees Accuaracy: {acc_et}\")\n",
    "print(f\"Best parameters:\\n{params_et}\")"
   ]
  },
  {
   "cell_type": "markdown",
   "id": "08f49cfc",
   "metadata": {},
   "source": [
    "Der Extra-Trees-Klassifikator erreicht mit einer Accuracy von ca. 0,63 praktisch das gleiche Niveau wie der Random Forest (und etwas besser als der einzelne Entscheidungsbaum). Das passt zur Idee von Extra Trees: Durch stärkere Zufälligkeit bei den Splits sinkt die Varianz des Modells, ohne dass die Genauigkeit leidet. Trees liefert robuste, wettbewerbsfähige Ergebnisse bei geringem Tuning-Aufwand. Für die weitere Bewertung sollte man neben der Accuracy auch Konfusionsmatrix, Precision/Recall/F1 (insbesondere für die „bad“-Klasse) und ROC-AUC betrachten."
   ]
  },
  {
   "cell_type": "code",
   "execution_count": 41,
   "id": "d4c85a9c",
   "metadata": {},
   "outputs": [
    {
     "name": "stdout",
     "output_type": "stream",
     "text": [
      "XGB Accuracy: 0.6857142857142857\n",
      "Best parameters: {'colsample_bytree': 0.7, 'learning_rate': 0.2, 'max_depth': 5, 'n_estimators': 100, 'subsample': 0.7}\n"
     ]
    }
   ],
   "source": [
    "xgb = XGBClassifier(\n",
    "    random_state=42,\n",
    "    scale_pos_weight=(y_train == 0).sum() / (y_train == 1).sum(),    \n",
    "    eval_metric=\"logloss\",       \n",
    "    n_jobs=-1,                 \n",
    "    tree_method=\"hist\"      \n",
    ")\n",
    "\n",
    "xgb_param_grid = {\n",
    "    \"n_estimators\": [100, 200],\n",
    "    \"max_depth\": [3, 5, 7],\n",
    "    \"learning_rate\": [0.01, 0.1, 0.2],\n",
    "    \"subsample\": [0.7, 1.0],\n",
    "    \"colsample_bytree\": [0.7, 1.0]\n",
    "}\n",
    "\n",
    "best_xgb, acc_xgb, params_xgb = train_model(\n",
    "    xgb, xgb_param_grid, X_train, y_train, X_test, y_test\n",
    ")\n",
    "\n",
    "print(f\"XGB Accuracy: {acc_xgb}\")\n",
    "print(\"Best parameters:\", params_xgb)"
   ]
  },
  {
   "cell_type": "markdown",
   "id": "a9fec881",
   "metadata": {},
   "source": [
    "Da wir in der Praxis ein Modell haben wollen, das möglichst verlässliche Vorhersagen trifft, entscheiden ich mich für XGBoost. Für unsere Streamlit-Anwendung bedeutet das: Wir werden XGBoost als finales Modell exportieren und in die App einbauen. So können Nutzer dort später ihre Daten eingeben und eine Vorhersage über das Kreditrisiko bekommen – basierend auf dem leistungsstärksten Modell unserer Analyse.\n"
   ]
  },
  {
   "cell_type": "code",
   "execution_count": 42,
   "id": "34ffd829",
   "metadata": {},
   "outputs": [
    {
     "data": {
      "text/plain": [
       "['extra_trees_credit_model.pkl']"
      ]
     },
     "execution_count": 42,
     "metadata": {},
     "output_type": "execute_result"
    }
   ],
   "source": [
    "# Speichern\n",
    "joblib.dump(best_et, \"extra_trees_credit_model.pkl\")"
   ]
  }
 ],
 "metadata": {
  "kernelspec": {
   "display_name": ".venv",
   "language": "python",
   "name": "python3"
  },
  "language_info": {
   "codemirror_mode": {
    "name": "ipython",
    "version": 3
   },
   "file_extension": ".py",
   "mimetype": "text/x-python",
   "name": "python",
   "nbconvert_exporter": "python",
   "pygments_lexer": "ipython3",
   "version": "3.13.2"
  }
 },
 "nbformat": 4,
 "nbformat_minor": 5
}
